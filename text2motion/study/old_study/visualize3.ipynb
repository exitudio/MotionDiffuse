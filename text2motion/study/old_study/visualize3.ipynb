{
 "cells": [
  {
   "cell_type": "code",
   "execution_count": 1,
   "id": "aa5869da",
   "metadata": {
    "scrolled": true
   },
   "outputs": [
    {
     "name": "stdout",
     "output_type": "stream",
     "text": [
      "Reading ../checkpoints/t2m/t2m_motiondiffuse/opt.txt\n"
     ]
    },
    {
     "ename": "OutOfMemoryError",
     "evalue": "CUDA out of memory. Tried to allocate 20.00 MiB (GPU 0; 23.65 GiB total capacity; 324.45 MiB already allocated; 11.31 MiB free; 362.00 MiB reserved in total by PyTorch) If reserved memory is >> allocated memory try setting max_split_size_mb to avoid fragmentation.  See documentation for Memory Management and PYTORCH_CUDA_ALLOC_CONF",
     "output_type": "error",
     "traceback": [
      "\u001b[0;31m---------------------------------------------------------------------------\u001b[0m",
      "\u001b[0;31mOutOfMemoryError\u001b[0m                          Traceback (most recent call last)",
      "Input \u001b[0;32mIn [1]\u001b[0m, in \u001b[0;36m<cell line: 12>\u001b[0;34m()\u001b[0m\n\u001b[1;32m     10\u001b[0m \u001b[38;5;28;01mimport\u001b[39;00m \u001b[38;5;21;01mutils\u001b[39;00m\u001b[38;5;21;01m.\u001b[39;00m\u001b[38;5;21;01mparamUtil\u001b[39;00m \u001b[38;5;28;01mas\u001b[39;00m \u001b[38;5;21;01mparamUtil\u001b[39;00m\n\u001b[1;32m     11\u001b[0m \u001b[38;5;28;01mfrom\u001b[39;00m \u001b[38;5;21;01mutils\u001b[39;00m\u001b[38;5;21;01m.\u001b[39;00m\u001b[38;5;21;01mskeleton\u001b[39;00m \u001b[38;5;28;01mimport\u001b[39;00m Skeleton\n\u001b[0;32m---> 12\u001b[0m \u001b[38;5;28;01mfrom\u001b[39;00m \u001b[38;5;21;01mmylib\u001b[39;00m \u001b[38;5;28;01mimport\u001b[39;00m get_motion, animate3d, get_SMPL_layer, get6d, coco_bone, t2m_bone, smpl_smpl_bone\n\u001b[1;32m     13\u001b[0m \u001b[38;5;28;01mfrom\u001b[39;00m \u001b[38;5;21;01mutils\u001b[39;00m\u001b[38;5;21;01m.\u001b[39;00m\u001b[38;5;21;01mmotion_process\u001b[39;00m \u001b[38;5;28;01mimport\u001b[39;00m recover_from_ric, recover_from_rot, recover_root_rot_pos\n\u001b[1;32m     14\u001b[0m \u001b[38;5;28;01mfrom\u001b[39;00m \u001b[38;5;21;01mpytorch3d\u001b[39;00m\u001b[38;5;21;01m.\u001b[39;00m\u001b[38;5;21;01mtransforms\u001b[39;00m \u001b[38;5;28;01mimport\u001b[39;00m quaternion_to_axis_angle, matrix_to_axis_angle, rotation_6d_to_matrix, \\\n\u001b[1;32m     15\u001b[0m quaternion_to_matrix, axis_angle_to_quaternion, axis_angle_to_matrix, matrix_to_axis_angle, matrix_to_rotation_6d\n",
      "File \u001b[0;32m~/git/MotionDiffuse/text2motion/study/mylib.py:64\u001b[0m, in \u001b[0;36m<module>\u001b[0;34m\u001b[0m\n\u001b[1;32m     61\u001b[0m mean \u001b[38;5;241m=\u001b[39m np\u001b[38;5;241m.\u001b[39mload(\u001b[38;5;124m'\u001b[39m\u001b[38;5;124m../checkpoints/t2m/t2m_motiondiffuse/meta/mean.npy\u001b[39m\u001b[38;5;124m'\u001b[39m)\n\u001b[1;32m     62\u001b[0m std \u001b[38;5;241m=\u001b[39m np\u001b[38;5;241m.\u001b[39mload(\u001b[38;5;124m'\u001b[39m\u001b[38;5;124m../checkpoints/t2m/t2m_motiondiffuse/meta/std.npy\u001b[39m\u001b[38;5;124m'\u001b[39m)\n\u001b[0;32m---> 64\u001b[0m encoder \u001b[38;5;241m=\u001b[39m \u001b[43mbuild_models\u001b[49m\u001b[43m(\u001b[49m\u001b[43mopt\u001b[49m\u001b[43m)\u001b[49m\u001b[38;5;241;43m.\u001b[39;49m\u001b[43mto\u001b[49m\u001b[43m(\u001b[49m\u001b[43mdevice\u001b[49m\u001b[43m)\u001b[49m\n\u001b[1;32m     65\u001b[0m trainer \u001b[38;5;241m=\u001b[39m DDPMTrainer(opt, encoder)\n\u001b[1;32m     66\u001b[0m trainer\u001b[38;5;241m.\u001b[39mload(\u001b[38;5;124m'\u001b[39m\u001b[38;5;124m../checkpoints/t2m/t2m_motiondiffuse/model/latest.tar\u001b[39m\u001b[38;5;124m'\u001b[39m)\n",
      "File \u001b[0;32m~/miniconda3/envs/motiondiffuse/lib/python3.10/site-packages/torch/nn/modules/module.py:987\u001b[0m, in \u001b[0;36mModule.to\u001b[0;34m(self, *args, **kwargs)\u001b[0m\n\u001b[1;32m    983\u001b[0m         \u001b[38;5;28;01mreturn\u001b[39;00m t\u001b[38;5;241m.\u001b[39mto(device, dtype \u001b[38;5;28;01mif\u001b[39;00m t\u001b[38;5;241m.\u001b[39mis_floating_point() \u001b[38;5;129;01mor\u001b[39;00m t\u001b[38;5;241m.\u001b[39mis_complex() \u001b[38;5;28;01melse\u001b[39;00m \u001b[38;5;28;01mNone\u001b[39;00m,\n\u001b[1;32m    984\u001b[0m                     non_blocking, memory_format\u001b[38;5;241m=\u001b[39mconvert_to_format)\n\u001b[1;32m    985\u001b[0m     \u001b[38;5;28;01mreturn\u001b[39;00m t\u001b[38;5;241m.\u001b[39mto(device, dtype \u001b[38;5;28;01mif\u001b[39;00m t\u001b[38;5;241m.\u001b[39mis_floating_point() \u001b[38;5;129;01mor\u001b[39;00m t\u001b[38;5;241m.\u001b[39mis_complex() \u001b[38;5;28;01melse\u001b[39;00m \u001b[38;5;28;01mNone\u001b[39;00m, non_blocking)\n\u001b[0;32m--> 987\u001b[0m \u001b[38;5;28;01mreturn\u001b[39;00m \u001b[38;5;28;43mself\u001b[39;49m\u001b[38;5;241;43m.\u001b[39;49m\u001b[43m_apply\u001b[49m\u001b[43m(\u001b[49m\u001b[43mconvert\u001b[49m\u001b[43m)\u001b[49m\n",
      "File \u001b[0;32m~/miniconda3/envs/motiondiffuse/lib/python3.10/site-packages/torch/nn/modules/module.py:639\u001b[0m, in \u001b[0;36mModule._apply\u001b[0;34m(self, fn)\u001b[0m\n\u001b[1;32m    637\u001b[0m \u001b[38;5;28;01mdef\u001b[39;00m \u001b[38;5;21m_apply\u001b[39m(\u001b[38;5;28mself\u001b[39m, fn):\n\u001b[1;32m    638\u001b[0m     \u001b[38;5;28;01mfor\u001b[39;00m module \u001b[38;5;129;01min\u001b[39;00m \u001b[38;5;28mself\u001b[39m\u001b[38;5;241m.\u001b[39mchildren():\n\u001b[0;32m--> 639\u001b[0m         \u001b[43mmodule\u001b[49m\u001b[38;5;241;43m.\u001b[39;49m\u001b[43m_apply\u001b[49m\u001b[43m(\u001b[49m\u001b[43mfn\u001b[49m\u001b[43m)\u001b[49m\n\u001b[1;32m    641\u001b[0m     \u001b[38;5;28;01mdef\u001b[39;00m \u001b[38;5;21mcompute_should_use_set_data\u001b[39m(tensor, tensor_applied):\n\u001b[1;32m    642\u001b[0m         \u001b[38;5;28;01mif\u001b[39;00m torch\u001b[38;5;241m.\u001b[39m_has_compatible_shallow_copy_type(tensor, tensor_applied):\n\u001b[1;32m    643\u001b[0m             \u001b[38;5;66;03m# If the new tensor has compatible tensor type as the existing tensor,\u001b[39;00m\n\u001b[1;32m    644\u001b[0m             \u001b[38;5;66;03m# the current behavior is to change the tensor in-place using `.data =`,\u001b[39;00m\n\u001b[0;32m   (...)\u001b[0m\n\u001b[1;32m    649\u001b[0m             \u001b[38;5;66;03m# global flag to let the user control whether they want the future\u001b[39;00m\n\u001b[1;32m    650\u001b[0m             \u001b[38;5;66;03m# behavior of overwriting the existing tensor or not.\u001b[39;00m\n",
      "File \u001b[0;32m~/miniconda3/envs/motiondiffuse/lib/python3.10/site-packages/torch/nn/modules/module.py:639\u001b[0m, in \u001b[0;36mModule._apply\u001b[0;34m(self, fn)\u001b[0m\n\u001b[1;32m    637\u001b[0m \u001b[38;5;28;01mdef\u001b[39;00m \u001b[38;5;21m_apply\u001b[39m(\u001b[38;5;28mself\u001b[39m, fn):\n\u001b[1;32m    638\u001b[0m     \u001b[38;5;28;01mfor\u001b[39;00m module \u001b[38;5;129;01min\u001b[39;00m \u001b[38;5;28mself\u001b[39m\u001b[38;5;241m.\u001b[39mchildren():\n\u001b[0;32m--> 639\u001b[0m         \u001b[43mmodule\u001b[49m\u001b[38;5;241;43m.\u001b[39;49m\u001b[43m_apply\u001b[49m\u001b[43m(\u001b[49m\u001b[43mfn\u001b[49m\u001b[43m)\u001b[49m\n\u001b[1;32m    641\u001b[0m     \u001b[38;5;28;01mdef\u001b[39;00m \u001b[38;5;21mcompute_should_use_set_data\u001b[39m(tensor, tensor_applied):\n\u001b[1;32m    642\u001b[0m         \u001b[38;5;28;01mif\u001b[39;00m torch\u001b[38;5;241m.\u001b[39m_has_compatible_shallow_copy_type(tensor, tensor_applied):\n\u001b[1;32m    643\u001b[0m             \u001b[38;5;66;03m# If the new tensor has compatible tensor type as the existing tensor,\u001b[39;00m\n\u001b[1;32m    644\u001b[0m             \u001b[38;5;66;03m# the current behavior is to change the tensor in-place using `.data =`,\u001b[39;00m\n\u001b[0;32m   (...)\u001b[0m\n\u001b[1;32m    649\u001b[0m             \u001b[38;5;66;03m# global flag to let the user control whether they want the future\u001b[39;00m\n\u001b[1;32m    650\u001b[0m             \u001b[38;5;66;03m# behavior of overwriting the existing tensor or not.\u001b[39;00m\n",
      "    \u001b[0;31m[... skipping similar frames: Module._apply at line 639 (4 times)]\u001b[0m\n",
      "File \u001b[0;32m~/miniconda3/envs/motiondiffuse/lib/python3.10/site-packages/torch/nn/modules/module.py:639\u001b[0m, in \u001b[0;36mModule._apply\u001b[0;34m(self, fn)\u001b[0m\n\u001b[1;32m    637\u001b[0m \u001b[38;5;28;01mdef\u001b[39;00m \u001b[38;5;21m_apply\u001b[39m(\u001b[38;5;28mself\u001b[39m, fn):\n\u001b[1;32m    638\u001b[0m     \u001b[38;5;28;01mfor\u001b[39;00m module \u001b[38;5;129;01min\u001b[39;00m \u001b[38;5;28mself\u001b[39m\u001b[38;5;241m.\u001b[39mchildren():\n\u001b[0;32m--> 639\u001b[0m         \u001b[43mmodule\u001b[49m\u001b[38;5;241;43m.\u001b[39;49m\u001b[43m_apply\u001b[49m\u001b[43m(\u001b[49m\u001b[43mfn\u001b[49m\u001b[43m)\u001b[49m\n\u001b[1;32m    641\u001b[0m     \u001b[38;5;28;01mdef\u001b[39;00m \u001b[38;5;21mcompute_should_use_set_data\u001b[39m(tensor, tensor_applied):\n\u001b[1;32m    642\u001b[0m         \u001b[38;5;28;01mif\u001b[39;00m torch\u001b[38;5;241m.\u001b[39m_has_compatible_shallow_copy_type(tensor, tensor_applied):\n\u001b[1;32m    643\u001b[0m             \u001b[38;5;66;03m# If the new tensor has compatible tensor type as the existing tensor,\u001b[39;00m\n\u001b[1;32m    644\u001b[0m             \u001b[38;5;66;03m# the current behavior is to change the tensor in-place using `.data =`,\u001b[39;00m\n\u001b[0;32m   (...)\u001b[0m\n\u001b[1;32m    649\u001b[0m             \u001b[38;5;66;03m# global flag to let the user control whether they want the future\u001b[39;00m\n\u001b[1;32m    650\u001b[0m             \u001b[38;5;66;03m# behavior of overwriting the existing tensor or not.\u001b[39;00m\n",
      "File \u001b[0;32m~/miniconda3/envs/motiondiffuse/lib/python3.10/site-packages/torch/nn/modules/module.py:662\u001b[0m, in \u001b[0;36mModule._apply\u001b[0;34m(self, fn)\u001b[0m\n\u001b[1;32m    658\u001b[0m \u001b[38;5;66;03m# Tensors stored in modules are graph leaves, and we don't want to\u001b[39;00m\n\u001b[1;32m    659\u001b[0m \u001b[38;5;66;03m# track autograd history of `param_applied`, so we have to use\u001b[39;00m\n\u001b[1;32m    660\u001b[0m \u001b[38;5;66;03m# `with torch.no_grad():`\u001b[39;00m\n\u001b[1;32m    661\u001b[0m \u001b[38;5;28;01mwith\u001b[39;00m torch\u001b[38;5;241m.\u001b[39mno_grad():\n\u001b[0;32m--> 662\u001b[0m     param_applied \u001b[38;5;241m=\u001b[39m \u001b[43mfn\u001b[49m\u001b[43m(\u001b[49m\u001b[43mparam\u001b[49m\u001b[43m)\u001b[49m\n\u001b[1;32m    663\u001b[0m should_use_set_data \u001b[38;5;241m=\u001b[39m compute_should_use_set_data(param, param_applied)\n\u001b[1;32m    664\u001b[0m \u001b[38;5;28;01mif\u001b[39;00m should_use_set_data:\n",
      "File \u001b[0;32m~/miniconda3/envs/motiondiffuse/lib/python3.10/site-packages/torch/nn/modules/module.py:985\u001b[0m, in \u001b[0;36mModule.to.<locals>.convert\u001b[0;34m(t)\u001b[0m\n\u001b[1;32m    982\u001b[0m \u001b[38;5;28;01mif\u001b[39;00m convert_to_format \u001b[38;5;129;01mis\u001b[39;00m \u001b[38;5;129;01mnot\u001b[39;00m \u001b[38;5;28;01mNone\u001b[39;00m \u001b[38;5;129;01mand\u001b[39;00m t\u001b[38;5;241m.\u001b[39mdim() \u001b[38;5;129;01min\u001b[39;00m (\u001b[38;5;241m4\u001b[39m, \u001b[38;5;241m5\u001b[39m):\n\u001b[1;32m    983\u001b[0m     \u001b[38;5;28;01mreturn\u001b[39;00m t\u001b[38;5;241m.\u001b[39mto(device, dtype \u001b[38;5;28;01mif\u001b[39;00m t\u001b[38;5;241m.\u001b[39mis_floating_point() \u001b[38;5;129;01mor\u001b[39;00m t\u001b[38;5;241m.\u001b[39mis_complex() \u001b[38;5;28;01melse\u001b[39;00m \u001b[38;5;28;01mNone\u001b[39;00m,\n\u001b[1;32m    984\u001b[0m                 non_blocking, memory_format\u001b[38;5;241m=\u001b[39mconvert_to_format)\n\u001b[0;32m--> 985\u001b[0m \u001b[38;5;28;01mreturn\u001b[39;00m \u001b[43mt\u001b[49m\u001b[38;5;241;43m.\u001b[39;49m\u001b[43mto\u001b[49m\u001b[43m(\u001b[49m\u001b[43mdevice\u001b[49m\u001b[43m,\u001b[49m\u001b[43m \u001b[49m\u001b[43mdtype\u001b[49m\u001b[43m \u001b[49m\u001b[38;5;28;43;01mif\u001b[39;49;00m\u001b[43m \u001b[49m\u001b[43mt\u001b[49m\u001b[38;5;241;43m.\u001b[39;49m\u001b[43mis_floating_point\u001b[49m\u001b[43m(\u001b[49m\u001b[43m)\u001b[49m\u001b[43m \u001b[49m\u001b[38;5;129;43;01mor\u001b[39;49;00m\u001b[43m \u001b[49m\u001b[43mt\u001b[49m\u001b[38;5;241;43m.\u001b[39;49m\u001b[43mis_complex\u001b[49m\u001b[43m(\u001b[49m\u001b[43m)\u001b[49m\u001b[43m \u001b[49m\u001b[38;5;28;43;01melse\u001b[39;49;00m\u001b[43m \u001b[49m\u001b[38;5;28;43;01mNone\u001b[39;49;00m\u001b[43m,\u001b[49m\u001b[43m \u001b[49m\u001b[43mnon_blocking\u001b[49m\u001b[43m)\u001b[49m\n",
      "\u001b[0;31mOutOfMemoryError\u001b[0m: CUDA out of memory. Tried to allocate 20.00 MiB (GPU 0; 23.65 GiB total capacity; 324.45 MiB already allocated; 11.31 MiB free; 362.00 MiB reserved in total by PyTorch) If reserved memory is >> allocated memory try setting max_split_size_mb to avoid fragmentation.  See documentation for Memory Management and PYTORCH_CUDA_ALLOC_CONF"
     ]
    }
   ],
   "source": [
    "import sys\n",
    "sys.path.append('../')\n",
    "\n",
    "%reload_ext autoreload\n",
    "%autoreload 2\n",
    "%matplotlib notebook\n",
    "import matplotlib.pyplot as plt\n",
    "import torch\n",
    "import numpy as np\n",
    "import utils.paramUtil as paramUtil\n",
    "from utils.skeleton import Skeleton\n",
    "from mylib import get_motion, animate3d, get_SMPL_layer, get6d, coco_bone, t2m_bone, smpl_smpl_bone\n",
    "from utils.motion_process import recover_from_ric, recover_from_rot, recover_root_rot_pos\n",
    "from pytorch3d.transforms import quaternion_to_axis_angle, matrix_to_axis_angle, rotation_6d_to_matrix, \\\n",
    "quaternion_to_matrix, axis_angle_to_quaternion, axis_angle_to_matrix, matrix_to_axis_angle, matrix_to_rotation_6d"
   ]
  },
  {
   "cell_type": "code",
   "execution_count": null,
   "id": "8b3d4a4b",
   "metadata": {},
   "outputs": [],
   "source": [
    "data = torch.from_numpy(get_motion()).float()\n",
    "joint_dataset = recover_from_ric(data, joints_num=22).numpy()\n",
    "joint_w_hand = joint_dataset.copy()\n",
    "joint_w_hand = np.concatenate((joint_w_hand, joint_w_hand[:, 20:22]), axis=1)\n",
    "joint_w_hand.shape"
   ]
  },
  {
   "cell_type": "code",
   "execution_count": null,
   "id": "5b6326e4",
   "metadata": {},
   "outputs": [],
   "source": [
    "def get_neutral_angle_offset(_kinematic_tree, joints):\n",
    "    _parents = [0] * len(joints)\n",
    "    _parents[0] = -1\n",
    "    for chain in _kinematic_tree:\n",
    "        for j in range(1, len(chain)):\n",
    "            _parents[chain[j]] = chain[j-1]\n",
    "            \n",
    "    angle_offset = torch.zeros(joints.shape)\n",
    "    for i in range(1, angle_offset.shape[0]):\n",
    "        angle_offset[i] = joints[i] - joints[_parents[i]]\n",
    "        angle_offset[i] = angle_offset[i]/torch.linalg.norm(angle_offset[i] , ord=2)\n",
    "    return angle_offset\n",
    "pose_params = torch.zeros((1,72))\n",
    "verts, Jtr = get_SMPL_layer(pose_params, display=True)\n",
    "angle_offset = get_neutral_angle_offset(paramUtil.t2m_kinematic_chain, Jtr[0])"
   ]
  },
  {
   "cell_type": "code",
   "execution_count": null,
   "id": "5937aa7f",
   "metadata": {},
   "outputs": [],
   "source": [
    "def move_angle_to_parent(angle_old):\n",
    "    _kinematic_tree = [[0, 2, 5, 8, 11], [0, 1, 4, 7, 10], [0, 3, 6, 9, 12, 15], [9, 14, 17, 19, 21,23], [9, 13, 16, 18, 20,22]]\n",
    "    _parents = [0] * angle_old.shape[1]\n",
    "    _parents[0] = -1\n",
    "    for chain in _kinematic_tree:\n",
    "        for j in range(1, len(chain)):\n",
    "            _parents[chain[j]] = chain[j-1]\n",
    "    angle_new = torch.zeros(angle_old.shape)\n",
    "    for i in range(1, angle_new.shape[1]):\n",
    "        angle_new[0,_parents[i]] = angle_old[0,i]\n",
    "    return angle_new\n",
    "a = move_angle_to_parent(pose_params)"
   ]
  },
  {
   "cell_type": "markdown",
   "id": "fea87690",
   "metadata": {},
   "source": [
    "### 1. Compare IK & FK\n",
    "- [1] dataset j\n",
    "- [2] dataset j --IK--> angle --FK--> j"
   ]
  },
  {
   "cell_type": "code",
   "execution_count": null,
   "id": "b68e2c12",
   "metadata": {},
   "outputs": [],
   "source": [
    "tgt_skel = Skeleton(angle_offset, paramUtil.t2m_kinematic_chain, 'cpu')\n",
    "# 1. dataset j\n",
    "vis_joint = joint_w_hand[0:1]\n",
    "\n",
    "# 2.1 IK\n",
    "quat_params = tgt_skel.inverse_kinematics_np(vis_joint, face_joint_idx=[2, 1, 17, 16])\n",
    "tgt_offsets = tgt_skel.get_offsets_joints(torch.from_numpy(vis_joint[0]))\n",
    "# 2.2 FK\n",
    "joint_forward = tgt_skel.forward_kinematics(torch.from_numpy(quat_params).float(), root_pos=torch.from_numpy(vis_joint[0,0]))\n",
    "\n",
    "joint_original_forward = np.concatenate((vis_joint[:,:22], joint_forward[:,:22]), axis=1)\n",
    "animate3d(joint_original_forward, smpl_smpl_bone, first_total_standard=63)"
   ]
  },
  {
   "cell_type": "markdown",
   "id": "11c830d7",
   "metadata": {},
   "source": [
    "### 1.1 Rest Pose\n",
    "- [1] (0,0,0) --SMPL--> j\n",
    "- [2] j --IK--> angle --FK--> j"
   ]
  },
  {
   "cell_type": "code",
   "execution_count": 6,
   "id": "18fd7e64",
   "metadata": {},
   "outputs": [
    {
     "name": "stdout",
     "output_type": "stream",
     "text": [
      "torch.Size([24, 6890])\n"
     ]
    },
    {
     "data": {
      "application/vnd.plotly.v1+json": {
       "config": {
        "plotlyServerURL": "https://plot.ly"
       },
       "data": [
        {
         "marker": {
          "color": "blue",
          "size": 3
         },
         "mode": "lines+markers",
         "name": "Nodes0",
         "type": "scatter3d",
         "x": [
          0.028484944254159927,
          0.01488855853676796,
          null,
          0.01488855853676796,
          0.010020914487540722,
          null,
          0.010020914487540722,
          -0.02453528344631195,
          null,
          -0.02453528344631195,
          0.10575547814369202,
          null,
          0.028484944254159927,
          0.010775452479720116,
          null,
          0.010775452479720116,
          0.018781138584017754,
          null,
          0.018781138584017754,
          -0.018642770126461983,
          null,
          -0.018642770126461983,
          0.10336648672819138,
          null,
          0.028484944254159927,
          -0.00983358547091484,
          null,
          -0.00983358547091484,
          0.017015986144542694,
          null,
          0.017015986144542694,
          0.01986432634294033,
          null,
          0.01986432634294033,
          -0.013514453545212746,
          null,
          -0.013514453545212746,
          0.03695334494113922,
          null,
          0.01986432634294033,
          -0.00382084958255291,
          null,
          -0.00382084958255291,
          -0.11703281849622726,
          null,
          -0.11703281849622726,
          -0.3771727383136749,
          null,
          -0.3771727383136749,
          -0.6462380886077881,
          null,
          0.01986432634294033,
          0.000982804223895073,
          null,
          0.000982804223895073,
          -0.12191244214773178,
          null,
          -0.12191244214773178,
          -0.37726810574531555,
          null,
          -0.37726810574531555,
          -0.6428936719894409,
          null
         ],
         "y": [
          0.0021562613546848297,
          0.062469735741615295,
          null,
          0.062469735741615295,
          0.10575146228075027,
          null,
          0.10575146228075027,
          0.0867057517170906,
          null,
          0.0867057517170906,
          0.12154143303632736,
          null,
          0.0021562613546848297,
          -0.0564214326441288,
          null,
          -0.0564214326441288,
          -0.09989352524280548,
          null,
          -0.09989352524280548,
          -0.0851162001490593,
          null,
          -0.0851162001490593,
          -0.1262097805738449,
          null,
          0.0021562613546848297,
          -0.002283249981701374,
          null,
          -0.002283249981701374,
          -0.006766330450773239,
          null,
          -0.006766330450773239,
          -0.004498250782489777,
          null,
          -0.004498250782489777,
          0.008893129415810108,
          null,
          0.008893129415810108,
          -0.0012191925197839737,
          null,
          -0.004498250782489777,
          0.07845470309257507,
          null,
          0.07845470309257507,
          0.07008246332406998,
          null,
          0.07008246332406998,
          0.03905460983514786,
          null,
          0.03905460983514786,
          0.03323410451412201,
          null,
          -0.004498250782489777,
          -0.07618499547243118,
          null,
          -0.07618499547243118,
          -0.05724430829286575,
          null,
          -0.05724430829286575,
          -0.034541331231594086,
          null,
          -0.034541331231594086,
          -0.027364403009414673,
          null
         ],
         "z": [
          -0.24074336886405945,
          -0.33124467730522156,
          null,
          -0.33124467730522156,
          -0.7149828672409058,
          null,
          -0.7149828672409058,
          -1.1349802017211914,
          null,
          -1.1349802017211914,
          -1.1970977783203125,
          null,
          -0.24074336886405945,
          -0.32301759719848633,
          null,
          -0.32301759719848633,
          -0.709549605846405,
          null,
          -0.709549605846405,
          -1.1363675594329834,
          null,
          -1.1363675594329834,
          -1.1966519355773926,
          null,
          -0.24074336886405945,
          -0.1163797676563263,
          null,
          -0.1163797676563263,
          0.021572202444076538,
          null,
          0.021572202444076538,
          0.07759823650121689,
          null,
          0.07759823650121689,
          0.28920412063598633,
          null,
          0.28920412063598633,
          0.3782299757003784,
          null,
          0.07759823650121689,
          0.19004565477371216,
          null,
          0.19004565477371216,
          0.23690584301948547,
          null,
          0.23690584301948547,
          0.22250831127166748,
          null,
          0.22250831127166748,
          0.22931544482707977,
          null,
          0.07759823650121689,
          0.19156226515769958,
          null,
          0.19156226515769958,
          0.23677252233028412,
          null,
          0.23677252233028412,
          0.22110868990421295,
          null,
          0.22110868990421295,
          0.23379644751548767,
          null
         ]
        },
        {
         "marker": {
          "color": "red",
          "size": 3
         },
         "mode": "lines+markers",
         "name": "Nodes1",
         "type": "scatter3d",
         "x": [
          0.028484944254159927,
          0.014810227788984776,
          null,
          0.014810227788984776,
          0.00996275432407856,
          null,
          0.00996275432407856,
          -0.02456197701394558,
          null,
          -0.02456197701394558,
          0.10572182387113571,
          null,
          0.028484944254159927,
          0.010714184492826462,
          null,
          0.010714184492826462,
          0.01872980035841465,
          null,
          0.01872980035841465,
          -0.018661724403500557,
          null,
          -0.018661724403500557,
          0.10332264006137848,
          null,
          0.028484944254159927,
          -0.00974993035197258,
          null,
          -0.00974993035197258,
          0.01713348552584648,
          null,
          0.01713348552584648,
          0.019963214173913002,
          null,
          0.019963214173913002,
          -0.013359969481825829,
          null,
          -0.013359969481825829,
          0.03708251565694809,
          null,
          0.019963214173913002,
          -0.06300697475671768,
          null,
          -0.06300697475671768,
          -0.1762068271636963,
          null,
          -0.1762068271636963,
          -0.43635234236717224,
          null,
          -0.43635234236717224,
          -0.7054170370101929,
          null,
          0.019963214173913002,
          -0.0517282709479332,
          null,
          -0.0517282709479332,
          -0.17461511492729187,
          null,
          -0.17461511492729187,
          -0.42997491359710693,
          null,
          -0.42997491359710693,
          -0.6956006288528442,
          null
         ],
         "y": [
          0.0021562613546848297,
          0.062443844974040985,
          null,
          0.062443844974040985,
          0.10576361417770386,
          null,
          0.10576361417770386,
          0.08672738075256348,
          null,
          0.08672738075256348,
          0.12154171615839005,
          null,
          0.0021562613546848297,
          -0.05639469996094704,
          null,
          -0.05639469996094704,
          -0.09990321099758148,
          null,
          -0.09990321099758148,
          -0.08514957875013351,
          null,
          -0.08514957875013351,
          -0.1263055056333542,
          null,
          0.0021562613546848297,
          -0.00228336313739419,
          null,
          -0.00228336313739419,
          -0.0067616901360452175,
          null,
          -0.0067616901360452175,
          -0.004493295215070248,
          null,
          -0.004493295215070248,
          0.00890345685184002,
          null,
          0.00890345685184002,
          -0.0011973939836025238,
          null,
          -0.004493295215070248,
          -0.02809847891330719,
          null,
          -0.02809847891330719,
          -0.036435969173908234,
          null,
          -0.036435969173908234,
          -0.06739280372858047,
          null,
          -0.06739280372858047,
          -0.07322148233652115,
          null,
          -0.004493295215070248,
          0.014324882067739964,
          null,
          0.014324882067739964,
          0.033225491642951965,
          null,
          0.033225491642951965,
          0.055871084332466125,
          null,
          0.055871084332466125,
          0.06307266652584076,
          null
         ],
         "z": [
          -0.24074336886405945,
          -0.3312501311302185,
          null,
          -0.3312501311302185,
          -0.7149842977523804,
          null,
          -0.7149842977523804,
          -1.1349847316741943,
          null,
          -1.1349847316741943,
          -1.1971288919448853,
          null,
          -0.24074336886405945,
          -0.32302340865135193,
          null,
          -0.32302340865135193,
          -0.7095510959625244,
          null,
          -0.7095510959625244,
          -1.136372685432434,
          null,
          -1.136372685432434,
          -1.1966649293899536,
          null,
          -0.24074336886405945,
          -0.11635401844978333,
          null,
          -0.11635401844978333,
          0.021591514348983765,
          null,
          0.021591514348983765,
          0.07761847972869873,
          null,
          0.07761847972869873,
          0.2892327606678009,
          null,
          0.2892327606678009,
          0.37827426195144653,
          null,
          0.07761847972869873,
          0.1900700032711029,
          null,
          0.1900700032711029,
          0.23696565628051758,
          null,
          0.23696565628051758,
          0.22251611948013306,
          null,
          0.22251611948013306,
          0.22934146225452423,
          null,
          0.07761847972869873,
          0.19158999621868134,
          null,
          0.19158999621868134,
          0.2368398904800415,
          null,
          0.2368398904800415,
          0.22116078436374664,
          null,
          0.22116078436374664,
          0.2338312268257141,
          null
         ]
        }
       ],
       "frames": [
        {
         "data": [
          {
           "marker": {
            "color": "blue",
            "size": 3
           },
           "mode": "lines+markers",
           "name": "Nodes0",
           "type": "scatter3d",
           "x": [
            0.028484944254159927,
            0.01488855853676796,
            null,
            0.01488855853676796,
            0.010020914487540722,
            null,
            0.010020914487540722,
            -0.02453528344631195,
            null,
            -0.02453528344631195,
            0.10575547814369202,
            null,
            0.028484944254159927,
            0.010775452479720116,
            null,
            0.010775452479720116,
            0.018781138584017754,
            null,
            0.018781138584017754,
            -0.018642770126461983,
            null,
            -0.018642770126461983,
            0.10336648672819138,
            null,
            0.028484944254159927,
            -0.00983358547091484,
            null,
            -0.00983358547091484,
            0.017015986144542694,
            null,
            0.017015986144542694,
            0.01986432634294033,
            null,
            0.01986432634294033,
            -0.013514453545212746,
            null,
            -0.013514453545212746,
            0.03695334494113922,
            null,
            0.01986432634294033,
            -0.00382084958255291,
            null,
            -0.00382084958255291,
            -0.11703281849622726,
            null,
            -0.11703281849622726,
            -0.3771727383136749,
            null,
            -0.3771727383136749,
            -0.6462380886077881,
            null,
            0.01986432634294033,
            0.000982804223895073,
            null,
            0.000982804223895073,
            -0.12191244214773178,
            null,
            -0.12191244214773178,
            -0.37726810574531555,
            null,
            -0.37726810574531555,
            -0.6428936719894409,
            null
           ],
           "y": [
            0.0021562613546848297,
            0.062469735741615295,
            null,
            0.062469735741615295,
            0.10575146228075027,
            null,
            0.10575146228075027,
            0.0867057517170906,
            null,
            0.0867057517170906,
            0.12154143303632736,
            null,
            0.0021562613546848297,
            -0.0564214326441288,
            null,
            -0.0564214326441288,
            -0.09989352524280548,
            null,
            -0.09989352524280548,
            -0.0851162001490593,
            null,
            -0.0851162001490593,
            -0.1262097805738449,
            null,
            0.0021562613546848297,
            -0.002283249981701374,
            null,
            -0.002283249981701374,
            -0.006766330450773239,
            null,
            -0.006766330450773239,
            -0.004498250782489777,
            null,
            -0.004498250782489777,
            0.008893129415810108,
            null,
            0.008893129415810108,
            -0.0012191925197839737,
            null,
            -0.004498250782489777,
            0.07845470309257507,
            null,
            0.07845470309257507,
            0.07008246332406998,
            null,
            0.07008246332406998,
            0.03905460983514786,
            null,
            0.03905460983514786,
            0.03323410451412201,
            null,
            -0.004498250782489777,
            -0.07618499547243118,
            null,
            -0.07618499547243118,
            -0.05724430829286575,
            null,
            -0.05724430829286575,
            -0.034541331231594086,
            null,
            -0.034541331231594086,
            -0.027364403009414673,
            null
           ],
           "z": [
            -0.24074336886405945,
            -0.33124467730522156,
            null,
            -0.33124467730522156,
            -0.7149828672409058,
            null,
            -0.7149828672409058,
            -1.1349802017211914,
            null,
            -1.1349802017211914,
            -1.1970977783203125,
            null,
            -0.24074336886405945,
            -0.32301759719848633,
            null,
            -0.32301759719848633,
            -0.709549605846405,
            null,
            -0.709549605846405,
            -1.1363675594329834,
            null,
            -1.1363675594329834,
            -1.1966519355773926,
            null,
            -0.24074336886405945,
            -0.1163797676563263,
            null,
            -0.1163797676563263,
            0.021572202444076538,
            null,
            0.021572202444076538,
            0.07759823650121689,
            null,
            0.07759823650121689,
            0.28920412063598633,
            null,
            0.28920412063598633,
            0.3782299757003784,
            null,
            0.07759823650121689,
            0.19004565477371216,
            null,
            0.19004565477371216,
            0.23690584301948547,
            null,
            0.23690584301948547,
            0.22250831127166748,
            null,
            0.22250831127166748,
            0.22931544482707977,
            null,
            0.07759823650121689,
            0.19156226515769958,
            null,
            0.19156226515769958,
            0.23677252233028412,
            null,
            0.23677252233028412,
            0.22110868990421295,
            null,
            0.22110868990421295,
            0.23379644751548767,
            null
           ]
          },
          {
           "marker": {
            "color": "red",
            "size": 3
           },
           "mode": "lines+markers",
           "name": "Nodes1",
           "type": "scatter3d",
           "x": [
            0.028484944254159927,
            0.014810227788984776,
            null,
            0.014810227788984776,
            0.00996275432407856,
            null,
            0.00996275432407856,
            -0.02456197701394558,
            null,
            -0.02456197701394558,
            0.10572182387113571,
            null,
            0.028484944254159927,
            0.010714184492826462,
            null,
            0.010714184492826462,
            0.01872980035841465,
            null,
            0.01872980035841465,
            -0.018661724403500557,
            null,
            -0.018661724403500557,
            0.10332264006137848,
            null,
            0.028484944254159927,
            -0.00974993035197258,
            null,
            -0.00974993035197258,
            0.01713348552584648,
            null,
            0.01713348552584648,
            0.019963214173913002,
            null,
            0.019963214173913002,
            -0.013359969481825829,
            null,
            -0.013359969481825829,
            0.03708251565694809,
            null,
            0.019963214173913002,
            -0.06300697475671768,
            null,
            -0.06300697475671768,
            -0.1762068271636963,
            null,
            -0.1762068271636963,
            -0.43635234236717224,
            null,
            -0.43635234236717224,
            -0.7054170370101929,
            null,
            0.019963214173913002,
            -0.0517282709479332,
            null,
            -0.0517282709479332,
            -0.17461511492729187,
            null,
            -0.17461511492729187,
            -0.42997491359710693,
            null,
            -0.42997491359710693,
            -0.6956006288528442,
            null
           ],
           "y": [
            0.0021562613546848297,
            0.062443844974040985,
            null,
            0.062443844974040985,
            0.10576361417770386,
            null,
            0.10576361417770386,
            0.08672738075256348,
            null,
            0.08672738075256348,
            0.12154171615839005,
            null,
            0.0021562613546848297,
            -0.05639469996094704,
            null,
            -0.05639469996094704,
            -0.09990321099758148,
            null,
            -0.09990321099758148,
            -0.08514957875013351,
            null,
            -0.08514957875013351,
            -0.1263055056333542,
            null,
            0.0021562613546848297,
            -0.00228336313739419,
            null,
            -0.00228336313739419,
            -0.0067616901360452175,
            null,
            -0.0067616901360452175,
            -0.004493295215070248,
            null,
            -0.004493295215070248,
            0.00890345685184002,
            null,
            0.00890345685184002,
            -0.0011973939836025238,
            null,
            -0.004493295215070248,
            -0.02809847891330719,
            null,
            -0.02809847891330719,
            -0.036435969173908234,
            null,
            -0.036435969173908234,
            -0.06739280372858047,
            null,
            -0.06739280372858047,
            -0.07322148233652115,
            null,
            -0.004493295215070248,
            0.014324882067739964,
            null,
            0.014324882067739964,
            0.033225491642951965,
            null,
            0.033225491642951965,
            0.055871084332466125,
            null,
            0.055871084332466125,
            0.06307266652584076,
            null
           ],
           "z": [
            -0.24074336886405945,
            -0.3312501311302185,
            null,
            -0.3312501311302185,
            -0.7149842977523804,
            null,
            -0.7149842977523804,
            -1.1349847316741943,
            null,
            -1.1349847316741943,
            -1.1971288919448853,
            null,
            -0.24074336886405945,
            -0.32302340865135193,
            null,
            -0.32302340865135193,
            -0.7095510959625244,
            null,
            -0.7095510959625244,
            -1.136372685432434,
            null,
            -1.136372685432434,
            -1.1966649293899536,
            null,
            -0.24074336886405945,
            -0.11635401844978333,
            null,
            -0.11635401844978333,
            0.021591514348983765,
            null,
            0.021591514348983765,
            0.07761847972869873,
            null,
            0.07761847972869873,
            0.2892327606678009,
            null,
            0.2892327606678009,
            0.37827426195144653,
            null,
            0.07761847972869873,
            0.1900700032711029,
            null,
            0.1900700032711029,
            0.23696565628051758,
            null,
            0.23696565628051758,
            0.22251611948013306,
            null,
            0.22251611948013306,
            0.22934146225452423,
            null,
            0.07761847972869873,
            0.19158999621868134,
            null,
            0.19158999621868134,
            0.2368398904800415,
            null,
            0.2368398904800415,
            0.22116078436374664,
            null,
            0.22116078436374664,
            0.2338312268257141,
            null
           ]
          }
         ],
         "name": "frame0"
        }
       ],
       "layout": {
        "scene": {
         "aspectmode": "manual",
         "aspectratio": {
          "x": 0.8111724853515625,
          "y": 0.24784722924232483,
          "z": 1.5754032135009766
         },
         "camera": {
          "eye": {
           "x": 3,
           "y": 0,
           "z": 0.1
          }
         },
         "xaxis": {
          "range": [
           -0.7054170370101929,
           0.10575547814369202
          ]
         },
         "yaxis": {
          "range": [
           -0.1263055056333542,
           0.12154171615839005
          ]
         },
         "zaxis": {
          "range": [
           -1.1971288919448853,
           0.37827426195144653
          ]
         }
        },
        "sliders": [
         {
          "len": 0.9,
          "pad": {
           "b": 10,
           "t": 60
          },
          "steps": [
           {
            "args": [
             [
              "frame0"
             ],
             {
              "frame": {
               "duration": 0
              },
              "fromcurrent": true,
              "mode": "immediate",
              "transition": {
               "duration": 0,
               "easing": "linear"
              }
             }
            ],
            "label": "0",
            "method": "animate"
           }
          ],
          "x": 0.1,
          "y": 0
         }
        ],
        "template": {
         "data": {
          "bar": [
           {
            "error_x": {
             "color": "#2a3f5f"
            },
            "error_y": {
             "color": "#2a3f5f"
            },
            "marker": {
             "line": {
              "color": "#E5ECF6",
              "width": 0.5
             },
             "pattern": {
              "fillmode": "overlay",
              "size": 10,
              "solidity": 0.2
             }
            },
            "type": "bar"
           }
          ],
          "barpolar": [
           {
            "marker": {
             "line": {
              "color": "#E5ECF6",
              "width": 0.5
             },
             "pattern": {
              "fillmode": "overlay",
              "size": 10,
              "solidity": 0.2
             }
            },
            "type": "barpolar"
           }
          ],
          "carpet": [
           {
            "aaxis": {
             "endlinecolor": "#2a3f5f",
             "gridcolor": "white",
             "linecolor": "white",
             "minorgridcolor": "white",
             "startlinecolor": "#2a3f5f"
            },
            "baxis": {
             "endlinecolor": "#2a3f5f",
             "gridcolor": "white",
             "linecolor": "white",
             "minorgridcolor": "white",
             "startlinecolor": "#2a3f5f"
            },
            "type": "carpet"
           }
          ],
          "choropleth": [
           {
            "colorbar": {
             "outlinewidth": 0,
             "ticks": ""
            },
            "type": "choropleth"
           }
          ],
          "contour": [
           {
            "colorbar": {
             "outlinewidth": 0,
             "ticks": ""
            },
            "colorscale": [
             [
              0,
              "#0d0887"
             ],
             [
              0.1111111111111111,
              "#46039f"
             ],
             [
              0.2222222222222222,
              "#7201a8"
             ],
             [
              0.3333333333333333,
              "#9c179e"
             ],
             [
              0.4444444444444444,
              "#bd3786"
             ],
             [
              0.5555555555555556,
              "#d8576b"
             ],
             [
              0.6666666666666666,
              "#ed7953"
             ],
             [
              0.7777777777777778,
              "#fb9f3a"
             ],
             [
              0.8888888888888888,
              "#fdca26"
             ],
             [
              1,
              "#f0f921"
             ]
            ],
            "type": "contour"
           }
          ],
          "contourcarpet": [
           {
            "colorbar": {
             "outlinewidth": 0,
             "ticks": ""
            },
            "type": "contourcarpet"
           }
          ],
          "heatmap": [
           {
            "colorbar": {
             "outlinewidth": 0,
             "ticks": ""
            },
            "colorscale": [
             [
              0,
              "#0d0887"
             ],
             [
              0.1111111111111111,
              "#46039f"
             ],
             [
              0.2222222222222222,
              "#7201a8"
             ],
             [
              0.3333333333333333,
              "#9c179e"
             ],
             [
              0.4444444444444444,
              "#bd3786"
             ],
             [
              0.5555555555555556,
              "#d8576b"
             ],
             [
              0.6666666666666666,
              "#ed7953"
             ],
             [
              0.7777777777777778,
              "#fb9f3a"
             ],
             [
              0.8888888888888888,
              "#fdca26"
             ],
             [
              1,
              "#f0f921"
             ]
            ],
            "type": "heatmap"
           }
          ],
          "heatmapgl": [
           {
            "colorbar": {
             "outlinewidth": 0,
             "ticks": ""
            },
            "colorscale": [
             [
              0,
              "#0d0887"
             ],
             [
              0.1111111111111111,
              "#46039f"
             ],
             [
              0.2222222222222222,
              "#7201a8"
             ],
             [
              0.3333333333333333,
              "#9c179e"
             ],
             [
              0.4444444444444444,
              "#bd3786"
             ],
             [
              0.5555555555555556,
              "#d8576b"
             ],
             [
              0.6666666666666666,
              "#ed7953"
             ],
             [
              0.7777777777777778,
              "#fb9f3a"
             ],
             [
              0.8888888888888888,
              "#fdca26"
             ],
             [
              1,
              "#f0f921"
             ]
            ],
            "type": "heatmapgl"
           }
          ],
          "histogram": [
           {
            "marker": {
             "pattern": {
              "fillmode": "overlay",
              "size": 10,
              "solidity": 0.2
             }
            },
            "type": "histogram"
           }
          ],
          "histogram2d": [
           {
            "colorbar": {
             "outlinewidth": 0,
             "ticks": ""
            },
            "colorscale": [
             [
              0,
              "#0d0887"
             ],
             [
              0.1111111111111111,
              "#46039f"
             ],
             [
              0.2222222222222222,
              "#7201a8"
             ],
             [
              0.3333333333333333,
              "#9c179e"
             ],
             [
              0.4444444444444444,
              "#bd3786"
             ],
             [
              0.5555555555555556,
              "#d8576b"
             ],
             [
              0.6666666666666666,
              "#ed7953"
             ],
             [
              0.7777777777777778,
              "#fb9f3a"
             ],
             [
              0.8888888888888888,
              "#fdca26"
             ],
             [
              1,
              "#f0f921"
             ]
            ],
            "type": "histogram2d"
           }
          ],
          "histogram2dcontour": [
           {
            "colorbar": {
             "outlinewidth": 0,
             "ticks": ""
            },
            "colorscale": [
             [
              0,
              "#0d0887"
             ],
             [
              0.1111111111111111,
              "#46039f"
             ],
             [
              0.2222222222222222,
              "#7201a8"
             ],
             [
              0.3333333333333333,
              "#9c179e"
             ],
             [
              0.4444444444444444,
              "#bd3786"
             ],
             [
              0.5555555555555556,
              "#d8576b"
             ],
             [
              0.6666666666666666,
              "#ed7953"
             ],
             [
              0.7777777777777778,
              "#fb9f3a"
             ],
             [
              0.8888888888888888,
              "#fdca26"
             ],
             [
              1,
              "#f0f921"
             ]
            ],
            "type": "histogram2dcontour"
           }
          ],
          "mesh3d": [
           {
            "colorbar": {
             "outlinewidth": 0,
             "ticks": ""
            },
            "type": "mesh3d"
           }
          ],
          "parcoords": [
           {
            "line": {
             "colorbar": {
              "outlinewidth": 0,
              "ticks": ""
             }
            },
            "type": "parcoords"
           }
          ],
          "pie": [
           {
            "automargin": true,
            "type": "pie"
           }
          ],
          "scatter": [
           {
            "fillpattern": {
             "fillmode": "overlay",
             "size": 10,
             "solidity": 0.2
            },
            "type": "scatter"
           }
          ],
          "scatter3d": [
           {
            "line": {
             "colorbar": {
              "outlinewidth": 0,
              "ticks": ""
             }
            },
            "marker": {
             "colorbar": {
              "outlinewidth": 0,
              "ticks": ""
             }
            },
            "type": "scatter3d"
           }
          ],
          "scattercarpet": [
           {
            "marker": {
             "colorbar": {
              "outlinewidth": 0,
              "ticks": ""
             }
            },
            "type": "scattercarpet"
           }
          ],
          "scattergeo": [
           {
            "marker": {
             "colorbar": {
              "outlinewidth": 0,
              "ticks": ""
             }
            },
            "type": "scattergeo"
           }
          ],
          "scattergl": [
           {
            "marker": {
             "colorbar": {
              "outlinewidth": 0,
              "ticks": ""
             }
            },
            "type": "scattergl"
           }
          ],
          "scattermapbox": [
           {
            "marker": {
             "colorbar": {
              "outlinewidth": 0,
              "ticks": ""
             }
            },
            "type": "scattermapbox"
           }
          ],
          "scatterpolar": [
           {
            "marker": {
             "colorbar": {
              "outlinewidth": 0,
              "ticks": ""
             }
            },
            "type": "scatterpolar"
           }
          ],
          "scatterpolargl": [
           {
            "marker": {
             "colorbar": {
              "outlinewidth": 0,
              "ticks": ""
             }
            },
            "type": "scatterpolargl"
           }
          ],
          "scatterternary": [
           {
            "marker": {
             "colorbar": {
              "outlinewidth": 0,
              "ticks": ""
             }
            },
            "type": "scatterternary"
           }
          ],
          "surface": [
           {
            "colorbar": {
             "outlinewidth": 0,
             "ticks": ""
            },
            "colorscale": [
             [
              0,
              "#0d0887"
             ],
             [
              0.1111111111111111,
              "#46039f"
             ],
             [
              0.2222222222222222,
              "#7201a8"
             ],
             [
              0.3333333333333333,
              "#9c179e"
             ],
             [
              0.4444444444444444,
              "#bd3786"
             ],
             [
              0.5555555555555556,
              "#d8576b"
             ],
             [
              0.6666666666666666,
              "#ed7953"
             ],
             [
              0.7777777777777778,
              "#fb9f3a"
             ],
             [
              0.8888888888888888,
              "#fdca26"
             ],
             [
              1,
              "#f0f921"
             ]
            ],
            "type": "surface"
           }
          ],
          "table": [
           {
            "cells": {
             "fill": {
              "color": "#EBF0F8"
             },
             "line": {
              "color": "white"
             }
            },
            "header": {
             "fill": {
              "color": "#C8D4E3"
             },
             "line": {
              "color": "white"
             }
            },
            "type": "table"
           }
          ]
         },
         "layout": {
          "annotationdefaults": {
           "arrowcolor": "#2a3f5f",
           "arrowhead": 0,
           "arrowwidth": 1
          },
          "autotypenumbers": "strict",
          "coloraxis": {
           "colorbar": {
            "outlinewidth": 0,
            "ticks": ""
           }
          },
          "colorscale": {
           "diverging": [
            [
             0,
             "#8e0152"
            ],
            [
             0.1,
             "#c51b7d"
            ],
            [
             0.2,
             "#de77ae"
            ],
            [
             0.3,
             "#f1b6da"
            ],
            [
             0.4,
             "#fde0ef"
            ],
            [
             0.5,
             "#f7f7f7"
            ],
            [
             0.6,
             "#e6f5d0"
            ],
            [
             0.7,
             "#b8e186"
            ],
            [
             0.8,
             "#7fbc41"
            ],
            [
             0.9,
             "#4d9221"
            ],
            [
             1,
             "#276419"
            ]
           ],
           "sequential": [
            [
             0,
             "#0d0887"
            ],
            [
             0.1111111111111111,
             "#46039f"
            ],
            [
             0.2222222222222222,
             "#7201a8"
            ],
            [
             0.3333333333333333,
             "#9c179e"
            ],
            [
             0.4444444444444444,
             "#bd3786"
            ],
            [
             0.5555555555555556,
             "#d8576b"
            ],
            [
             0.6666666666666666,
             "#ed7953"
            ],
            [
             0.7777777777777778,
             "#fb9f3a"
            ],
            [
             0.8888888888888888,
             "#fdca26"
            ],
            [
             1,
             "#f0f921"
            ]
           ],
           "sequentialminus": [
            [
             0,
             "#0d0887"
            ],
            [
             0.1111111111111111,
             "#46039f"
            ],
            [
             0.2222222222222222,
             "#7201a8"
            ],
            [
             0.3333333333333333,
             "#9c179e"
            ],
            [
             0.4444444444444444,
             "#bd3786"
            ],
            [
             0.5555555555555556,
             "#d8576b"
            ],
            [
             0.6666666666666666,
             "#ed7953"
            ],
            [
             0.7777777777777778,
             "#fb9f3a"
            ],
            [
             0.8888888888888888,
             "#fdca26"
            ],
            [
             1,
             "#f0f921"
            ]
           ]
          },
          "colorway": [
           "#636efa",
           "#EF553B",
           "#00cc96",
           "#ab63fa",
           "#FFA15A",
           "#19d3f3",
           "#FF6692",
           "#B6E880",
           "#FF97FF",
           "#FECB52"
          ],
          "font": {
           "color": "#2a3f5f"
          },
          "geo": {
           "bgcolor": "white",
           "lakecolor": "white",
           "landcolor": "#E5ECF6",
           "showlakes": true,
           "showland": true,
           "subunitcolor": "white"
          },
          "hoverlabel": {
           "align": "left"
          },
          "hovermode": "closest",
          "mapbox": {
           "style": "light"
          },
          "paper_bgcolor": "white",
          "plot_bgcolor": "#E5ECF6",
          "polar": {
           "angularaxis": {
            "gridcolor": "white",
            "linecolor": "white",
            "ticks": ""
           },
           "bgcolor": "#E5ECF6",
           "radialaxis": {
            "gridcolor": "white",
            "linecolor": "white",
            "ticks": ""
           }
          },
          "scene": {
           "xaxis": {
            "backgroundcolor": "#E5ECF6",
            "gridcolor": "white",
            "gridwidth": 2,
            "linecolor": "white",
            "showbackground": true,
            "ticks": "",
            "zerolinecolor": "white"
           },
           "yaxis": {
            "backgroundcolor": "#E5ECF6",
            "gridcolor": "white",
            "gridwidth": 2,
            "linecolor": "white",
            "showbackground": true,
            "ticks": "",
            "zerolinecolor": "white"
           },
           "zaxis": {
            "backgroundcolor": "#E5ECF6",
            "gridcolor": "white",
            "gridwidth": 2,
            "linecolor": "white",
            "showbackground": true,
            "ticks": "",
            "zerolinecolor": "white"
           }
          },
          "shapedefaults": {
           "line": {
            "color": "#2a3f5f"
           }
          },
          "ternary": {
           "aaxis": {
            "gridcolor": "white",
            "linecolor": "white",
            "ticks": ""
           },
           "baxis": {
            "gridcolor": "white",
            "linecolor": "white",
            "ticks": ""
           },
           "bgcolor": "#E5ECF6",
           "caxis": {
            "gridcolor": "white",
            "linecolor": "white",
            "ticks": ""
           }
          },
          "title": {
           "x": 0.05
          },
          "xaxis": {
           "automargin": true,
           "gridcolor": "white",
           "linecolor": "white",
           "ticks": "",
           "title": {
            "standoff": 15
           },
           "zerolinecolor": "white",
           "zerolinewidth": 2
          },
          "yaxis": {
           "automargin": true,
           "gridcolor": "white",
           "linecolor": "white",
           "ticks": "",
           "title": {
            "standoff": 15
           },
           "zerolinecolor": "white",
           "zerolinewidth": 2
          }
         }
        },
        "updatemenus": [
         {
          "buttons": [
           {
            "args": [
             null,
             {
              "frame": {
               "duration": 40
              },
              "fromcurrent": true,
              "mode": "immediate",
              "transition": {
               "duration": 40,
               "easing": "linear"
              }
             }
            ],
            "label": "Play",
            "method": "animate"
           },
           {
            "args": [
             [
              null
             ],
             {
              "frame": {
               "duration": 0
              },
              "fromcurrent": true,
              "mode": "immediate",
              "transition": {
               "duration": 0,
               "easing": "linear"
              }
             }
            ],
            "label": "Pause",
            "method": "animate"
           }
          ],
          "direction": "left",
          "pad": {
           "r": 10,
           "t": 70
          },
          "type": "buttons",
          "x": 0.1,
          "y": 0
         }
        ]
       }
      },
      "text/html": [
       "<div>                            <div id=\"2d5ee4fa-d4cc-40aa-8cb5-3f00b0d5f62b\" class=\"plotly-graph-div\" style=\"height:525px; width:100%;\"></div>            <script type=\"text/javascript\">                require([\"plotly\"], function(Plotly) {                    window.PLOTLYENV=window.PLOTLYENV || {};                                    if (document.getElementById(\"2d5ee4fa-d4cc-40aa-8cb5-3f00b0d5f62b\")) {                    Plotly.newPlot(                        \"2d5ee4fa-d4cc-40aa-8cb5-3f00b0d5f62b\",                        [{\"marker\":{\"color\":\"blue\",\"size\":3},\"mode\":\"lines+markers\",\"name\":\"Nodes0\",\"x\":[0.028484944254159927,0.01488855853676796,null,0.01488855853676796,0.010020914487540722,null,0.010020914487540722,-0.02453528344631195,null,-0.02453528344631195,0.10575547814369202,null,0.028484944254159927,0.010775452479720116,null,0.010775452479720116,0.018781138584017754,null,0.018781138584017754,-0.018642770126461983,null,-0.018642770126461983,0.10336648672819138,null,0.028484944254159927,-0.00983358547091484,null,-0.00983358547091484,0.017015986144542694,null,0.017015986144542694,0.01986432634294033,null,0.01986432634294033,-0.013514453545212746,null,-0.013514453545212746,0.03695334494113922,null,0.01986432634294033,-0.00382084958255291,null,-0.00382084958255291,-0.11703281849622726,null,-0.11703281849622726,-0.3771727383136749,null,-0.3771727383136749,-0.6462380886077881,null,0.01986432634294033,0.000982804223895073,null,0.000982804223895073,-0.12191244214773178,null,-0.12191244214773178,-0.37726810574531555,null,-0.37726810574531555,-0.6428936719894409,null],\"y\":[0.0021562613546848297,0.062469735741615295,null,0.062469735741615295,0.10575146228075027,null,0.10575146228075027,0.0867057517170906,null,0.0867057517170906,0.12154143303632736,null,0.0021562613546848297,-0.0564214326441288,null,-0.0564214326441288,-0.09989352524280548,null,-0.09989352524280548,-0.0851162001490593,null,-0.0851162001490593,-0.1262097805738449,null,0.0021562613546848297,-0.002283249981701374,null,-0.002283249981701374,-0.006766330450773239,null,-0.006766330450773239,-0.004498250782489777,null,-0.004498250782489777,0.008893129415810108,null,0.008893129415810108,-0.0012191925197839737,null,-0.004498250782489777,0.07845470309257507,null,0.07845470309257507,0.07008246332406998,null,0.07008246332406998,0.03905460983514786,null,0.03905460983514786,0.03323410451412201,null,-0.004498250782489777,-0.07618499547243118,null,-0.07618499547243118,-0.05724430829286575,null,-0.05724430829286575,-0.034541331231594086,null,-0.034541331231594086,-0.027364403009414673,null],\"z\":[-0.24074336886405945,-0.33124467730522156,null,-0.33124467730522156,-0.7149828672409058,null,-0.7149828672409058,-1.1349802017211914,null,-1.1349802017211914,-1.1970977783203125,null,-0.24074336886405945,-0.32301759719848633,null,-0.32301759719848633,-0.709549605846405,null,-0.709549605846405,-1.1363675594329834,null,-1.1363675594329834,-1.1966519355773926,null,-0.24074336886405945,-0.1163797676563263,null,-0.1163797676563263,0.021572202444076538,null,0.021572202444076538,0.07759823650121689,null,0.07759823650121689,0.28920412063598633,null,0.28920412063598633,0.3782299757003784,null,0.07759823650121689,0.19004565477371216,null,0.19004565477371216,0.23690584301948547,null,0.23690584301948547,0.22250831127166748,null,0.22250831127166748,0.22931544482707977,null,0.07759823650121689,0.19156226515769958,null,0.19156226515769958,0.23677252233028412,null,0.23677252233028412,0.22110868990421295,null,0.22110868990421295,0.23379644751548767,null],\"type\":\"scatter3d\"},{\"marker\":{\"color\":\"red\",\"size\":3},\"mode\":\"lines+markers\",\"name\":\"Nodes1\",\"x\":[0.028484944254159927,0.014810227788984776,null,0.014810227788984776,0.00996275432407856,null,0.00996275432407856,-0.02456197701394558,null,-0.02456197701394558,0.10572182387113571,null,0.028484944254159927,0.010714184492826462,null,0.010714184492826462,0.01872980035841465,null,0.01872980035841465,-0.018661724403500557,null,-0.018661724403500557,0.10332264006137848,null,0.028484944254159927,-0.00974993035197258,null,-0.00974993035197258,0.01713348552584648,null,0.01713348552584648,0.019963214173913002,null,0.019963214173913002,-0.013359969481825829,null,-0.013359969481825829,0.03708251565694809,null,0.019963214173913002,-0.06300697475671768,null,-0.06300697475671768,-0.1762068271636963,null,-0.1762068271636963,-0.43635234236717224,null,-0.43635234236717224,-0.7054170370101929,null,0.019963214173913002,-0.0517282709479332,null,-0.0517282709479332,-0.17461511492729187,null,-0.17461511492729187,-0.42997491359710693,null,-0.42997491359710693,-0.6956006288528442,null],\"y\":[0.0021562613546848297,0.062443844974040985,null,0.062443844974040985,0.10576361417770386,null,0.10576361417770386,0.08672738075256348,null,0.08672738075256348,0.12154171615839005,null,0.0021562613546848297,-0.05639469996094704,null,-0.05639469996094704,-0.09990321099758148,null,-0.09990321099758148,-0.08514957875013351,null,-0.08514957875013351,-0.1263055056333542,null,0.0021562613546848297,-0.00228336313739419,null,-0.00228336313739419,-0.0067616901360452175,null,-0.0067616901360452175,-0.004493295215070248,null,-0.004493295215070248,0.00890345685184002,null,0.00890345685184002,-0.0011973939836025238,null,-0.004493295215070248,-0.02809847891330719,null,-0.02809847891330719,-0.036435969173908234,null,-0.036435969173908234,-0.06739280372858047,null,-0.06739280372858047,-0.07322148233652115,null,-0.004493295215070248,0.014324882067739964,null,0.014324882067739964,0.033225491642951965,null,0.033225491642951965,0.055871084332466125,null,0.055871084332466125,0.06307266652584076,null],\"z\":[-0.24074336886405945,-0.3312501311302185,null,-0.3312501311302185,-0.7149842977523804,null,-0.7149842977523804,-1.1349847316741943,null,-1.1349847316741943,-1.1971288919448853,null,-0.24074336886405945,-0.32302340865135193,null,-0.32302340865135193,-0.7095510959625244,null,-0.7095510959625244,-1.136372685432434,null,-1.136372685432434,-1.1966649293899536,null,-0.24074336886405945,-0.11635401844978333,null,-0.11635401844978333,0.021591514348983765,null,0.021591514348983765,0.07761847972869873,null,0.07761847972869873,0.2892327606678009,null,0.2892327606678009,0.37827426195144653,null,0.07761847972869873,0.1900700032711029,null,0.1900700032711029,0.23696565628051758,null,0.23696565628051758,0.22251611948013306,null,0.22251611948013306,0.22934146225452423,null,0.07761847972869873,0.19158999621868134,null,0.19158999621868134,0.2368398904800415,null,0.2368398904800415,0.22116078436374664,null,0.22116078436374664,0.2338312268257141,null],\"type\":\"scatter3d\"}],                        {\"scene\":{\"aspectmode\":\"manual\",\"camera\":{\"eye\":{\"x\":3,\"y\":0,\"z\":0.1}},\"xaxis\":{\"range\":[-0.7054170370101929,0.10575547814369202]},\"yaxis\":{\"range\":[-0.1263055056333542,0.12154171615839005]},\"zaxis\":{\"range\":[-1.1971288919448853,0.37827426195144653]},\"aspectratio\":{\"x\":0.8111724853515625,\"y\":0.24784722924232483,\"z\":1.5754032135009766}},\"template\":{\"data\":{\"histogram2dcontour\":[{\"type\":\"histogram2dcontour\",\"colorbar\":{\"outlinewidth\":0,\"ticks\":\"\"},\"colorscale\":[[0.0,\"#0d0887\"],[0.1111111111111111,\"#46039f\"],[0.2222222222222222,\"#7201a8\"],[0.3333333333333333,\"#9c179e\"],[0.4444444444444444,\"#bd3786\"],[0.5555555555555556,\"#d8576b\"],[0.6666666666666666,\"#ed7953\"],[0.7777777777777778,\"#fb9f3a\"],[0.8888888888888888,\"#fdca26\"],[1.0,\"#f0f921\"]]}],\"choropleth\":[{\"type\":\"choropleth\",\"colorbar\":{\"outlinewidth\":0,\"ticks\":\"\"}}],\"histogram2d\":[{\"type\":\"histogram2d\",\"colorbar\":{\"outlinewidth\":0,\"ticks\":\"\"},\"colorscale\":[[0.0,\"#0d0887\"],[0.1111111111111111,\"#46039f\"],[0.2222222222222222,\"#7201a8\"],[0.3333333333333333,\"#9c179e\"],[0.4444444444444444,\"#bd3786\"],[0.5555555555555556,\"#d8576b\"],[0.6666666666666666,\"#ed7953\"],[0.7777777777777778,\"#fb9f3a\"],[0.8888888888888888,\"#fdca26\"],[1.0,\"#f0f921\"]]}],\"heatmap\":[{\"type\":\"heatmap\",\"colorbar\":{\"outlinewidth\":0,\"ticks\":\"\"},\"colorscale\":[[0.0,\"#0d0887\"],[0.1111111111111111,\"#46039f\"],[0.2222222222222222,\"#7201a8\"],[0.3333333333333333,\"#9c179e\"],[0.4444444444444444,\"#bd3786\"],[0.5555555555555556,\"#d8576b\"],[0.6666666666666666,\"#ed7953\"],[0.7777777777777778,\"#fb9f3a\"],[0.8888888888888888,\"#fdca26\"],[1.0,\"#f0f921\"]]}],\"heatmapgl\":[{\"type\":\"heatmapgl\",\"colorbar\":{\"outlinewidth\":0,\"ticks\":\"\"},\"colorscale\":[[0.0,\"#0d0887\"],[0.1111111111111111,\"#46039f\"],[0.2222222222222222,\"#7201a8\"],[0.3333333333333333,\"#9c179e\"],[0.4444444444444444,\"#bd3786\"],[0.5555555555555556,\"#d8576b\"],[0.6666666666666666,\"#ed7953\"],[0.7777777777777778,\"#fb9f3a\"],[0.8888888888888888,\"#fdca26\"],[1.0,\"#f0f921\"]]}],\"contourcarpet\":[{\"type\":\"contourcarpet\",\"colorbar\":{\"outlinewidth\":0,\"ticks\":\"\"}}],\"contour\":[{\"type\":\"contour\",\"colorbar\":{\"outlinewidth\":0,\"ticks\":\"\"},\"colorscale\":[[0.0,\"#0d0887\"],[0.1111111111111111,\"#46039f\"],[0.2222222222222222,\"#7201a8\"],[0.3333333333333333,\"#9c179e\"],[0.4444444444444444,\"#bd3786\"],[0.5555555555555556,\"#d8576b\"],[0.6666666666666666,\"#ed7953\"],[0.7777777777777778,\"#fb9f3a\"],[0.8888888888888888,\"#fdca26\"],[1.0,\"#f0f921\"]]}],\"surface\":[{\"type\":\"surface\",\"colorbar\":{\"outlinewidth\":0,\"ticks\":\"\"},\"colorscale\":[[0.0,\"#0d0887\"],[0.1111111111111111,\"#46039f\"],[0.2222222222222222,\"#7201a8\"],[0.3333333333333333,\"#9c179e\"],[0.4444444444444444,\"#bd3786\"],[0.5555555555555556,\"#d8576b\"],[0.6666666666666666,\"#ed7953\"],[0.7777777777777778,\"#fb9f3a\"],[0.8888888888888888,\"#fdca26\"],[1.0,\"#f0f921\"]]}],\"mesh3d\":[{\"type\":\"mesh3d\",\"colorbar\":{\"outlinewidth\":0,\"ticks\":\"\"}}],\"scatter\":[{\"fillpattern\":{\"fillmode\":\"overlay\",\"size\":10,\"solidity\":0.2},\"type\":\"scatter\"}],\"parcoords\":[{\"type\":\"parcoords\",\"line\":{\"colorbar\":{\"outlinewidth\":0,\"ticks\":\"\"}}}],\"scatterpolargl\":[{\"type\":\"scatterpolargl\",\"marker\":{\"colorbar\":{\"outlinewidth\":0,\"ticks\":\"\"}}}],\"bar\":[{\"error_x\":{\"color\":\"#2a3f5f\"},\"error_y\":{\"color\":\"#2a3f5f\"},\"marker\":{\"line\":{\"color\":\"#E5ECF6\",\"width\":0.5},\"pattern\":{\"fillmode\":\"overlay\",\"size\":10,\"solidity\":0.2}},\"type\":\"bar\"}],\"scattergeo\":[{\"type\":\"scattergeo\",\"marker\":{\"colorbar\":{\"outlinewidth\":0,\"ticks\":\"\"}}}],\"scatterpolar\":[{\"type\":\"scatterpolar\",\"marker\":{\"colorbar\":{\"outlinewidth\":0,\"ticks\":\"\"}}}],\"histogram\":[{\"marker\":{\"pattern\":{\"fillmode\":\"overlay\",\"size\":10,\"solidity\":0.2}},\"type\":\"histogram\"}],\"scattergl\":[{\"type\":\"scattergl\",\"marker\":{\"colorbar\":{\"outlinewidth\":0,\"ticks\":\"\"}}}],\"scatter3d\":[{\"type\":\"scatter3d\",\"line\":{\"colorbar\":{\"outlinewidth\":0,\"ticks\":\"\"}},\"marker\":{\"colorbar\":{\"outlinewidth\":0,\"ticks\":\"\"}}}],\"scattermapbox\":[{\"type\":\"scattermapbox\",\"marker\":{\"colorbar\":{\"outlinewidth\":0,\"ticks\":\"\"}}}],\"scatterternary\":[{\"type\":\"scatterternary\",\"marker\":{\"colorbar\":{\"outlinewidth\":0,\"ticks\":\"\"}}}],\"scattercarpet\":[{\"type\":\"scattercarpet\",\"marker\":{\"colorbar\":{\"outlinewidth\":0,\"ticks\":\"\"}}}],\"carpet\":[{\"aaxis\":{\"endlinecolor\":\"#2a3f5f\",\"gridcolor\":\"white\",\"linecolor\":\"white\",\"minorgridcolor\":\"white\",\"startlinecolor\":\"#2a3f5f\"},\"baxis\":{\"endlinecolor\":\"#2a3f5f\",\"gridcolor\":\"white\",\"linecolor\":\"white\",\"minorgridcolor\":\"white\",\"startlinecolor\":\"#2a3f5f\"},\"type\":\"carpet\"}],\"table\":[{\"cells\":{\"fill\":{\"color\":\"#EBF0F8\"},\"line\":{\"color\":\"white\"}},\"header\":{\"fill\":{\"color\":\"#C8D4E3\"},\"line\":{\"color\":\"white\"}},\"type\":\"table\"}],\"barpolar\":[{\"marker\":{\"line\":{\"color\":\"#E5ECF6\",\"width\":0.5},\"pattern\":{\"fillmode\":\"overlay\",\"size\":10,\"solidity\":0.2}},\"type\":\"barpolar\"}],\"pie\":[{\"automargin\":true,\"type\":\"pie\"}]},\"layout\":{\"autotypenumbers\":\"strict\",\"colorway\":[\"#636efa\",\"#EF553B\",\"#00cc96\",\"#ab63fa\",\"#FFA15A\",\"#19d3f3\",\"#FF6692\",\"#B6E880\",\"#FF97FF\",\"#FECB52\"],\"font\":{\"color\":\"#2a3f5f\"},\"hovermode\":\"closest\",\"hoverlabel\":{\"align\":\"left\"},\"paper_bgcolor\":\"white\",\"plot_bgcolor\":\"#E5ECF6\",\"polar\":{\"bgcolor\":\"#E5ECF6\",\"angularaxis\":{\"gridcolor\":\"white\",\"linecolor\":\"white\",\"ticks\":\"\"},\"radialaxis\":{\"gridcolor\":\"white\",\"linecolor\":\"white\",\"ticks\":\"\"}},\"ternary\":{\"bgcolor\":\"#E5ECF6\",\"aaxis\":{\"gridcolor\":\"white\",\"linecolor\":\"white\",\"ticks\":\"\"},\"baxis\":{\"gridcolor\":\"white\",\"linecolor\":\"white\",\"ticks\":\"\"},\"caxis\":{\"gridcolor\":\"white\",\"linecolor\":\"white\",\"ticks\":\"\"}},\"coloraxis\":{\"colorbar\":{\"outlinewidth\":0,\"ticks\":\"\"}},\"colorscale\":{\"sequential\":[[0.0,\"#0d0887\"],[0.1111111111111111,\"#46039f\"],[0.2222222222222222,\"#7201a8\"],[0.3333333333333333,\"#9c179e\"],[0.4444444444444444,\"#bd3786\"],[0.5555555555555556,\"#d8576b\"],[0.6666666666666666,\"#ed7953\"],[0.7777777777777778,\"#fb9f3a\"],[0.8888888888888888,\"#fdca26\"],[1.0,\"#f0f921\"]],\"sequentialminus\":[[0.0,\"#0d0887\"],[0.1111111111111111,\"#46039f\"],[0.2222222222222222,\"#7201a8\"],[0.3333333333333333,\"#9c179e\"],[0.4444444444444444,\"#bd3786\"],[0.5555555555555556,\"#d8576b\"],[0.6666666666666666,\"#ed7953\"],[0.7777777777777778,\"#fb9f3a\"],[0.8888888888888888,\"#fdca26\"],[1.0,\"#f0f921\"]],\"diverging\":[[0,\"#8e0152\"],[0.1,\"#c51b7d\"],[0.2,\"#de77ae\"],[0.3,\"#f1b6da\"],[0.4,\"#fde0ef\"],[0.5,\"#f7f7f7\"],[0.6,\"#e6f5d0\"],[0.7,\"#b8e186\"],[0.8,\"#7fbc41\"],[0.9,\"#4d9221\"],[1,\"#276419\"]]},\"xaxis\":{\"gridcolor\":\"white\",\"linecolor\":\"white\",\"ticks\":\"\",\"title\":{\"standoff\":15},\"zerolinecolor\":\"white\",\"automargin\":true,\"zerolinewidth\":2},\"yaxis\":{\"gridcolor\":\"white\",\"linecolor\":\"white\",\"ticks\":\"\",\"title\":{\"standoff\":15},\"zerolinecolor\":\"white\",\"automargin\":true,\"zerolinewidth\":2},\"scene\":{\"xaxis\":{\"backgroundcolor\":\"#E5ECF6\",\"gridcolor\":\"white\",\"linecolor\":\"white\",\"showbackground\":true,\"ticks\":\"\",\"zerolinecolor\":\"white\",\"gridwidth\":2},\"yaxis\":{\"backgroundcolor\":\"#E5ECF6\",\"gridcolor\":\"white\",\"linecolor\":\"white\",\"showbackground\":true,\"ticks\":\"\",\"zerolinecolor\":\"white\",\"gridwidth\":2},\"zaxis\":{\"backgroundcolor\":\"#E5ECF6\",\"gridcolor\":\"white\",\"linecolor\":\"white\",\"showbackground\":true,\"ticks\":\"\",\"zerolinecolor\":\"white\",\"gridwidth\":2}},\"shapedefaults\":{\"line\":{\"color\":\"#2a3f5f\"}},\"annotationdefaults\":{\"arrowcolor\":\"#2a3f5f\",\"arrowhead\":0,\"arrowwidth\":1},\"geo\":{\"bgcolor\":\"white\",\"landcolor\":\"#E5ECF6\",\"subunitcolor\":\"white\",\"showland\":true,\"showlakes\":true,\"lakecolor\":\"white\"},\"title\":{\"x\":0.05},\"mapbox\":{\"style\":\"light\"}}},\"updatemenus\":[{\"buttons\":[{\"args\":[null,{\"frame\":{\"duration\":40.0},\"mode\":\"immediate\",\"fromcurrent\":true,\"transition\":{\"duration\":40.0,\"easing\":\"linear\"}}],\"label\":\"Play\",\"method\":\"animate\"},{\"args\":[[null],{\"frame\":{\"duration\":0},\"mode\":\"immediate\",\"fromcurrent\":true,\"transition\":{\"duration\":0,\"easing\":\"linear\"}}],\"label\":\"Pause\",\"method\":\"animate\"}],\"direction\":\"left\",\"pad\":{\"r\":10,\"t\":70},\"type\":\"buttons\",\"x\":0.1,\"y\":0}],\"sliders\":[{\"len\":0.9,\"pad\":{\"b\":10,\"t\":60},\"steps\":[{\"args\":[[\"frame0\"],{\"frame\":{\"duration\":0},\"mode\":\"immediate\",\"fromcurrent\":true,\"transition\":{\"duration\":0,\"easing\":\"linear\"}}],\"label\":\"0\",\"method\":\"animate\"}],\"x\":0.1,\"y\":0}]},                        {\"responsive\": true}                    ).then(function(){\n",
       "                            Plotly.addFrames('2d5ee4fa-d4cc-40aa-8cb5-3f00b0d5f62b', [{\"data\":[{\"marker\":{\"color\":\"blue\",\"size\":3},\"mode\":\"lines+markers\",\"name\":\"Nodes0\",\"x\":[0.028484944254159927,0.01488855853676796,null,0.01488855853676796,0.010020914487540722,null,0.010020914487540722,-0.02453528344631195,null,-0.02453528344631195,0.10575547814369202,null,0.028484944254159927,0.010775452479720116,null,0.010775452479720116,0.018781138584017754,null,0.018781138584017754,-0.018642770126461983,null,-0.018642770126461983,0.10336648672819138,null,0.028484944254159927,-0.00983358547091484,null,-0.00983358547091484,0.017015986144542694,null,0.017015986144542694,0.01986432634294033,null,0.01986432634294033,-0.013514453545212746,null,-0.013514453545212746,0.03695334494113922,null,0.01986432634294033,-0.00382084958255291,null,-0.00382084958255291,-0.11703281849622726,null,-0.11703281849622726,-0.3771727383136749,null,-0.3771727383136749,-0.6462380886077881,null,0.01986432634294033,0.000982804223895073,null,0.000982804223895073,-0.12191244214773178,null,-0.12191244214773178,-0.37726810574531555,null,-0.37726810574531555,-0.6428936719894409,null],\"y\":[0.0021562613546848297,0.062469735741615295,null,0.062469735741615295,0.10575146228075027,null,0.10575146228075027,0.0867057517170906,null,0.0867057517170906,0.12154143303632736,null,0.0021562613546848297,-0.0564214326441288,null,-0.0564214326441288,-0.09989352524280548,null,-0.09989352524280548,-0.0851162001490593,null,-0.0851162001490593,-0.1262097805738449,null,0.0021562613546848297,-0.002283249981701374,null,-0.002283249981701374,-0.006766330450773239,null,-0.006766330450773239,-0.004498250782489777,null,-0.004498250782489777,0.008893129415810108,null,0.008893129415810108,-0.0012191925197839737,null,-0.004498250782489777,0.07845470309257507,null,0.07845470309257507,0.07008246332406998,null,0.07008246332406998,0.03905460983514786,null,0.03905460983514786,0.03323410451412201,null,-0.004498250782489777,-0.07618499547243118,null,-0.07618499547243118,-0.05724430829286575,null,-0.05724430829286575,-0.034541331231594086,null,-0.034541331231594086,-0.027364403009414673,null],\"z\":[-0.24074336886405945,-0.33124467730522156,null,-0.33124467730522156,-0.7149828672409058,null,-0.7149828672409058,-1.1349802017211914,null,-1.1349802017211914,-1.1970977783203125,null,-0.24074336886405945,-0.32301759719848633,null,-0.32301759719848633,-0.709549605846405,null,-0.709549605846405,-1.1363675594329834,null,-1.1363675594329834,-1.1966519355773926,null,-0.24074336886405945,-0.1163797676563263,null,-0.1163797676563263,0.021572202444076538,null,0.021572202444076538,0.07759823650121689,null,0.07759823650121689,0.28920412063598633,null,0.28920412063598633,0.3782299757003784,null,0.07759823650121689,0.19004565477371216,null,0.19004565477371216,0.23690584301948547,null,0.23690584301948547,0.22250831127166748,null,0.22250831127166748,0.22931544482707977,null,0.07759823650121689,0.19156226515769958,null,0.19156226515769958,0.23677252233028412,null,0.23677252233028412,0.22110868990421295,null,0.22110868990421295,0.23379644751548767,null],\"type\":\"scatter3d\"},{\"marker\":{\"color\":\"red\",\"size\":3},\"mode\":\"lines+markers\",\"name\":\"Nodes1\",\"x\":[0.028484944254159927,0.014810227788984776,null,0.014810227788984776,0.00996275432407856,null,0.00996275432407856,-0.02456197701394558,null,-0.02456197701394558,0.10572182387113571,null,0.028484944254159927,0.010714184492826462,null,0.010714184492826462,0.01872980035841465,null,0.01872980035841465,-0.018661724403500557,null,-0.018661724403500557,0.10332264006137848,null,0.028484944254159927,-0.00974993035197258,null,-0.00974993035197258,0.01713348552584648,null,0.01713348552584648,0.019963214173913002,null,0.019963214173913002,-0.013359969481825829,null,-0.013359969481825829,0.03708251565694809,null,0.019963214173913002,-0.06300697475671768,null,-0.06300697475671768,-0.1762068271636963,null,-0.1762068271636963,-0.43635234236717224,null,-0.43635234236717224,-0.7054170370101929,null,0.019963214173913002,-0.0517282709479332,null,-0.0517282709479332,-0.17461511492729187,null,-0.17461511492729187,-0.42997491359710693,null,-0.42997491359710693,-0.6956006288528442,null],\"y\":[0.0021562613546848297,0.062443844974040985,null,0.062443844974040985,0.10576361417770386,null,0.10576361417770386,0.08672738075256348,null,0.08672738075256348,0.12154171615839005,null,0.0021562613546848297,-0.05639469996094704,null,-0.05639469996094704,-0.09990321099758148,null,-0.09990321099758148,-0.08514957875013351,null,-0.08514957875013351,-0.1263055056333542,null,0.0021562613546848297,-0.00228336313739419,null,-0.00228336313739419,-0.0067616901360452175,null,-0.0067616901360452175,-0.004493295215070248,null,-0.004493295215070248,0.00890345685184002,null,0.00890345685184002,-0.0011973939836025238,null,-0.004493295215070248,-0.02809847891330719,null,-0.02809847891330719,-0.036435969173908234,null,-0.036435969173908234,-0.06739280372858047,null,-0.06739280372858047,-0.07322148233652115,null,-0.004493295215070248,0.014324882067739964,null,0.014324882067739964,0.033225491642951965,null,0.033225491642951965,0.055871084332466125,null,0.055871084332466125,0.06307266652584076,null],\"z\":[-0.24074336886405945,-0.3312501311302185,null,-0.3312501311302185,-0.7149842977523804,null,-0.7149842977523804,-1.1349847316741943,null,-1.1349847316741943,-1.1971288919448853,null,-0.24074336886405945,-0.32302340865135193,null,-0.32302340865135193,-0.7095510959625244,null,-0.7095510959625244,-1.136372685432434,null,-1.136372685432434,-1.1966649293899536,null,-0.24074336886405945,-0.11635401844978333,null,-0.11635401844978333,0.021591514348983765,null,0.021591514348983765,0.07761847972869873,null,0.07761847972869873,0.2892327606678009,null,0.2892327606678009,0.37827426195144653,null,0.07761847972869873,0.1900700032711029,null,0.1900700032711029,0.23696565628051758,null,0.23696565628051758,0.22251611948013306,null,0.22251611948013306,0.22934146225452423,null,0.07761847972869873,0.19158999621868134,null,0.19158999621868134,0.2368398904800415,null,0.2368398904800415,0.22116078436374664,null,0.22116078436374664,0.2338312268257141,null],\"type\":\"scatter3d\"}],\"name\":\"frame0\"}]);\n",
       "                        }).then(function(){\n",
       "                            \n",
       "var gd = document.getElementById('2d5ee4fa-d4cc-40aa-8cb5-3f00b0d5f62b');\n",
       "var x = new MutationObserver(function (mutations, observer) {{\n",
       "        var display = window.getComputedStyle(gd).display;\n",
       "        if (!display || display === 'none') {{\n",
       "            console.log([gd, 'removed!']);\n",
       "            Plotly.purge(gd);\n",
       "            observer.disconnect();\n",
       "        }}\n",
       "}});\n",
       "\n",
       "// Listen for the removal of the full notebook cells\n",
       "var notebookContainer = gd.closest('#notebook-container');\n",
       "if (notebookContainer) {{\n",
       "    x.observe(notebookContainer, {childList: true});\n",
       "}}\n",
       "\n",
       "// Listen for the clearing of the current output cell\n",
       "var outputEl = gd.closest('.output');\n",
       "if (outputEl) {{\n",
       "    x.observe(outputEl, {childList: true});\n",
       "}}\n",
       "\n",
       "                        })                };                });            </script>        </div>"
      ]
     },
     "metadata": {},
     "output_type": "display_data"
    }
   ],
   "source": [
    "tgt_skel = Skeleton(angle_offset, paramUtil.t2m_kinematic_chain, 'cpu')\n",
    "# 1. SMPL layer (BLUE)\n",
    "rest_pose = torch.zeros((1,24,3))\n",
    "rest_pose[:,13] = torch.tensor((0,3.14/2,0))\n",
    "rest_pose[:,14] = torch.tensor((0,-3.14/2,0))\n",
    "\n",
    "verts, vis_joint = get_SMPL_layer(rest_pose.view(1,72), display=False)\n",
    "\n",
    "# 2. [MD] FK  (RED)\n",
    "rest_pose = torch.zeros((1,24,3))\n",
    "rest_pose[:,13] = torch.tensor((0,3.14/2,0))\n",
    "rest_pose[:,14] = torch.tensor((0,-3.14/2,0))\n",
    "\n",
    "\n",
    "quat_params = axis_angle_to_quaternion(rest_pose)\n",
    "tgt_offsets = tgt_skel.get_offsets_joints(vis_joint[0])\n",
    "joint_forward = tgt_skel.forward_kinematics(quat_params, root_pos=vis_joint[0,0])\n",
    "\n",
    "joint_original_forward = np.concatenate((vis_joint[:,:22], joint_forward[:,:22]), axis=1)\n",
    "animate3d(joint_original_forward, smpl_smpl_bone, first_total_standard=63)"
   ]
  },
  {
   "cell_type": "markdown",
   "id": "2391635f",
   "metadata": {},
   "source": [
    "### 2. Compare SMPL FK & original"
   ]
  },
  {
   "cell_type": "code",
   "execution_count": 7,
   "id": "d0d80c39",
   "metadata": {
    "scrolled": true
   },
   "outputs": [
    {
     "name": "stdout",
     "output_type": "stream",
     "text": [
      "torch.Size([24, 6890])\n"
     ]
    },
    {
     "data": {
      "application/vnd.plotly.v1+json": {
       "config": {
        "plotlyServerURL": "https://plot.ly"
       },
       "data": [
        {
         "marker": {
          "color": "blue",
          "size": 3
         },
         "mode": "lines+markers",
         "name": "Nodes0",
         "type": "scatter3d",
         "x": [
          0,
          -0.02757894992828369,
          null,
          -0.02757894992828369,
          -0.029813334345817566,
          null,
          -0.029813334345817566,
          -0.10880035161972046,
          null,
          -0.10880035161972046,
          0.013632968068122864,
          null,
          0,
          -0.007673441432416439,
          null,
          -0.007673441432416439,
          0.012871179729700089,
          null,
          0.012871179729700089,
          -0.09153563529253006,
          null,
          -0.09153563529253006,
          0.04342936724424362,
          null,
          0,
          -0.03876158595085144,
          null,
          -0.03876158595085144,
          0.008906404487788677,
          null,
          0.008906404487788677,
          0.012842455878853798,
          null,
          0.012842455878853798,
          0.021339230239391327,
          null,
          0.021339230239391327,
          0.07564855366945267,
          null,
          0.012842455878853798,
          0.00807435717433691,
          null,
          0.00807435717433691,
          -0.04062090441584587,
          null,
          -0.04062090441584587,
          -0.09119507670402527,
          null,
          -0.09119507670402527,
          0.015436120331287384,
          null,
          0.012842455878853798,
          0.011563931591808796,
          null,
          0.011563931591808796,
          0.01994246430695057,
          null,
          0.01994246430695057,
          -0.0441981740295887,
          null,
          -0.0441981740295887,
          0.0563439317047596,
          null
         ],
         "y": [
          0,
          0.0493721067905426,
          null,
          0.0493721067905426,
          0.09333429485559464,
          null,
          0.09333429485559464,
          0.03342016041278839,
          null,
          0.03342016041278839,
          0.10828682780265808,
          null,
          0,
          -0.06110873818397522,
          null,
          -0.06110873818397522,
          -0.08617083728313446,
          null,
          -0.08617083728313446,
          -0.07831589877605438,
          null,
          -0.07831589877605438,
          -0.09410525858402252,
          null,
          0,
          0.004341090563684702,
          null,
          0.004341090563684702,
          0.02002875693142414,
          null,
          0.02002875693142414,
          0.01712832599878311,
          null,
          0.01712832599878311,
          0.014040201902389526,
          null,
          0.014040201902389526,
          0.023110030218958855,
          null,
          0.01712832599878311,
          0.10243646800518036,
          null,
          0.10243646800518036,
          0.21693836152553558,
          null,
          0.21693836152553558,
          0.2032710611820221,
          null,
          0.2032710611820221,
          0.2871222198009491,
          null,
          0.01712832599878311,
          -0.05452822148799896,
          null,
          -0.05452822148799896,
          -0.18286117911338806,
          null,
          -0.18286117911338806,
          -0.20240774750709534,
          null,
          -0.20240774750709534,
          -0.2640422284603119,
          null
         ],
         "z": [
          0.9460981488227844,
          0.8549245595932007,
          null,
          0.8549245595932007,
          0.46774986386299133,
          null,
          0.46774986386299133,
          0.0518871434032917,
          null,
          0.0518871434032917,
          0.00340116024017334,
          null,
          0.9460981488227844,
          0.8616496920585632,
          null,
          0.8616496920585632,
          0.46613064408302307,
          null,
          0.46613064408302307,
          0.054364752024412155,
          null,
          0.054364752024412155,
          0.00956602394580841,
          null,
          0.9460981488227844,
          1.0702242851257324,
          null,
          1.0702242851257324,
          1.205068588256836,
          null,
          1.205068588256836,
          1.2637426853179932,
          null,
          1.2637426853179932,
          1.478883981704712,
          null,
          1.478883981704712,
          1.5660123825073242,
          null,
          1.2637426853179932,
          1.379123330116272,
          null,
          1.379123330116272,
          1.3629177808761597,
          null,
          1.3629177808761597,
          1.109022855758667,
          null,
          1.109022855758667,
          0.882095992565155,
          null,
          1.2637426853179932,
          1.380314588546753,
          null,
          1.380314588546753,
          1.3693979978561401,
          null,
          1.3693979978561401,
          1.1171653270721436,
          null,
          1.1171653270721436,
          0.8811202049255371,
          null
         ]
        },
        {
         "marker": {
          "color": "red",
          "size": 3
         },
         "mode": "lines+markers",
         "name": "Nodes1",
         "type": "scatter3d",
         "x": [
          0.028365429490804672,
          0.016264716163277626,
          null,
          0.016264716163277626,
          0.06267878413200378,
          null,
          0.06267878413200378,
          0.027134045958518982,
          null,
          0.027134045958518982,
          0.15849128365516663,
          null,
          0.028365429490804672,
          0.009748794138431549,
          null,
          0.009748794138431549,
          -0.001984446309506893,
          null,
          -0.001984446309506893,
          -0.13800187408924103,
          null,
          -0.13800187408924103,
          -0.009392887353897095,
          null,
          0.028365429490804672,
          -0.010411642491817474,
          null,
          -0.010411642491817474,
          0.036172881722450256,
          null,
          0.036172881722450256,
          0.039922863245010376,
          null,
          0.039922863245010376,
          0.034386612474918365,
          null,
          0.034386612474918365,
          0.08350968360900879,
          null,
          0.039922863245010376,
          0.03755809739232063,
          null,
          0.03755809739232063,
          -0.00967152789235115,
          null,
          -0.00967152789235115,
          -0.0651201605796814,
          null,
          -0.0651201605796814,
          0.04019524157047272,
          null,
          0.039922863245010376,
          0.029265020042657852,
          null,
          0.029265020042657852,
          0.01740962080657482,
          null,
          0.01740962080657482,
          -0.05120626837015152,
          null,
          -0.05120626837015152,
          0.03625743091106415,
          null
         ],
         "y": [
          0.0021542534232139587,
          0.05671475827693939,
          null,
          0.05671475827693939,
          0.10671523213386536,
          null,
          0.10671523213386536,
          0.06268113851547241,
          null,
          0.06268113851547241,
          0.12429577857255936,
          null,
          0.0021542534232139587,
          -0.06118841469287872,
          null,
          -0.06118841469287872,
          -0.10768187046051025,
          null,
          -0.10768187046051025,
          -0.11274592578411102,
          null,
          -0.11274592578411102,
          -0.14194220304489136,
          null,
          0.0021542534232139587,
          0.006495981477200985,
          null,
          0.006495981477200985,
          0.021825645118951797,
          null,
          0.021825645118951797,
          0.019056998193264008,
          null,
          0.019056998193264008,
          0.015228154137730598,
          null,
          0.015228154137730598,
          0.01972230151295662,
          null,
          0.019056998193264008,
          0.09273563325405121,
          null,
          0.09273563325405121,
          0.20593632757663727,
          null,
          0.20593632757663727,
          0.215379536151886,
          null,
          0.215379536151886,
          0.32060888409614563,
          null,
          0.019056998193264008,
          -0.06123709678649902,
          null,
          -0.06123709678649902,
          -0.1909516155719757,
          null,
          -0.1909516155719757,
          -0.17791754007339478,
          null,
          -0.17791754007339478,
          -0.23299267888069153,
          null
         ],
         "z": [
          0.9243614673614502,
          0.8301182389259338,
          null,
          0.8301182389259338,
          0.4498482346534729,
          null,
          0.4498482346534729,
          0.03175687789916992,
          null,
          0.03175687789916992,
          0.00020492076873779297,
          null,
          0.9243614673614502,
          0.8459481596946716,
          null,
          0.8459481596946716,
          0.4596843719482422,
          null,
          0.4596843719482422,
          0.053096890449523926,
          null,
          0.053096890449523926,
          0,
          null,
          0.9243614673614502,
          1.0485131740570068,
          null,
          1.0485131740570068,
          1.180319905281067,
          null,
          1.180319905281067,
          1.2362749576568604,
          null,
          1.2362749576568604,
          1.4507973194122314,
          null,
          1.4507973194122314,
          1.5411274433135986,
          null,
          1.2362749576568604,
          1.357283592224121,
          null,
          1.357283592224121,
          1.3522953987121582,
          null,
          1.3522953987121582,
          1.0960105657577515,
          null,
          1.0960105657577515,
          0.8717113733291626,
          null,
          1.2362749576568604,
          1.345414638519287,
          null,
          1.345414638519287,
          1.322586178779602,
          null,
          1.322586178779602,
          1.0753824710845947,
          null,
          1.0753824710845947,
          0.8302987813949585,
          null
         ]
        }
       ],
       "frames": [
        {
         "data": [
          {
           "marker": {
            "color": "blue",
            "size": 3
           },
           "mode": "lines+markers",
           "name": "Nodes0",
           "type": "scatter3d",
           "x": [
            0,
            -0.02757894992828369,
            null,
            -0.02757894992828369,
            -0.029813334345817566,
            null,
            -0.029813334345817566,
            -0.10880035161972046,
            null,
            -0.10880035161972046,
            0.013632968068122864,
            null,
            0,
            -0.007673441432416439,
            null,
            -0.007673441432416439,
            0.012871179729700089,
            null,
            0.012871179729700089,
            -0.09153563529253006,
            null,
            -0.09153563529253006,
            0.04342936724424362,
            null,
            0,
            -0.03876158595085144,
            null,
            -0.03876158595085144,
            0.008906404487788677,
            null,
            0.008906404487788677,
            0.012842455878853798,
            null,
            0.012842455878853798,
            0.021339230239391327,
            null,
            0.021339230239391327,
            0.07564855366945267,
            null,
            0.012842455878853798,
            0.00807435717433691,
            null,
            0.00807435717433691,
            -0.04062090441584587,
            null,
            -0.04062090441584587,
            -0.09119507670402527,
            null,
            -0.09119507670402527,
            0.015436120331287384,
            null,
            0.012842455878853798,
            0.011563931591808796,
            null,
            0.011563931591808796,
            0.01994246430695057,
            null,
            0.01994246430695057,
            -0.0441981740295887,
            null,
            -0.0441981740295887,
            0.0563439317047596,
            null
           ],
           "y": [
            0,
            0.0493721067905426,
            null,
            0.0493721067905426,
            0.09333429485559464,
            null,
            0.09333429485559464,
            0.03342016041278839,
            null,
            0.03342016041278839,
            0.10828682780265808,
            null,
            0,
            -0.06110873818397522,
            null,
            -0.06110873818397522,
            -0.08617083728313446,
            null,
            -0.08617083728313446,
            -0.07831589877605438,
            null,
            -0.07831589877605438,
            -0.09410525858402252,
            null,
            0,
            0.004341090563684702,
            null,
            0.004341090563684702,
            0.02002875693142414,
            null,
            0.02002875693142414,
            0.01712832599878311,
            null,
            0.01712832599878311,
            0.014040201902389526,
            null,
            0.014040201902389526,
            0.023110030218958855,
            null,
            0.01712832599878311,
            0.10243646800518036,
            null,
            0.10243646800518036,
            0.21693836152553558,
            null,
            0.21693836152553558,
            0.2032710611820221,
            null,
            0.2032710611820221,
            0.2871222198009491,
            null,
            0.01712832599878311,
            -0.05452822148799896,
            null,
            -0.05452822148799896,
            -0.18286117911338806,
            null,
            -0.18286117911338806,
            -0.20240774750709534,
            null,
            -0.20240774750709534,
            -0.2640422284603119,
            null
           ],
           "z": [
            0.9460981488227844,
            0.8549245595932007,
            null,
            0.8549245595932007,
            0.46774986386299133,
            null,
            0.46774986386299133,
            0.0518871434032917,
            null,
            0.0518871434032917,
            0.00340116024017334,
            null,
            0.9460981488227844,
            0.8616496920585632,
            null,
            0.8616496920585632,
            0.46613064408302307,
            null,
            0.46613064408302307,
            0.054364752024412155,
            null,
            0.054364752024412155,
            0.00956602394580841,
            null,
            0.9460981488227844,
            1.0702242851257324,
            null,
            1.0702242851257324,
            1.205068588256836,
            null,
            1.205068588256836,
            1.2637426853179932,
            null,
            1.2637426853179932,
            1.478883981704712,
            null,
            1.478883981704712,
            1.5660123825073242,
            null,
            1.2637426853179932,
            1.379123330116272,
            null,
            1.379123330116272,
            1.3629177808761597,
            null,
            1.3629177808761597,
            1.109022855758667,
            null,
            1.109022855758667,
            0.882095992565155,
            null,
            1.2637426853179932,
            1.380314588546753,
            null,
            1.380314588546753,
            1.3693979978561401,
            null,
            1.3693979978561401,
            1.1171653270721436,
            null,
            1.1171653270721436,
            0.8811202049255371,
            null
           ]
          },
          {
           "marker": {
            "color": "red",
            "size": 3
           },
           "mode": "lines+markers",
           "name": "Nodes1",
           "type": "scatter3d",
           "x": [
            0.028365429490804672,
            0.016264716163277626,
            null,
            0.016264716163277626,
            0.06267878413200378,
            null,
            0.06267878413200378,
            0.027134045958518982,
            null,
            0.027134045958518982,
            0.15849128365516663,
            null,
            0.028365429490804672,
            0.009748794138431549,
            null,
            0.009748794138431549,
            -0.001984446309506893,
            null,
            -0.001984446309506893,
            -0.13800187408924103,
            null,
            -0.13800187408924103,
            -0.009392887353897095,
            null,
            0.028365429490804672,
            -0.010411642491817474,
            null,
            -0.010411642491817474,
            0.036172881722450256,
            null,
            0.036172881722450256,
            0.039922863245010376,
            null,
            0.039922863245010376,
            0.034386612474918365,
            null,
            0.034386612474918365,
            0.08350968360900879,
            null,
            0.039922863245010376,
            0.03755809739232063,
            null,
            0.03755809739232063,
            -0.00967152789235115,
            null,
            -0.00967152789235115,
            -0.0651201605796814,
            null,
            -0.0651201605796814,
            0.04019524157047272,
            null,
            0.039922863245010376,
            0.029265020042657852,
            null,
            0.029265020042657852,
            0.01740962080657482,
            null,
            0.01740962080657482,
            -0.05120626837015152,
            null,
            -0.05120626837015152,
            0.03625743091106415,
            null
           ],
           "y": [
            0.0021542534232139587,
            0.05671475827693939,
            null,
            0.05671475827693939,
            0.10671523213386536,
            null,
            0.10671523213386536,
            0.06268113851547241,
            null,
            0.06268113851547241,
            0.12429577857255936,
            null,
            0.0021542534232139587,
            -0.06118841469287872,
            null,
            -0.06118841469287872,
            -0.10768187046051025,
            null,
            -0.10768187046051025,
            -0.11274592578411102,
            null,
            -0.11274592578411102,
            -0.14194220304489136,
            null,
            0.0021542534232139587,
            0.006495981477200985,
            null,
            0.006495981477200985,
            0.021825645118951797,
            null,
            0.021825645118951797,
            0.019056998193264008,
            null,
            0.019056998193264008,
            0.015228154137730598,
            null,
            0.015228154137730598,
            0.01972230151295662,
            null,
            0.019056998193264008,
            0.09273563325405121,
            null,
            0.09273563325405121,
            0.20593632757663727,
            null,
            0.20593632757663727,
            0.215379536151886,
            null,
            0.215379536151886,
            0.32060888409614563,
            null,
            0.019056998193264008,
            -0.06123709678649902,
            null,
            -0.06123709678649902,
            -0.1909516155719757,
            null,
            -0.1909516155719757,
            -0.17791754007339478,
            null,
            -0.17791754007339478,
            -0.23299267888069153,
            null
           ],
           "z": [
            0.9243614673614502,
            0.8301182389259338,
            null,
            0.8301182389259338,
            0.4498482346534729,
            null,
            0.4498482346534729,
            0.03175687789916992,
            null,
            0.03175687789916992,
            0.00020492076873779297,
            null,
            0.9243614673614502,
            0.8459481596946716,
            null,
            0.8459481596946716,
            0.4596843719482422,
            null,
            0.4596843719482422,
            0.053096890449523926,
            null,
            0.053096890449523926,
            0,
            null,
            0.9243614673614502,
            1.0485131740570068,
            null,
            1.0485131740570068,
            1.180319905281067,
            null,
            1.180319905281067,
            1.2362749576568604,
            null,
            1.2362749576568604,
            1.4507973194122314,
            null,
            1.4507973194122314,
            1.5411274433135986,
            null,
            1.2362749576568604,
            1.357283592224121,
            null,
            1.357283592224121,
            1.3522953987121582,
            null,
            1.3522953987121582,
            1.0960105657577515,
            null,
            1.0960105657577515,
            0.8717113733291626,
            null,
            1.2362749576568604,
            1.345414638519287,
            null,
            1.345414638519287,
            1.322586178779602,
            null,
            1.322586178779602,
            1.0753824710845947,
            null,
            1.0753824710845947,
            0.8302987813949585,
            null
           ]
          }
         ],
         "name": "frame0"
        }
       ],
       "layout": {
        "scene": {
         "aspectmode": "manual",
         "aspectratio": {
          "x": 0.29649317264556885,
          "y": 0.5846511125564575,
          "z": 1.5660123825073242
         },
         "camera": {
          "eye": {
           "x": 3,
           "y": 0,
           "z": 0.1
          }
         },
         "xaxis": {
          "range": [
           -0.13800187408924103,
           0.15849128365516663
          ]
         },
         "yaxis": {
          "range": [
           -0.2640422284603119,
           0.32060888409614563
          ]
         },
         "zaxis": {
          "range": [
           0,
           1.5660123825073242
          ]
         }
        },
        "sliders": [
         {
          "len": 0.9,
          "pad": {
           "b": 10,
           "t": 60
          },
          "steps": [
           {
            "args": [
             [
              "frame0"
             ],
             {
              "frame": {
               "duration": 0
              },
              "fromcurrent": true,
              "mode": "immediate",
              "transition": {
               "duration": 0,
               "easing": "linear"
              }
             }
            ],
            "label": "0",
            "method": "animate"
           }
          ],
          "x": 0.1,
          "y": 0
         }
        ],
        "template": {
         "data": {
          "bar": [
           {
            "error_x": {
             "color": "#2a3f5f"
            },
            "error_y": {
             "color": "#2a3f5f"
            },
            "marker": {
             "line": {
              "color": "#E5ECF6",
              "width": 0.5
             },
             "pattern": {
              "fillmode": "overlay",
              "size": 10,
              "solidity": 0.2
             }
            },
            "type": "bar"
           }
          ],
          "barpolar": [
           {
            "marker": {
             "line": {
              "color": "#E5ECF6",
              "width": 0.5
             },
             "pattern": {
              "fillmode": "overlay",
              "size": 10,
              "solidity": 0.2
             }
            },
            "type": "barpolar"
           }
          ],
          "carpet": [
           {
            "aaxis": {
             "endlinecolor": "#2a3f5f",
             "gridcolor": "white",
             "linecolor": "white",
             "minorgridcolor": "white",
             "startlinecolor": "#2a3f5f"
            },
            "baxis": {
             "endlinecolor": "#2a3f5f",
             "gridcolor": "white",
             "linecolor": "white",
             "minorgridcolor": "white",
             "startlinecolor": "#2a3f5f"
            },
            "type": "carpet"
           }
          ],
          "choropleth": [
           {
            "colorbar": {
             "outlinewidth": 0,
             "ticks": ""
            },
            "type": "choropleth"
           }
          ],
          "contour": [
           {
            "colorbar": {
             "outlinewidth": 0,
             "ticks": ""
            },
            "colorscale": [
             [
              0,
              "#0d0887"
             ],
             [
              0.1111111111111111,
              "#46039f"
             ],
             [
              0.2222222222222222,
              "#7201a8"
             ],
             [
              0.3333333333333333,
              "#9c179e"
             ],
             [
              0.4444444444444444,
              "#bd3786"
             ],
             [
              0.5555555555555556,
              "#d8576b"
             ],
             [
              0.6666666666666666,
              "#ed7953"
             ],
             [
              0.7777777777777778,
              "#fb9f3a"
             ],
             [
              0.8888888888888888,
              "#fdca26"
             ],
             [
              1,
              "#f0f921"
             ]
            ],
            "type": "contour"
           }
          ],
          "contourcarpet": [
           {
            "colorbar": {
             "outlinewidth": 0,
             "ticks": ""
            },
            "type": "contourcarpet"
           }
          ],
          "heatmap": [
           {
            "colorbar": {
             "outlinewidth": 0,
             "ticks": ""
            },
            "colorscale": [
             [
              0,
              "#0d0887"
             ],
             [
              0.1111111111111111,
              "#46039f"
             ],
             [
              0.2222222222222222,
              "#7201a8"
             ],
             [
              0.3333333333333333,
              "#9c179e"
             ],
             [
              0.4444444444444444,
              "#bd3786"
             ],
             [
              0.5555555555555556,
              "#d8576b"
             ],
             [
              0.6666666666666666,
              "#ed7953"
             ],
             [
              0.7777777777777778,
              "#fb9f3a"
             ],
             [
              0.8888888888888888,
              "#fdca26"
             ],
             [
              1,
              "#f0f921"
             ]
            ],
            "type": "heatmap"
           }
          ],
          "heatmapgl": [
           {
            "colorbar": {
             "outlinewidth": 0,
             "ticks": ""
            },
            "colorscale": [
             [
              0,
              "#0d0887"
             ],
             [
              0.1111111111111111,
              "#46039f"
             ],
             [
              0.2222222222222222,
              "#7201a8"
             ],
             [
              0.3333333333333333,
              "#9c179e"
             ],
             [
              0.4444444444444444,
              "#bd3786"
             ],
             [
              0.5555555555555556,
              "#d8576b"
             ],
             [
              0.6666666666666666,
              "#ed7953"
             ],
             [
              0.7777777777777778,
              "#fb9f3a"
             ],
             [
              0.8888888888888888,
              "#fdca26"
             ],
             [
              1,
              "#f0f921"
             ]
            ],
            "type": "heatmapgl"
           }
          ],
          "histogram": [
           {
            "marker": {
             "pattern": {
              "fillmode": "overlay",
              "size": 10,
              "solidity": 0.2
             }
            },
            "type": "histogram"
           }
          ],
          "histogram2d": [
           {
            "colorbar": {
             "outlinewidth": 0,
             "ticks": ""
            },
            "colorscale": [
             [
              0,
              "#0d0887"
             ],
             [
              0.1111111111111111,
              "#46039f"
             ],
             [
              0.2222222222222222,
              "#7201a8"
             ],
             [
              0.3333333333333333,
              "#9c179e"
             ],
             [
              0.4444444444444444,
              "#bd3786"
             ],
             [
              0.5555555555555556,
              "#d8576b"
             ],
             [
              0.6666666666666666,
              "#ed7953"
             ],
             [
              0.7777777777777778,
              "#fb9f3a"
             ],
             [
              0.8888888888888888,
              "#fdca26"
             ],
             [
              1,
              "#f0f921"
             ]
            ],
            "type": "histogram2d"
           }
          ],
          "histogram2dcontour": [
           {
            "colorbar": {
             "outlinewidth": 0,
             "ticks": ""
            },
            "colorscale": [
             [
              0,
              "#0d0887"
             ],
             [
              0.1111111111111111,
              "#46039f"
             ],
             [
              0.2222222222222222,
              "#7201a8"
             ],
             [
              0.3333333333333333,
              "#9c179e"
             ],
             [
              0.4444444444444444,
              "#bd3786"
             ],
             [
              0.5555555555555556,
              "#d8576b"
             ],
             [
              0.6666666666666666,
              "#ed7953"
             ],
             [
              0.7777777777777778,
              "#fb9f3a"
             ],
             [
              0.8888888888888888,
              "#fdca26"
             ],
             [
              1,
              "#f0f921"
             ]
            ],
            "type": "histogram2dcontour"
           }
          ],
          "mesh3d": [
           {
            "colorbar": {
             "outlinewidth": 0,
             "ticks": ""
            },
            "type": "mesh3d"
           }
          ],
          "parcoords": [
           {
            "line": {
             "colorbar": {
              "outlinewidth": 0,
              "ticks": ""
             }
            },
            "type": "parcoords"
           }
          ],
          "pie": [
           {
            "automargin": true,
            "type": "pie"
           }
          ],
          "scatter": [
           {
            "fillpattern": {
             "fillmode": "overlay",
             "size": 10,
             "solidity": 0.2
            },
            "type": "scatter"
           }
          ],
          "scatter3d": [
           {
            "line": {
             "colorbar": {
              "outlinewidth": 0,
              "ticks": ""
             }
            },
            "marker": {
             "colorbar": {
              "outlinewidth": 0,
              "ticks": ""
             }
            },
            "type": "scatter3d"
           }
          ],
          "scattercarpet": [
           {
            "marker": {
             "colorbar": {
              "outlinewidth": 0,
              "ticks": ""
             }
            },
            "type": "scattercarpet"
           }
          ],
          "scattergeo": [
           {
            "marker": {
             "colorbar": {
              "outlinewidth": 0,
              "ticks": ""
             }
            },
            "type": "scattergeo"
           }
          ],
          "scattergl": [
           {
            "marker": {
             "colorbar": {
              "outlinewidth": 0,
              "ticks": ""
             }
            },
            "type": "scattergl"
           }
          ],
          "scattermapbox": [
           {
            "marker": {
             "colorbar": {
              "outlinewidth": 0,
              "ticks": ""
             }
            },
            "type": "scattermapbox"
           }
          ],
          "scatterpolar": [
           {
            "marker": {
             "colorbar": {
              "outlinewidth": 0,
              "ticks": ""
             }
            },
            "type": "scatterpolar"
           }
          ],
          "scatterpolargl": [
           {
            "marker": {
             "colorbar": {
              "outlinewidth": 0,
              "ticks": ""
             }
            },
            "type": "scatterpolargl"
           }
          ],
          "scatterternary": [
           {
            "marker": {
             "colorbar": {
              "outlinewidth": 0,
              "ticks": ""
             }
            },
            "type": "scatterternary"
           }
          ],
          "surface": [
           {
            "colorbar": {
             "outlinewidth": 0,
             "ticks": ""
            },
            "colorscale": [
             [
              0,
              "#0d0887"
             ],
             [
              0.1111111111111111,
              "#46039f"
             ],
             [
              0.2222222222222222,
              "#7201a8"
             ],
             [
              0.3333333333333333,
              "#9c179e"
             ],
             [
              0.4444444444444444,
              "#bd3786"
             ],
             [
              0.5555555555555556,
              "#d8576b"
             ],
             [
              0.6666666666666666,
              "#ed7953"
             ],
             [
              0.7777777777777778,
              "#fb9f3a"
             ],
             [
              0.8888888888888888,
              "#fdca26"
             ],
             [
              1,
              "#f0f921"
             ]
            ],
            "type": "surface"
           }
          ],
          "table": [
           {
            "cells": {
             "fill": {
              "color": "#EBF0F8"
             },
             "line": {
              "color": "white"
             }
            },
            "header": {
             "fill": {
              "color": "#C8D4E3"
             },
             "line": {
              "color": "white"
             }
            },
            "type": "table"
           }
          ]
         },
         "layout": {
          "annotationdefaults": {
           "arrowcolor": "#2a3f5f",
           "arrowhead": 0,
           "arrowwidth": 1
          },
          "autotypenumbers": "strict",
          "coloraxis": {
           "colorbar": {
            "outlinewidth": 0,
            "ticks": ""
           }
          },
          "colorscale": {
           "diverging": [
            [
             0,
             "#8e0152"
            ],
            [
             0.1,
             "#c51b7d"
            ],
            [
             0.2,
             "#de77ae"
            ],
            [
             0.3,
             "#f1b6da"
            ],
            [
             0.4,
             "#fde0ef"
            ],
            [
             0.5,
             "#f7f7f7"
            ],
            [
             0.6,
             "#e6f5d0"
            ],
            [
             0.7,
             "#b8e186"
            ],
            [
             0.8,
             "#7fbc41"
            ],
            [
             0.9,
             "#4d9221"
            ],
            [
             1,
             "#276419"
            ]
           ],
           "sequential": [
            [
             0,
             "#0d0887"
            ],
            [
             0.1111111111111111,
             "#46039f"
            ],
            [
             0.2222222222222222,
             "#7201a8"
            ],
            [
             0.3333333333333333,
             "#9c179e"
            ],
            [
             0.4444444444444444,
             "#bd3786"
            ],
            [
             0.5555555555555556,
             "#d8576b"
            ],
            [
             0.6666666666666666,
             "#ed7953"
            ],
            [
             0.7777777777777778,
             "#fb9f3a"
            ],
            [
             0.8888888888888888,
             "#fdca26"
            ],
            [
             1,
             "#f0f921"
            ]
           ],
           "sequentialminus": [
            [
             0,
             "#0d0887"
            ],
            [
             0.1111111111111111,
             "#46039f"
            ],
            [
             0.2222222222222222,
             "#7201a8"
            ],
            [
             0.3333333333333333,
             "#9c179e"
            ],
            [
             0.4444444444444444,
             "#bd3786"
            ],
            [
             0.5555555555555556,
             "#d8576b"
            ],
            [
             0.6666666666666666,
             "#ed7953"
            ],
            [
             0.7777777777777778,
             "#fb9f3a"
            ],
            [
             0.8888888888888888,
             "#fdca26"
            ],
            [
             1,
             "#f0f921"
            ]
           ]
          },
          "colorway": [
           "#636efa",
           "#EF553B",
           "#00cc96",
           "#ab63fa",
           "#FFA15A",
           "#19d3f3",
           "#FF6692",
           "#B6E880",
           "#FF97FF",
           "#FECB52"
          ],
          "font": {
           "color": "#2a3f5f"
          },
          "geo": {
           "bgcolor": "white",
           "lakecolor": "white",
           "landcolor": "#E5ECF6",
           "showlakes": true,
           "showland": true,
           "subunitcolor": "white"
          },
          "hoverlabel": {
           "align": "left"
          },
          "hovermode": "closest",
          "mapbox": {
           "style": "light"
          },
          "paper_bgcolor": "white",
          "plot_bgcolor": "#E5ECF6",
          "polar": {
           "angularaxis": {
            "gridcolor": "white",
            "linecolor": "white",
            "ticks": ""
           },
           "bgcolor": "#E5ECF6",
           "radialaxis": {
            "gridcolor": "white",
            "linecolor": "white",
            "ticks": ""
           }
          },
          "scene": {
           "xaxis": {
            "backgroundcolor": "#E5ECF6",
            "gridcolor": "white",
            "gridwidth": 2,
            "linecolor": "white",
            "showbackground": true,
            "ticks": "",
            "zerolinecolor": "white"
           },
           "yaxis": {
            "backgroundcolor": "#E5ECF6",
            "gridcolor": "white",
            "gridwidth": 2,
            "linecolor": "white",
            "showbackground": true,
            "ticks": "",
            "zerolinecolor": "white"
           },
           "zaxis": {
            "backgroundcolor": "#E5ECF6",
            "gridcolor": "white",
            "gridwidth": 2,
            "linecolor": "white",
            "showbackground": true,
            "ticks": "",
            "zerolinecolor": "white"
           }
          },
          "shapedefaults": {
           "line": {
            "color": "#2a3f5f"
           }
          },
          "ternary": {
           "aaxis": {
            "gridcolor": "white",
            "linecolor": "white",
            "ticks": ""
           },
           "baxis": {
            "gridcolor": "white",
            "linecolor": "white",
            "ticks": ""
           },
           "bgcolor": "#E5ECF6",
           "caxis": {
            "gridcolor": "white",
            "linecolor": "white",
            "ticks": ""
           }
          },
          "title": {
           "x": 0.05
          },
          "xaxis": {
           "automargin": true,
           "gridcolor": "white",
           "linecolor": "white",
           "ticks": "",
           "title": {
            "standoff": 15
           },
           "zerolinecolor": "white",
           "zerolinewidth": 2
          },
          "yaxis": {
           "automargin": true,
           "gridcolor": "white",
           "linecolor": "white",
           "ticks": "",
           "title": {
            "standoff": 15
           },
           "zerolinecolor": "white",
           "zerolinewidth": 2
          }
         }
        },
        "updatemenus": [
         {
          "buttons": [
           {
            "args": [
             null,
             {
              "frame": {
               "duration": 40
              },
              "fromcurrent": true,
              "mode": "immediate",
              "transition": {
               "duration": 40,
               "easing": "linear"
              }
             }
            ],
            "label": "Play",
            "method": "animate"
           },
           {
            "args": [
             [
              null
             ],
             {
              "frame": {
               "duration": 0
              },
              "fromcurrent": true,
              "mode": "immediate",
              "transition": {
               "duration": 0,
               "easing": "linear"
              }
             }
            ],
            "label": "Pause",
            "method": "animate"
           }
          ],
          "direction": "left",
          "pad": {
           "r": 10,
           "t": 70
          },
          "type": "buttons",
          "x": 0.1,
          "y": 0
         }
        ]
       }
      },
      "text/html": [
       "<div>                            <div id=\"ad150998-f627-49ba-a8e2-d845e6d15b29\" class=\"plotly-graph-div\" style=\"height:525px; width:100%;\"></div>            <script type=\"text/javascript\">                require([\"plotly\"], function(Plotly) {                    window.PLOTLYENV=window.PLOTLYENV || {};                                    if (document.getElementById(\"ad150998-f627-49ba-a8e2-d845e6d15b29\")) {                    Plotly.newPlot(                        \"ad150998-f627-49ba-a8e2-d845e6d15b29\",                        [{\"marker\":{\"color\":\"blue\",\"size\":3},\"mode\":\"lines+markers\",\"name\":\"Nodes0\",\"x\":[0.0,-0.02757894992828369,null,-0.02757894992828369,-0.029813334345817566,null,-0.029813334345817566,-0.10880035161972046,null,-0.10880035161972046,0.013632968068122864,null,0.0,-0.007673441432416439,null,-0.007673441432416439,0.012871179729700089,null,0.012871179729700089,-0.09153563529253006,null,-0.09153563529253006,0.04342936724424362,null,0.0,-0.03876158595085144,null,-0.03876158595085144,0.008906404487788677,null,0.008906404487788677,0.012842455878853798,null,0.012842455878853798,0.021339230239391327,null,0.021339230239391327,0.07564855366945267,null,0.012842455878853798,0.00807435717433691,null,0.00807435717433691,-0.04062090441584587,null,-0.04062090441584587,-0.09119507670402527,null,-0.09119507670402527,0.015436120331287384,null,0.012842455878853798,0.011563931591808796,null,0.011563931591808796,0.01994246430695057,null,0.01994246430695057,-0.0441981740295887,null,-0.0441981740295887,0.0563439317047596,null],\"y\":[-0.0,0.0493721067905426,null,0.0493721067905426,0.09333429485559464,null,0.09333429485559464,0.03342016041278839,null,0.03342016041278839,0.10828682780265808,null,-0.0,-0.06110873818397522,null,-0.06110873818397522,-0.08617083728313446,null,-0.08617083728313446,-0.07831589877605438,null,-0.07831589877605438,-0.09410525858402252,null,-0.0,0.004341090563684702,null,0.004341090563684702,0.02002875693142414,null,0.02002875693142414,0.01712832599878311,null,0.01712832599878311,0.014040201902389526,null,0.014040201902389526,0.023110030218958855,null,0.01712832599878311,0.10243646800518036,null,0.10243646800518036,0.21693836152553558,null,0.21693836152553558,0.2032710611820221,null,0.2032710611820221,0.2871222198009491,null,0.01712832599878311,-0.05452822148799896,null,-0.05452822148799896,-0.18286117911338806,null,-0.18286117911338806,-0.20240774750709534,null,-0.20240774750709534,-0.2640422284603119,null],\"z\":[0.9460981488227844,0.8549245595932007,null,0.8549245595932007,0.46774986386299133,null,0.46774986386299133,0.0518871434032917,null,0.0518871434032917,0.00340116024017334,null,0.9460981488227844,0.8616496920585632,null,0.8616496920585632,0.46613064408302307,null,0.46613064408302307,0.054364752024412155,null,0.054364752024412155,0.00956602394580841,null,0.9460981488227844,1.0702242851257324,null,1.0702242851257324,1.205068588256836,null,1.205068588256836,1.2637426853179932,null,1.2637426853179932,1.478883981704712,null,1.478883981704712,1.5660123825073242,null,1.2637426853179932,1.379123330116272,null,1.379123330116272,1.3629177808761597,null,1.3629177808761597,1.109022855758667,null,1.109022855758667,0.882095992565155,null,1.2637426853179932,1.380314588546753,null,1.380314588546753,1.3693979978561401,null,1.3693979978561401,1.1171653270721436,null,1.1171653270721436,0.8811202049255371,null],\"type\":\"scatter3d\"},{\"marker\":{\"color\":\"red\",\"size\":3},\"mode\":\"lines+markers\",\"name\":\"Nodes1\",\"x\":[0.028365429490804672,0.016264716163277626,null,0.016264716163277626,0.06267878413200378,null,0.06267878413200378,0.027134045958518982,null,0.027134045958518982,0.15849128365516663,null,0.028365429490804672,0.009748794138431549,null,0.009748794138431549,-0.001984446309506893,null,-0.001984446309506893,-0.13800187408924103,null,-0.13800187408924103,-0.009392887353897095,null,0.028365429490804672,-0.010411642491817474,null,-0.010411642491817474,0.036172881722450256,null,0.036172881722450256,0.039922863245010376,null,0.039922863245010376,0.034386612474918365,null,0.034386612474918365,0.08350968360900879,null,0.039922863245010376,0.03755809739232063,null,0.03755809739232063,-0.00967152789235115,null,-0.00967152789235115,-0.0651201605796814,null,-0.0651201605796814,0.04019524157047272,null,0.039922863245010376,0.029265020042657852,null,0.029265020042657852,0.01740962080657482,null,0.01740962080657482,-0.05120626837015152,null,-0.05120626837015152,0.03625743091106415,null],\"y\":[0.0021542534232139587,0.05671475827693939,null,0.05671475827693939,0.10671523213386536,null,0.10671523213386536,0.06268113851547241,null,0.06268113851547241,0.12429577857255936,null,0.0021542534232139587,-0.06118841469287872,null,-0.06118841469287872,-0.10768187046051025,null,-0.10768187046051025,-0.11274592578411102,null,-0.11274592578411102,-0.14194220304489136,null,0.0021542534232139587,0.006495981477200985,null,0.006495981477200985,0.021825645118951797,null,0.021825645118951797,0.019056998193264008,null,0.019056998193264008,0.015228154137730598,null,0.015228154137730598,0.01972230151295662,null,0.019056998193264008,0.09273563325405121,null,0.09273563325405121,0.20593632757663727,null,0.20593632757663727,0.215379536151886,null,0.215379536151886,0.32060888409614563,null,0.019056998193264008,-0.06123709678649902,null,-0.06123709678649902,-0.1909516155719757,null,-0.1909516155719757,-0.17791754007339478,null,-0.17791754007339478,-0.23299267888069153,null],\"z\":[0.9243614673614502,0.8301182389259338,null,0.8301182389259338,0.4498482346534729,null,0.4498482346534729,0.03175687789916992,null,0.03175687789916992,0.00020492076873779297,null,0.9243614673614502,0.8459481596946716,null,0.8459481596946716,0.4596843719482422,null,0.4596843719482422,0.053096890449523926,null,0.053096890449523926,0.0,null,0.9243614673614502,1.0485131740570068,null,1.0485131740570068,1.180319905281067,null,1.180319905281067,1.2362749576568604,null,1.2362749576568604,1.4507973194122314,null,1.4507973194122314,1.5411274433135986,null,1.2362749576568604,1.357283592224121,null,1.357283592224121,1.3522953987121582,null,1.3522953987121582,1.0960105657577515,null,1.0960105657577515,0.8717113733291626,null,1.2362749576568604,1.345414638519287,null,1.345414638519287,1.322586178779602,null,1.322586178779602,1.0753824710845947,null,1.0753824710845947,0.8302987813949585,null],\"type\":\"scatter3d\"}],                        {\"scene\":{\"aspectmode\":\"manual\",\"camera\":{\"eye\":{\"x\":3,\"y\":0,\"z\":0.1}},\"xaxis\":{\"range\":[-0.13800187408924103,0.15849128365516663]},\"yaxis\":{\"range\":[-0.2640422284603119,0.32060888409614563]},\"zaxis\":{\"range\":[0.0,1.5660123825073242]},\"aspectratio\":{\"x\":0.29649317264556885,\"y\":0.5846511125564575,\"z\":1.5660123825073242}},\"template\":{\"data\":{\"histogram2dcontour\":[{\"type\":\"histogram2dcontour\",\"colorbar\":{\"outlinewidth\":0,\"ticks\":\"\"},\"colorscale\":[[0.0,\"#0d0887\"],[0.1111111111111111,\"#46039f\"],[0.2222222222222222,\"#7201a8\"],[0.3333333333333333,\"#9c179e\"],[0.4444444444444444,\"#bd3786\"],[0.5555555555555556,\"#d8576b\"],[0.6666666666666666,\"#ed7953\"],[0.7777777777777778,\"#fb9f3a\"],[0.8888888888888888,\"#fdca26\"],[1.0,\"#f0f921\"]]}],\"choropleth\":[{\"type\":\"choropleth\",\"colorbar\":{\"outlinewidth\":0,\"ticks\":\"\"}}],\"histogram2d\":[{\"type\":\"histogram2d\",\"colorbar\":{\"outlinewidth\":0,\"ticks\":\"\"},\"colorscale\":[[0.0,\"#0d0887\"],[0.1111111111111111,\"#46039f\"],[0.2222222222222222,\"#7201a8\"],[0.3333333333333333,\"#9c179e\"],[0.4444444444444444,\"#bd3786\"],[0.5555555555555556,\"#d8576b\"],[0.6666666666666666,\"#ed7953\"],[0.7777777777777778,\"#fb9f3a\"],[0.8888888888888888,\"#fdca26\"],[1.0,\"#f0f921\"]]}],\"heatmap\":[{\"type\":\"heatmap\",\"colorbar\":{\"outlinewidth\":0,\"ticks\":\"\"},\"colorscale\":[[0.0,\"#0d0887\"],[0.1111111111111111,\"#46039f\"],[0.2222222222222222,\"#7201a8\"],[0.3333333333333333,\"#9c179e\"],[0.4444444444444444,\"#bd3786\"],[0.5555555555555556,\"#d8576b\"],[0.6666666666666666,\"#ed7953\"],[0.7777777777777778,\"#fb9f3a\"],[0.8888888888888888,\"#fdca26\"],[1.0,\"#f0f921\"]]}],\"heatmapgl\":[{\"type\":\"heatmapgl\",\"colorbar\":{\"outlinewidth\":0,\"ticks\":\"\"},\"colorscale\":[[0.0,\"#0d0887\"],[0.1111111111111111,\"#46039f\"],[0.2222222222222222,\"#7201a8\"],[0.3333333333333333,\"#9c179e\"],[0.4444444444444444,\"#bd3786\"],[0.5555555555555556,\"#d8576b\"],[0.6666666666666666,\"#ed7953\"],[0.7777777777777778,\"#fb9f3a\"],[0.8888888888888888,\"#fdca26\"],[1.0,\"#f0f921\"]]}],\"contourcarpet\":[{\"type\":\"contourcarpet\",\"colorbar\":{\"outlinewidth\":0,\"ticks\":\"\"}}],\"contour\":[{\"type\":\"contour\",\"colorbar\":{\"outlinewidth\":0,\"ticks\":\"\"},\"colorscale\":[[0.0,\"#0d0887\"],[0.1111111111111111,\"#46039f\"],[0.2222222222222222,\"#7201a8\"],[0.3333333333333333,\"#9c179e\"],[0.4444444444444444,\"#bd3786\"],[0.5555555555555556,\"#d8576b\"],[0.6666666666666666,\"#ed7953\"],[0.7777777777777778,\"#fb9f3a\"],[0.8888888888888888,\"#fdca26\"],[1.0,\"#f0f921\"]]}],\"surface\":[{\"type\":\"surface\",\"colorbar\":{\"outlinewidth\":0,\"ticks\":\"\"},\"colorscale\":[[0.0,\"#0d0887\"],[0.1111111111111111,\"#46039f\"],[0.2222222222222222,\"#7201a8\"],[0.3333333333333333,\"#9c179e\"],[0.4444444444444444,\"#bd3786\"],[0.5555555555555556,\"#d8576b\"],[0.6666666666666666,\"#ed7953\"],[0.7777777777777778,\"#fb9f3a\"],[0.8888888888888888,\"#fdca26\"],[1.0,\"#f0f921\"]]}],\"mesh3d\":[{\"type\":\"mesh3d\",\"colorbar\":{\"outlinewidth\":0,\"ticks\":\"\"}}],\"scatter\":[{\"fillpattern\":{\"fillmode\":\"overlay\",\"size\":10,\"solidity\":0.2},\"type\":\"scatter\"}],\"parcoords\":[{\"type\":\"parcoords\",\"line\":{\"colorbar\":{\"outlinewidth\":0,\"ticks\":\"\"}}}],\"scatterpolargl\":[{\"type\":\"scatterpolargl\",\"marker\":{\"colorbar\":{\"outlinewidth\":0,\"ticks\":\"\"}}}],\"bar\":[{\"error_x\":{\"color\":\"#2a3f5f\"},\"error_y\":{\"color\":\"#2a3f5f\"},\"marker\":{\"line\":{\"color\":\"#E5ECF6\",\"width\":0.5},\"pattern\":{\"fillmode\":\"overlay\",\"size\":10,\"solidity\":0.2}},\"type\":\"bar\"}],\"scattergeo\":[{\"type\":\"scattergeo\",\"marker\":{\"colorbar\":{\"outlinewidth\":0,\"ticks\":\"\"}}}],\"scatterpolar\":[{\"type\":\"scatterpolar\",\"marker\":{\"colorbar\":{\"outlinewidth\":0,\"ticks\":\"\"}}}],\"histogram\":[{\"marker\":{\"pattern\":{\"fillmode\":\"overlay\",\"size\":10,\"solidity\":0.2}},\"type\":\"histogram\"}],\"scattergl\":[{\"type\":\"scattergl\",\"marker\":{\"colorbar\":{\"outlinewidth\":0,\"ticks\":\"\"}}}],\"scatter3d\":[{\"type\":\"scatter3d\",\"line\":{\"colorbar\":{\"outlinewidth\":0,\"ticks\":\"\"}},\"marker\":{\"colorbar\":{\"outlinewidth\":0,\"ticks\":\"\"}}}],\"scattermapbox\":[{\"type\":\"scattermapbox\",\"marker\":{\"colorbar\":{\"outlinewidth\":0,\"ticks\":\"\"}}}],\"scatterternary\":[{\"type\":\"scatterternary\",\"marker\":{\"colorbar\":{\"outlinewidth\":0,\"ticks\":\"\"}}}],\"scattercarpet\":[{\"type\":\"scattercarpet\",\"marker\":{\"colorbar\":{\"outlinewidth\":0,\"ticks\":\"\"}}}],\"carpet\":[{\"aaxis\":{\"endlinecolor\":\"#2a3f5f\",\"gridcolor\":\"white\",\"linecolor\":\"white\",\"minorgridcolor\":\"white\",\"startlinecolor\":\"#2a3f5f\"},\"baxis\":{\"endlinecolor\":\"#2a3f5f\",\"gridcolor\":\"white\",\"linecolor\":\"white\",\"minorgridcolor\":\"white\",\"startlinecolor\":\"#2a3f5f\"},\"type\":\"carpet\"}],\"table\":[{\"cells\":{\"fill\":{\"color\":\"#EBF0F8\"},\"line\":{\"color\":\"white\"}},\"header\":{\"fill\":{\"color\":\"#C8D4E3\"},\"line\":{\"color\":\"white\"}},\"type\":\"table\"}],\"barpolar\":[{\"marker\":{\"line\":{\"color\":\"#E5ECF6\",\"width\":0.5},\"pattern\":{\"fillmode\":\"overlay\",\"size\":10,\"solidity\":0.2}},\"type\":\"barpolar\"}],\"pie\":[{\"automargin\":true,\"type\":\"pie\"}]},\"layout\":{\"autotypenumbers\":\"strict\",\"colorway\":[\"#636efa\",\"#EF553B\",\"#00cc96\",\"#ab63fa\",\"#FFA15A\",\"#19d3f3\",\"#FF6692\",\"#B6E880\",\"#FF97FF\",\"#FECB52\"],\"font\":{\"color\":\"#2a3f5f\"},\"hovermode\":\"closest\",\"hoverlabel\":{\"align\":\"left\"},\"paper_bgcolor\":\"white\",\"plot_bgcolor\":\"#E5ECF6\",\"polar\":{\"bgcolor\":\"#E5ECF6\",\"angularaxis\":{\"gridcolor\":\"white\",\"linecolor\":\"white\",\"ticks\":\"\"},\"radialaxis\":{\"gridcolor\":\"white\",\"linecolor\":\"white\",\"ticks\":\"\"}},\"ternary\":{\"bgcolor\":\"#E5ECF6\",\"aaxis\":{\"gridcolor\":\"white\",\"linecolor\":\"white\",\"ticks\":\"\"},\"baxis\":{\"gridcolor\":\"white\",\"linecolor\":\"white\",\"ticks\":\"\"},\"caxis\":{\"gridcolor\":\"white\",\"linecolor\":\"white\",\"ticks\":\"\"}},\"coloraxis\":{\"colorbar\":{\"outlinewidth\":0,\"ticks\":\"\"}},\"colorscale\":{\"sequential\":[[0.0,\"#0d0887\"],[0.1111111111111111,\"#46039f\"],[0.2222222222222222,\"#7201a8\"],[0.3333333333333333,\"#9c179e\"],[0.4444444444444444,\"#bd3786\"],[0.5555555555555556,\"#d8576b\"],[0.6666666666666666,\"#ed7953\"],[0.7777777777777778,\"#fb9f3a\"],[0.8888888888888888,\"#fdca26\"],[1.0,\"#f0f921\"]],\"sequentialminus\":[[0.0,\"#0d0887\"],[0.1111111111111111,\"#46039f\"],[0.2222222222222222,\"#7201a8\"],[0.3333333333333333,\"#9c179e\"],[0.4444444444444444,\"#bd3786\"],[0.5555555555555556,\"#d8576b\"],[0.6666666666666666,\"#ed7953\"],[0.7777777777777778,\"#fb9f3a\"],[0.8888888888888888,\"#fdca26\"],[1.0,\"#f0f921\"]],\"diverging\":[[0,\"#8e0152\"],[0.1,\"#c51b7d\"],[0.2,\"#de77ae\"],[0.3,\"#f1b6da\"],[0.4,\"#fde0ef\"],[0.5,\"#f7f7f7\"],[0.6,\"#e6f5d0\"],[0.7,\"#b8e186\"],[0.8,\"#7fbc41\"],[0.9,\"#4d9221\"],[1,\"#276419\"]]},\"xaxis\":{\"gridcolor\":\"white\",\"linecolor\":\"white\",\"ticks\":\"\",\"title\":{\"standoff\":15},\"zerolinecolor\":\"white\",\"automargin\":true,\"zerolinewidth\":2},\"yaxis\":{\"gridcolor\":\"white\",\"linecolor\":\"white\",\"ticks\":\"\",\"title\":{\"standoff\":15},\"zerolinecolor\":\"white\",\"automargin\":true,\"zerolinewidth\":2},\"scene\":{\"xaxis\":{\"backgroundcolor\":\"#E5ECF6\",\"gridcolor\":\"white\",\"linecolor\":\"white\",\"showbackground\":true,\"ticks\":\"\",\"zerolinecolor\":\"white\",\"gridwidth\":2},\"yaxis\":{\"backgroundcolor\":\"#E5ECF6\",\"gridcolor\":\"white\",\"linecolor\":\"white\",\"showbackground\":true,\"ticks\":\"\",\"zerolinecolor\":\"white\",\"gridwidth\":2},\"zaxis\":{\"backgroundcolor\":\"#E5ECF6\",\"gridcolor\":\"white\",\"linecolor\":\"white\",\"showbackground\":true,\"ticks\":\"\",\"zerolinecolor\":\"white\",\"gridwidth\":2}},\"shapedefaults\":{\"line\":{\"color\":\"#2a3f5f\"}},\"annotationdefaults\":{\"arrowcolor\":\"#2a3f5f\",\"arrowhead\":0,\"arrowwidth\":1},\"geo\":{\"bgcolor\":\"white\",\"landcolor\":\"#E5ECF6\",\"subunitcolor\":\"white\",\"showland\":true,\"showlakes\":true,\"lakecolor\":\"white\"},\"title\":{\"x\":0.05},\"mapbox\":{\"style\":\"light\"}}},\"updatemenus\":[{\"buttons\":[{\"args\":[null,{\"frame\":{\"duration\":40.0},\"mode\":\"immediate\",\"fromcurrent\":true,\"transition\":{\"duration\":40.0,\"easing\":\"linear\"}}],\"label\":\"Play\",\"method\":\"animate\"},{\"args\":[[null],{\"frame\":{\"duration\":0},\"mode\":\"immediate\",\"fromcurrent\":true,\"transition\":{\"duration\":0,\"easing\":\"linear\"}}],\"label\":\"Pause\",\"method\":\"animate\"}],\"direction\":\"left\",\"pad\":{\"r\":10,\"t\":70},\"type\":\"buttons\",\"x\":0.1,\"y\":0}],\"sliders\":[{\"len\":0.9,\"pad\":{\"b\":10,\"t\":60},\"steps\":[{\"args\":[[\"frame0\"],{\"frame\":{\"duration\":0},\"mode\":\"immediate\",\"fromcurrent\":true,\"transition\":{\"duration\":0,\"easing\":\"linear\"}}],\"label\":\"0\",\"method\":\"animate\"}],\"x\":0.1,\"y\":0}]},                        {\"responsive\": true}                    ).then(function(){\n",
       "                            Plotly.addFrames('ad150998-f627-49ba-a8e2-d845e6d15b29', [{\"data\":[{\"marker\":{\"color\":\"blue\",\"size\":3},\"mode\":\"lines+markers\",\"name\":\"Nodes0\",\"x\":[0.0,-0.02757894992828369,null,-0.02757894992828369,-0.029813334345817566,null,-0.029813334345817566,-0.10880035161972046,null,-0.10880035161972046,0.013632968068122864,null,0.0,-0.007673441432416439,null,-0.007673441432416439,0.012871179729700089,null,0.012871179729700089,-0.09153563529253006,null,-0.09153563529253006,0.04342936724424362,null,0.0,-0.03876158595085144,null,-0.03876158595085144,0.008906404487788677,null,0.008906404487788677,0.012842455878853798,null,0.012842455878853798,0.021339230239391327,null,0.021339230239391327,0.07564855366945267,null,0.012842455878853798,0.00807435717433691,null,0.00807435717433691,-0.04062090441584587,null,-0.04062090441584587,-0.09119507670402527,null,-0.09119507670402527,0.015436120331287384,null,0.012842455878853798,0.011563931591808796,null,0.011563931591808796,0.01994246430695057,null,0.01994246430695057,-0.0441981740295887,null,-0.0441981740295887,0.0563439317047596,null],\"y\":[-0.0,0.0493721067905426,null,0.0493721067905426,0.09333429485559464,null,0.09333429485559464,0.03342016041278839,null,0.03342016041278839,0.10828682780265808,null,-0.0,-0.06110873818397522,null,-0.06110873818397522,-0.08617083728313446,null,-0.08617083728313446,-0.07831589877605438,null,-0.07831589877605438,-0.09410525858402252,null,-0.0,0.004341090563684702,null,0.004341090563684702,0.02002875693142414,null,0.02002875693142414,0.01712832599878311,null,0.01712832599878311,0.014040201902389526,null,0.014040201902389526,0.023110030218958855,null,0.01712832599878311,0.10243646800518036,null,0.10243646800518036,0.21693836152553558,null,0.21693836152553558,0.2032710611820221,null,0.2032710611820221,0.2871222198009491,null,0.01712832599878311,-0.05452822148799896,null,-0.05452822148799896,-0.18286117911338806,null,-0.18286117911338806,-0.20240774750709534,null,-0.20240774750709534,-0.2640422284603119,null],\"z\":[0.9460981488227844,0.8549245595932007,null,0.8549245595932007,0.46774986386299133,null,0.46774986386299133,0.0518871434032917,null,0.0518871434032917,0.00340116024017334,null,0.9460981488227844,0.8616496920585632,null,0.8616496920585632,0.46613064408302307,null,0.46613064408302307,0.054364752024412155,null,0.054364752024412155,0.00956602394580841,null,0.9460981488227844,1.0702242851257324,null,1.0702242851257324,1.205068588256836,null,1.205068588256836,1.2637426853179932,null,1.2637426853179932,1.478883981704712,null,1.478883981704712,1.5660123825073242,null,1.2637426853179932,1.379123330116272,null,1.379123330116272,1.3629177808761597,null,1.3629177808761597,1.109022855758667,null,1.109022855758667,0.882095992565155,null,1.2637426853179932,1.380314588546753,null,1.380314588546753,1.3693979978561401,null,1.3693979978561401,1.1171653270721436,null,1.1171653270721436,0.8811202049255371,null],\"type\":\"scatter3d\"},{\"marker\":{\"color\":\"red\",\"size\":3},\"mode\":\"lines+markers\",\"name\":\"Nodes1\",\"x\":[0.028365429490804672,0.016264716163277626,null,0.016264716163277626,0.06267878413200378,null,0.06267878413200378,0.027134045958518982,null,0.027134045958518982,0.15849128365516663,null,0.028365429490804672,0.009748794138431549,null,0.009748794138431549,-0.001984446309506893,null,-0.001984446309506893,-0.13800187408924103,null,-0.13800187408924103,-0.009392887353897095,null,0.028365429490804672,-0.010411642491817474,null,-0.010411642491817474,0.036172881722450256,null,0.036172881722450256,0.039922863245010376,null,0.039922863245010376,0.034386612474918365,null,0.034386612474918365,0.08350968360900879,null,0.039922863245010376,0.03755809739232063,null,0.03755809739232063,-0.00967152789235115,null,-0.00967152789235115,-0.0651201605796814,null,-0.0651201605796814,0.04019524157047272,null,0.039922863245010376,0.029265020042657852,null,0.029265020042657852,0.01740962080657482,null,0.01740962080657482,-0.05120626837015152,null,-0.05120626837015152,0.03625743091106415,null],\"y\":[0.0021542534232139587,0.05671475827693939,null,0.05671475827693939,0.10671523213386536,null,0.10671523213386536,0.06268113851547241,null,0.06268113851547241,0.12429577857255936,null,0.0021542534232139587,-0.06118841469287872,null,-0.06118841469287872,-0.10768187046051025,null,-0.10768187046051025,-0.11274592578411102,null,-0.11274592578411102,-0.14194220304489136,null,0.0021542534232139587,0.006495981477200985,null,0.006495981477200985,0.021825645118951797,null,0.021825645118951797,0.019056998193264008,null,0.019056998193264008,0.015228154137730598,null,0.015228154137730598,0.01972230151295662,null,0.019056998193264008,0.09273563325405121,null,0.09273563325405121,0.20593632757663727,null,0.20593632757663727,0.215379536151886,null,0.215379536151886,0.32060888409614563,null,0.019056998193264008,-0.06123709678649902,null,-0.06123709678649902,-0.1909516155719757,null,-0.1909516155719757,-0.17791754007339478,null,-0.17791754007339478,-0.23299267888069153,null],\"z\":[0.9243614673614502,0.8301182389259338,null,0.8301182389259338,0.4498482346534729,null,0.4498482346534729,0.03175687789916992,null,0.03175687789916992,0.00020492076873779297,null,0.9243614673614502,0.8459481596946716,null,0.8459481596946716,0.4596843719482422,null,0.4596843719482422,0.053096890449523926,null,0.053096890449523926,0.0,null,0.9243614673614502,1.0485131740570068,null,1.0485131740570068,1.180319905281067,null,1.180319905281067,1.2362749576568604,null,1.2362749576568604,1.4507973194122314,null,1.4507973194122314,1.5411274433135986,null,1.2362749576568604,1.357283592224121,null,1.357283592224121,1.3522953987121582,null,1.3522953987121582,1.0960105657577515,null,1.0960105657577515,0.8717113733291626,null,1.2362749576568604,1.345414638519287,null,1.345414638519287,1.322586178779602,null,1.322586178779602,1.0753824710845947,null,1.0753824710845947,0.8302987813949585,null],\"type\":\"scatter3d\"}],\"name\":\"frame0\"}]);\n",
       "                        }).then(function(){\n",
       "                            \n",
       "var gd = document.getElementById('ad150998-f627-49ba-a8e2-d845e6d15b29');\n",
       "var x = new MutationObserver(function (mutations, observer) {{\n",
       "        var display = window.getComputedStyle(gd).display;\n",
       "        if (!display || display === 'none') {{\n",
       "            console.log([gd, 'removed!']);\n",
       "            Plotly.purge(gd);\n",
       "            observer.disconnect();\n",
       "        }}\n",
       "}});\n",
       "\n",
       "// Listen for the removal of the full notebook cells\n",
       "var notebookContainer = gd.closest('#notebook-container');\n",
       "if (notebookContainer) {{\n",
       "    x.observe(notebookContainer, {childList: true});\n",
       "}}\n",
       "\n",
       "// Listen for the clearing of the current output cell\n",
       "var outputEl = gd.closest('.output');\n",
       "if (outputEl) {{\n",
       "    x.observe(outputEl, {childList: true});\n",
       "}}\n",
       "\n",
       "                        })                };                });            </script>        </div>"
      ]
     },
     "metadata": {},
     "output_type": "display_data"
    }
   ],
   "source": [
    "tgt_skel = Skeleton(angle_offset, paramUtil.t2m_kinematic_chain, 'cpu')\n",
    "vis_joint = joint_w_hand[0:1]\n",
    "quat_params = tgt_skel.inverse_kinematics_np(vis_joint, face_joint_idx=[2, 1, 17, 16])\n",
    "\n",
    "axis_angle = quaternion_to_axis_angle(torch.from_numpy(quat_params))\n",
    "verts, joint_smpl = get_SMPL_layer(move_angle_to_parent(axis_angle), display=False)\n",
    "joint_smpl[:, :, 1] -= joint_smpl[:, :, 1].min()\n",
    "joint_original_smpl = np.concatenate((vis_joint[:,:22], joint_smpl[:,:22]), axis=1)\n",
    "animate3d(joint_original_smpl, smpl_smpl_bone, first_total_standard=63)"
   ]
  },
  {
   "cell_type": "markdown",
   "id": "08394ac0",
   "metadata": {},
   "source": [
    "### DELETE ME"
   ]
  },
  {
   "cell_type": "code",
   "execution_count": 10,
   "id": "d3908682",
   "metadata": {},
   "outputs": [
    {
     "name": "stdout",
     "output_type": "stream",
     "text": [
      "torch.Size([24, 6890])\n"
     ]
    },
    {
     "data": {
      "application/vnd.plotly.v1+json": {
       "config": {
        "plotlyServerURL": "https://plot.ly"
       },
       "data": [
        {
         "marker": {
          "color": "blue",
          "size": 3
         },
         "mode": "lines+markers",
         "name": "Nodes0",
         "type": "scatter3d",
         "x": [
          0.028438713401556015,
          0.010476011782884598,
          null,
          0.010476011782884598,
          -0.25491583347320557,
          null,
          -0.25491583347320557,
          -0.6745520830154419,
          null,
          -0.6745520830154419,
          -0.7883377075195312,
          null,
          0.028438713401556015,
          -0.0452754832804203,
          null,
          -0.0452754832804203,
          -0.4066363573074341,
          null,
          -0.4066363573074341,
          -0.7153410315513611,
          null,
          -0.7153410315513611,
          -0.6813960075378418,
          null,
          0.028438713401556015,
          0.04485243558883667,
          null,
          0.04485243558883667,
          0.1262608915567398,
          null,
          0.1262608915567398,
          0.1252249777317047,
          null,
          0.1252249777317047,
          -0.010134518146514893,
          null,
          -0.010134518146514893,
          -0.07647769153118134,
          null,
          0.1252249777317047,
          0.01828283816576004,
          null,
          0.01828283816576004,
          -0.09159189462661743,
          null,
          -0.09159189462661743,
          -0.17584802210330963,
          null,
          -0.17584802210330963,
          -0.12497500330209732,
          null,
          0.1252249777317047,
          0.09239917248487473,
          null,
          0.09239917248487473,
          0.034805625677108765,
          null,
          0.034805625677108765,
          -0.14850209653377533,
          null,
          -0.14850209653377533,
          -0.40404433012008667
         ],
         "y": [
          0.0021282918751239777,
          0.0453873910009861,
          null,
          0.0453873910009861,
          -0.025400590151548386,
          null,
          -0.025400590151548386,
          0.012363407760858536,
          null,
          0.012363407760858536,
          -0.05005897209048271,
          null,
          0.0021282918751239777,
          -0.048079755157232285,
          null,
          -0.048079755157232285,
          -0.19075024127960205,
          null,
          -0.19075024127960205,
          0.08845895528793335,
          null,
          0.08845895528793335,
          0.15945635735988617,
          null,
          0.0021282918751239777,
          0.03844297304749489,
          null,
          0.03844297304749489,
          -0.04799191281199455,
          null,
          -0.04799191281199455,
          -0.10069946944713593,
          null,
          -0.10069946944713593,
          -0.24349640309810638,
          null,
          -0.24349640309810638,
          -0.22453860938549042,
          null,
          -0.10069946944713593,
          -0.1254875510931015,
          null,
          -0.1254875510931015,
          -0.07112875580787659,
          null,
          -0.07112875580787659,
          0.1382390260696411,
          null,
          0.1382390260696411,
          0.34932249784469604,
          null,
          -0.10069946944713593,
          -0.2324080765247345,
          null,
          -0.2324080765247345,
          -0.3503793179988861,
          null,
          -0.3503793179988861,
          -0.43784356117248535,
          null,
          -0.43784356117248535,
          -0.508997917175293
         ],
         "z": [
          -0.24073417484760284,
          -0.33976805210113525,
          null,
          -0.33976805210113525,
          -0.6108189821243286,
          null,
          -0.6108189821243286,
          -0.6053140759468079,
          null,
          -0.6053140759468079,
          -0.6771602034568787,
          null,
          -0.24073417484760284,
          -0.2912205159664154,
          null,
          -0.2912205159664154,
          -0.2769845724105835,
          null,
          -0.2769845724105835,
          -0.17637862265110016,
          null,
          -0.17637862265110016,
          -0.058134421706199646,
          null,
          -0.24073417484760284,
          -0.11681947857141495,
          null,
          -0.11681947857141495,
          -0.041530534625053406,
          null,
          -0.041530534625053406,
          -0.06080632284283638,
          null,
          -0.06080632284283638,
          -0.14634336531162262,
          null,
          -0.14634336531162262,
          -0.07022472470998764,
          null,
          -0.06080632284283638,
          -0.15035587549209595,
          null,
          -0.15035587549209595,
          -0.14457161724567413,
          null,
          -0.14457161724567413,
          -0.011348292231559753,
          null,
          -0.011348292231559753,
          0.14728456735610962,
          null,
          -0.06080632284283638,
          -0.06680607795715332,
          null,
          -0.06680607795715332,
          -0.08234060555696487,
          null,
          -0.08234060555696487,
          -0.23903849720954895,
          null,
          -0.23903849720954895,
          -0.25375863909721375
         ]
        }
       ],
       "frames": [
        {
         "data": [
          {
           "marker": {
            "color": "blue",
            "size": 3
           },
           "mode": "lines+markers",
           "name": "Nodes0",
           "type": "scatter3d",
           "x": [
            0.028438713401556015,
            0.010476011782884598,
            null,
            0.010476011782884598,
            -0.25491583347320557,
            null,
            -0.25491583347320557,
            -0.6745520830154419,
            null,
            -0.6745520830154419,
            -0.7883377075195312,
            null,
            0.028438713401556015,
            -0.0452754832804203,
            null,
            -0.0452754832804203,
            -0.4066363573074341,
            null,
            -0.4066363573074341,
            -0.7153410315513611,
            null,
            -0.7153410315513611,
            -0.6813960075378418,
            null,
            0.028438713401556015,
            0.04485243558883667,
            null,
            0.04485243558883667,
            0.1262608915567398,
            null,
            0.1262608915567398,
            0.1252249777317047,
            null,
            0.1252249777317047,
            -0.010134518146514893,
            null,
            -0.010134518146514893,
            -0.07647769153118134,
            null,
            0.1252249777317047,
            0.01828283816576004,
            null,
            0.01828283816576004,
            -0.09159189462661743,
            null,
            -0.09159189462661743,
            -0.17584802210330963,
            null,
            -0.17584802210330963,
            -0.12497500330209732,
            null,
            0.1252249777317047,
            0.09239917248487473,
            null,
            0.09239917248487473,
            0.034805625677108765,
            null,
            0.034805625677108765,
            -0.14850209653377533,
            null,
            -0.14850209653377533,
            -0.40404433012008667
           ],
           "y": [
            0.0021282918751239777,
            0.0453873910009861,
            null,
            0.0453873910009861,
            -0.025400590151548386,
            null,
            -0.025400590151548386,
            0.012363407760858536,
            null,
            0.012363407760858536,
            -0.05005897209048271,
            null,
            0.0021282918751239777,
            -0.048079755157232285,
            null,
            -0.048079755157232285,
            -0.19075024127960205,
            null,
            -0.19075024127960205,
            0.08845895528793335,
            null,
            0.08845895528793335,
            0.15945635735988617,
            null,
            0.0021282918751239777,
            0.03844297304749489,
            null,
            0.03844297304749489,
            -0.04799191281199455,
            null,
            -0.04799191281199455,
            -0.10069946944713593,
            null,
            -0.10069946944713593,
            -0.24349640309810638,
            null,
            -0.24349640309810638,
            -0.22453860938549042,
            null,
            -0.10069946944713593,
            -0.1254875510931015,
            null,
            -0.1254875510931015,
            -0.07112875580787659,
            null,
            -0.07112875580787659,
            0.1382390260696411,
            null,
            0.1382390260696411,
            0.34932249784469604,
            null,
            -0.10069946944713593,
            -0.2324080765247345,
            null,
            -0.2324080765247345,
            -0.3503793179988861,
            null,
            -0.3503793179988861,
            -0.43784356117248535,
            null,
            -0.43784356117248535,
            -0.508997917175293
           ],
           "z": [
            -0.24073417484760284,
            -0.33976805210113525,
            null,
            -0.33976805210113525,
            -0.6108189821243286,
            null,
            -0.6108189821243286,
            -0.6053140759468079,
            null,
            -0.6053140759468079,
            -0.6771602034568787,
            null,
            -0.24073417484760284,
            -0.2912205159664154,
            null,
            -0.2912205159664154,
            -0.2769845724105835,
            null,
            -0.2769845724105835,
            -0.17637862265110016,
            null,
            -0.17637862265110016,
            -0.058134421706199646,
            null,
            -0.24073417484760284,
            -0.11681947857141495,
            null,
            -0.11681947857141495,
            -0.041530534625053406,
            null,
            -0.041530534625053406,
            -0.06080632284283638,
            null,
            -0.06080632284283638,
            -0.14634336531162262,
            null,
            -0.14634336531162262,
            -0.07022472470998764,
            null,
            -0.06080632284283638,
            -0.15035587549209595,
            null,
            -0.15035587549209595,
            -0.14457161724567413,
            null,
            -0.14457161724567413,
            -0.011348292231559753,
            null,
            -0.011348292231559753,
            0.14728456735610962,
            null,
            -0.06080632284283638,
            -0.06680607795715332,
            null,
            -0.06680607795715332,
            -0.08234060555696487,
            null,
            -0.08234060555696487,
            -0.23903849720954895,
            null,
            -0.23903849720954895,
            -0.25375863909721375
           ]
          }
         ],
         "name": "frame0"
        }
       ],
       "layout": {
        "scene": {
         "aspectmode": "manual",
         "aspectratio": {
          "x": 0.9145985841751099,
          "y": 0.9433478713035583,
          "z": 0.8642448782920837
         },
         "camera": {
          "eye": {
           "x": 3,
           "y": 0,
           "z": 0.1
          }
         },
         "xaxis": {
          "range": [
           -0.7883377075195312,
           0.1262608915567398
          ]
         },
         "yaxis": {
          "range": [
           -0.5415703058242798,
           0.40177756547927856
          ]
         },
         "zaxis": {
          "range": [
           -0.6771602034568787,
           0.18708465993404388
          ]
         }
        },
        "sliders": [
         {
          "len": 0.9,
          "pad": {
           "b": 10,
           "t": 60
          },
          "steps": [
           {
            "args": [
             [
              "frame0"
             ],
             {
              "frame": {
               "duration": 0
              },
              "fromcurrent": true,
              "mode": "immediate",
              "transition": {
               "duration": 0,
               "easing": "linear"
              }
             }
            ],
            "label": "0",
            "method": "animate"
           }
          ],
          "x": 0.1,
          "y": 0
         }
        ],
        "template": {
         "data": {
          "bar": [
           {
            "error_x": {
             "color": "#2a3f5f"
            },
            "error_y": {
             "color": "#2a3f5f"
            },
            "marker": {
             "line": {
              "color": "#E5ECF6",
              "width": 0.5
             },
             "pattern": {
              "fillmode": "overlay",
              "size": 10,
              "solidity": 0.2
             }
            },
            "type": "bar"
           }
          ],
          "barpolar": [
           {
            "marker": {
             "line": {
              "color": "#E5ECF6",
              "width": 0.5
             },
             "pattern": {
              "fillmode": "overlay",
              "size": 10,
              "solidity": 0.2
             }
            },
            "type": "barpolar"
           }
          ],
          "carpet": [
           {
            "aaxis": {
             "endlinecolor": "#2a3f5f",
             "gridcolor": "white",
             "linecolor": "white",
             "minorgridcolor": "white",
             "startlinecolor": "#2a3f5f"
            },
            "baxis": {
             "endlinecolor": "#2a3f5f",
             "gridcolor": "white",
             "linecolor": "white",
             "minorgridcolor": "white",
             "startlinecolor": "#2a3f5f"
            },
            "type": "carpet"
           }
          ],
          "choropleth": [
           {
            "colorbar": {
             "outlinewidth": 0,
             "ticks": ""
            },
            "type": "choropleth"
           }
          ],
          "contour": [
           {
            "colorbar": {
             "outlinewidth": 0,
             "ticks": ""
            },
            "colorscale": [
             [
              0,
              "#0d0887"
             ],
             [
              0.1111111111111111,
              "#46039f"
             ],
             [
              0.2222222222222222,
              "#7201a8"
             ],
             [
              0.3333333333333333,
              "#9c179e"
             ],
             [
              0.4444444444444444,
              "#bd3786"
             ],
             [
              0.5555555555555556,
              "#d8576b"
             ],
             [
              0.6666666666666666,
              "#ed7953"
             ],
             [
              0.7777777777777778,
              "#fb9f3a"
             ],
             [
              0.8888888888888888,
              "#fdca26"
             ],
             [
              1,
              "#f0f921"
             ]
            ],
            "type": "contour"
           }
          ],
          "contourcarpet": [
           {
            "colorbar": {
             "outlinewidth": 0,
             "ticks": ""
            },
            "type": "contourcarpet"
           }
          ],
          "heatmap": [
           {
            "colorbar": {
             "outlinewidth": 0,
             "ticks": ""
            },
            "colorscale": [
             [
              0,
              "#0d0887"
             ],
             [
              0.1111111111111111,
              "#46039f"
             ],
             [
              0.2222222222222222,
              "#7201a8"
             ],
             [
              0.3333333333333333,
              "#9c179e"
             ],
             [
              0.4444444444444444,
              "#bd3786"
             ],
             [
              0.5555555555555556,
              "#d8576b"
             ],
             [
              0.6666666666666666,
              "#ed7953"
             ],
             [
              0.7777777777777778,
              "#fb9f3a"
             ],
             [
              0.8888888888888888,
              "#fdca26"
             ],
             [
              1,
              "#f0f921"
             ]
            ],
            "type": "heatmap"
           }
          ],
          "heatmapgl": [
           {
            "colorbar": {
             "outlinewidth": 0,
             "ticks": ""
            },
            "colorscale": [
             [
              0,
              "#0d0887"
             ],
             [
              0.1111111111111111,
              "#46039f"
             ],
             [
              0.2222222222222222,
              "#7201a8"
             ],
             [
              0.3333333333333333,
              "#9c179e"
             ],
             [
              0.4444444444444444,
              "#bd3786"
             ],
             [
              0.5555555555555556,
              "#d8576b"
             ],
             [
              0.6666666666666666,
              "#ed7953"
             ],
             [
              0.7777777777777778,
              "#fb9f3a"
             ],
             [
              0.8888888888888888,
              "#fdca26"
             ],
             [
              1,
              "#f0f921"
             ]
            ],
            "type": "heatmapgl"
           }
          ],
          "histogram": [
           {
            "marker": {
             "pattern": {
              "fillmode": "overlay",
              "size": 10,
              "solidity": 0.2
             }
            },
            "type": "histogram"
           }
          ],
          "histogram2d": [
           {
            "colorbar": {
             "outlinewidth": 0,
             "ticks": ""
            },
            "colorscale": [
             [
              0,
              "#0d0887"
             ],
             [
              0.1111111111111111,
              "#46039f"
             ],
             [
              0.2222222222222222,
              "#7201a8"
             ],
             [
              0.3333333333333333,
              "#9c179e"
             ],
             [
              0.4444444444444444,
              "#bd3786"
             ],
             [
              0.5555555555555556,
              "#d8576b"
             ],
             [
              0.6666666666666666,
              "#ed7953"
             ],
             [
              0.7777777777777778,
              "#fb9f3a"
             ],
             [
              0.8888888888888888,
              "#fdca26"
             ],
             [
              1,
              "#f0f921"
             ]
            ],
            "type": "histogram2d"
           }
          ],
          "histogram2dcontour": [
           {
            "colorbar": {
             "outlinewidth": 0,
             "ticks": ""
            },
            "colorscale": [
             [
              0,
              "#0d0887"
             ],
             [
              0.1111111111111111,
              "#46039f"
             ],
             [
              0.2222222222222222,
              "#7201a8"
             ],
             [
              0.3333333333333333,
              "#9c179e"
             ],
             [
              0.4444444444444444,
              "#bd3786"
             ],
             [
              0.5555555555555556,
              "#d8576b"
             ],
             [
              0.6666666666666666,
              "#ed7953"
             ],
             [
              0.7777777777777778,
              "#fb9f3a"
             ],
             [
              0.8888888888888888,
              "#fdca26"
             ],
             [
              1,
              "#f0f921"
             ]
            ],
            "type": "histogram2dcontour"
           }
          ],
          "mesh3d": [
           {
            "colorbar": {
             "outlinewidth": 0,
             "ticks": ""
            },
            "type": "mesh3d"
           }
          ],
          "parcoords": [
           {
            "line": {
             "colorbar": {
              "outlinewidth": 0,
              "ticks": ""
             }
            },
            "type": "parcoords"
           }
          ],
          "pie": [
           {
            "automargin": true,
            "type": "pie"
           }
          ],
          "scatter": [
           {
            "fillpattern": {
             "fillmode": "overlay",
             "size": 10,
             "solidity": 0.2
            },
            "type": "scatter"
           }
          ],
          "scatter3d": [
           {
            "line": {
             "colorbar": {
              "outlinewidth": 0,
              "ticks": ""
             }
            },
            "marker": {
             "colorbar": {
              "outlinewidth": 0,
              "ticks": ""
             }
            },
            "type": "scatter3d"
           }
          ],
          "scattercarpet": [
           {
            "marker": {
             "colorbar": {
              "outlinewidth": 0,
              "ticks": ""
             }
            },
            "type": "scattercarpet"
           }
          ],
          "scattergeo": [
           {
            "marker": {
             "colorbar": {
              "outlinewidth": 0,
              "ticks": ""
             }
            },
            "type": "scattergeo"
           }
          ],
          "scattergl": [
           {
            "marker": {
             "colorbar": {
              "outlinewidth": 0,
              "ticks": ""
             }
            },
            "type": "scattergl"
           }
          ],
          "scattermapbox": [
           {
            "marker": {
             "colorbar": {
              "outlinewidth": 0,
              "ticks": ""
             }
            },
            "type": "scattermapbox"
           }
          ],
          "scatterpolar": [
           {
            "marker": {
             "colorbar": {
              "outlinewidth": 0,
              "ticks": ""
             }
            },
            "type": "scatterpolar"
           }
          ],
          "scatterpolargl": [
           {
            "marker": {
             "colorbar": {
              "outlinewidth": 0,
              "ticks": ""
             }
            },
            "type": "scatterpolargl"
           }
          ],
          "scatterternary": [
           {
            "marker": {
             "colorbar": {
              "outlinewidth": 0,
              "ticks": ""
             }
            },
            "type": "scatterternary"
           }
          ],
          "surface": [
           {
            "colorbar": {
             "outlinewidth": 0,
             "ticks": ""
            },
            "colorscale": [
             [
              0,
              "#0d0887"
             ],
             [
              0.1111111111111111,
              "#46039f"
             ],
             [
              0.2222222222222222,
              "#7201a8"
             ],
             [
              0.3333333333333333,
              "#9c179e"
             ],
             [
              0.4444444444444444,
              "#bd3786"
             ],
             [
              0.5555555555555556,
              "#d8576b"
             ],
             [
              0.6666666666666666,
              "#ed7953"
             ],
             [
              0.7777777777777778,
              "#fb9f3a"
             ],
             [
              0.8888888888888888,
              "#fdca26"
             ],
             [
              1,
              "#f0f921"
             ]
            ],
            "type": "surface"
           }
          ],
          "table": [
           {
            "cells": {
             "fill": {
              "color": "#EBF0F8"
             },
             "line": {
              "color": "white"
             }
            },
            "header": {
             "fill": {
              "color": "#C8D4E3"
             },
             "line": {
              "color": "white"
             }
            },
            "type": "table"
           }
          ]
         },
         "layout": {
          "annotationdefaults": {
           "arrowcolor": "#2a3f5f",
           "arrowhead": 0,
           "arrowwidth": 1
          },
          "autotypenumbers": "strict",
          "coloraxis": {
           "colorbar": {
            "outlinewidth": 0,
            "ticks": ""
           }
          },
          "colorscale": {
           "diverging": [
            [
             0,
             "#8e0152"
            ],
            [
             0.1,
             "#c51b7d"
            ],
            [
             0.2,
             "#de77ae"
            ],
            [
             0.3,
             "#f1b6da"
            ],
            [
             0.4,
             "#fde0ef"
            ],
            [
             0.5,
             "#f7f7f7"
            ],
            [
             0.6,
             "#e6f5d0"
            ],
            [
             0.7,
             "#b8e186"
            ],
            [
             0.8,
             "#7fbc41"
            ],
            [
             0.9,
             "#4d9221"
            ],
            [
             1,
             "#276419"
            ]
           ],
           "sequential": [
            [
             0,
             "#0d0887"
            ],
            [
             0.1111111111111111,
             "#46039f"
            ],
            [
             0.2222222222222222,
             "#7201a8"
            ],
            [
             0.3333333333333333,
             "#9c179e"
            ],
            [
             0.4444444444444444,
             "#bd3786"
            ],
            [
             0.5555555555555556,
             "#d8576b"
            ],
            [
             0.6666666666666666,
             "#ed7953"
            ],
            [
             0.7777777777777778,
             "#fb9f3a"
            ],
            [
             0.8888888888888888,
             "#fdca26"
            ],
            [
             1,
             "#f0f921"
            ]
           ],
           "sequentialminus": [
            [
             0,
             "#0d0887"
            ],
            [
             0.1111111111111111,
             "#46039f"
            ],
            [
             0.2222222222222222,
             "#7201a8"
            ],
            [
             0.3333333333333333,
             "#9c179e"
            ],
            [
             0.4444444444444444,
             "#bd3786"
            ],
            [
             0.5555555555555556,
             "#d8576b"
            ],
            [
             0.6666666666666666,
             "#ed7953"
            ],
            [
             0.7777777777777778,
             "#fb9f3a"
            ],
            [
             0.8888888888888888,
             "#fdca26"
            ],
            [
             1,
             "#f0f921"
            ]
           ]
          },
          "colorway": [
           "#636efa",
           "#EF553B",
           "#00cc96",
           "#ab63fa",
           "#FFA15A",
           "#19d3f3",
           "#FF6692",
           "#B6E880",
           "#FF97FF",
           "#FECB52"
          ],
          "font": {
           "color": "#2a3f5f"
          },
          "geo": {
           "bgcolor": "white",
           "lakecolor": "white",
           "landcolor": "#E5ECF6",
           "showlakes": true,
           "showland": true,
           "subunitcolor": "white"
          },
          "hoverlabel": {
           "align": "left"
          },
          "hovermode": "closest",
          "mapbox": {
           "style": "light"
          },
          "paper_bgcolor": "white",
          "plot_bgcolor": "#E5ECF6",
          "polar": {
           "angularaxis": {
            "gridcolor": "white",
            "linecolor": "white",
            "ticks": ""
           },
           "bgcolor": "#E5ECF6",
           "radialaxis": {
            "gridcolor": "white",
            "linecolor": "white",
            "ticks": ""
           }
          },
          "scene": {
           "xaxis": {
            "backgroundcolor": "#E5ECF6",
            "gridcolor": "white",
            "gridwidth": 2,
            "linecolor": "white",
            "showbackground": true,
            "ticks": "",
            "zerolinecolor": "white"
           },
           "yaxis": {
            "backgroundcolor": "#E5ECF6",
            "gridcolor": "white",
            "gridwidth": 2,
            "linecolor": "white",
            "showbackground": true,
            "ticks": "",
            "zerolinecolor": "white"
           },
           "zaxis": {
            "backgroundcolor": "#E5ECF6",
            "gridcolor": "white",
            "gridwidth": 2,
            "linecolor": "white",
            "showbackground": true,
            "ticks": "",
            "zerolinecolor": "white"
           }
          },
          "shapedefaults": {
           "line": {
            "color": "#2a3f5f"
           }
          },
          "ternary": {
           "aaxis": {
            "gridcolor": "white",
            "linecolor": "white",
            "ticks": ""
           },
           "baxis": {
            "gridcolor": "white",
            "linecolor": "white",
            "ticks": ""
           },
           "bgcolor": "#E5ECF6",
           "caxis": {
            "gridcolor": "white",
            "linecolor": "white",
            "ticks": ""
           }
          },
          "title": {
           "x": 0.05
          },
          "xaxis": {
           "automargin": true,
           "gridcolor": "white",
           "linecolor": "white",
           "ticks": "",
           "title": {
            "standoff": 15
           },
           "zerolinecolor": "white",
           "zerolinewidth": 2
          },
          "yaxis": {
           "automargin": true,
           "gridcolor": "white",
           "linecolor": "white",
           "ticks": "",
           "title": {
            "standoff": 15
           },
           "zerolinecolor": "white",
           "zerolinewidth": 2
          }
         }
        },
        "updatemenus": [
         {
          "buttons": [
           {
            "args": [
             null,
             {
              "frame": {
               "duration": 40
              },
              "fromcurrent": true,
              "mode": "immediate",
              "transition": {
               "duration": 40,
               "easing": "linear"
              }
             }
            ],
            "label": "Play",
            "method": "animate"
           },
           {
            "args": [
             [
              null
             ],
             {
              "frame": {
               "duration": 0
              },
              "fromcurrent": true,
              "mode": "immediate",
              "transition": {
               "duration": 0,
               "easing": "linear"
              }
             }
            ],
            "label": "Pause",
            "method": "animate"
           }
          ],
          "direction": "left",
          "pad": {
           "r": 10,
           "t": 70
          },
          "type": "buttons",
          "x": 0.1,
          "y": 0
         }
        ]
       }
      },
      "text/html": [
       "<div>                            <div id=\"6cf87f71-3458-4e97-beb2-086fb2ffef07\" class=\"plotly-graph-div\" style=\"height:525px; width:100%;\"></div>            <script type=\"text/javascript\">                require([\"plotly\"], function(Plotly) {                    window.PLOTLYENV=window.PLOTLYENV || {};                                    if (document.getElementById(\"6cf87f71-3458-4e97-beb2-086fb2ffef07\")) {                    Plotly.newPlot(                        \"6cf87f71-3458-4e97-beb2-086fb2ffef07\",                        [{\"marker\":{\"color\":\"blue\",\"size\":3},\"mode\":\"lines+markers\",\"name\":\"Nodes0\",\"x\":[0.028438713401556015,0.010476011782884598,null,0.010476011782884598,-0.25491583347320557,null,-0.25491583347320557,-0.6745520830154419,null,-0.6745520830154419,-0.7883377075195312,null,0.028438713401556015,-0.0452754832804203,null,-0.0452754832804203,-0.4066363573074341,null,-0.4066363573074341,-0.7153410315513611,null,-0.7153410315513611,-0.6813960075378418,null,0.028438713401556015,0.04485243558883667,null,0.04485243558883667,0.1262608915567398,null,0.1262608915567398,0.1252249777317047,null,0.1252249777317047,-0.010134518146514893,null,-0.010134518146514893,-0.07647769153118134,null,0.1252249777317047,0.01828283816576004,null,0.01828283816576004,-0.09159189462661743,null,-0.09159189462661743,-0.17584802210330963,null,-0.17584802210330963,-0.12497500330209732,null,0.1252249777317047,0.09239917248487473,null,0.09239917248487473,0.034805625677108765,null,0.034805625677108765,-0.14850209653377533,null,-0.14850209653377533,-0.40404433012008667],\"y\":[0.0021282918751239777,0.0453873910009861,null,0.0453873910009861,-0.025400590151548386,null,-0.025400590151548386,0.012363407760858536,null,0.012363407760858536,-0.05005897209048271,null,0.0021282918751239777,-0.048079755157232285,null,-0.048079755157232285,-0.19075024127960205,null,-0.19075024127960205,0.08845895528793335,null,0.08845895528793335,0.15945635735988617,null,0.0021282918751239777,0.03844297304749489,null,0.03844297304749489,-0.04799191281199455,null,-0.04799191281199455,-0.10069946944713593,null,-0.10069946944713593,-0.24349640309810638,null,-0.24349640309810638,-0.22453860938549042,null,-0.10069946944713593,-0.1254875510931015,null,-0.1254875510931015,-0.07112875580787659,null,-0.07112875580787659,0.1382390260696411,null,0.1382390260696411,0.34932249784469604,null,-0.10069946944713593,-0.2324080765247345,null,-0.2324080765247345,-0.3503793179988861,null,-0.3503793179988861,-0.43784356117248535,null,-0.43784356117248535,-0.508997917175293],\"z\":[-0.24073417484760284,-0.33976805210113525,null,-0.33976805210113525,-0.6108189821243286,null,-0.6108189821243286,-0.6053140759468079,null,-0.6053140759468079,-0.6771602034568787,null,-0.24073417484760284,-0.2912205159664154,null,-0.2912205159664154,-0.2769845724105835,null,-0.2769845724105835,-0.17637862265110016,null,-0.17637862265110016,-0.058134421706199646,null,-0.24073417484760284,-0.11681947857141495,null,-0.11681947857141495,-0.041530534625053406,null,-0.041530534625053406,-0.06080632284283638,null,-0.06080632284283638,-0.14634336531162262,null,-0.14634336531162262,-0.07022472470998764,null,-0.06080632284283638,-0.15035587549209595,null,-0.15035587549209595,-0.14457161724567413,null,-0.14457161724567413,-0.011348292231559753,null,-0.011348292231559753,0.14728456735610962,null,-0.06080632284283638,-0.06680607795715332,null,-0.06680607795715332,-0.08234060555696487,null,-0.08234060555696487,-0.23903849720954895,null,-0.23903849720954895,-0.25375863909721375],\"type\":\"scatter3d\"}],                        {\"scene\":{\"aspectmode\":\"manual\",\"camera\":{\"eye\":{\"x\":3,\"y\":0,\"z\":0.1}},\"xaxis\":{\"range\":[-0.7883377075195312,0.1262608915567398]},\"yaxis\":{\"range\":[-0.5415703058242798,0.40177756547927856]},\"zaxis\":{\"range\":[-0.6771602034568787,0.18708465993404388]},\"aspectratio\":{\"x\":0.9145985841751099,\"y\":0.9433478713035583,\"z\":0.8642448782920837}},\"template\":{\"data\":{\"histogram2dcontour\":[{\"type\":\"histogram2dcontour\",\"colorbar\":{\"outlinewidth\":0,\"ticks\":\"\"},\"colorscale\":[[0.0,\"#0d0887\"],[0.1111111111111111,\"#46039f\"],[0.2222222222222222,\"#7201a8\"],[0.3333333333333333,\"#9c179e\"],[0.4444444444444444,\"#bd3786\"],[0.5555555555555556,\"#d8576b\"],[0.6666666666666666,\"#ed7953\"],[0.7777777777777778,\"#fb9f3a\"],[0.8888888888888888,\"#fdca26\"],[1.0,\"#f0f921\"]]}],\"choropleth\":[{\"type\":\"choropleth\",\"colorbar\":{\"outlinewidth\":0,\"ticks\":\"\"}}],\"histogram2d\":[{\"type\":\"histogram2d\",\"colorbar\":{\"outlinewidth\":0,\"ticks\":\"\"},\"colorscale\":[[0.0,\"#0d0887\"],[0.1111111111111111,\"#46039f\"],[0.2222222222222222,\"#7201a8\"],[0.3333333333333333,\"#9c179e\"],[0.4444444444444444,\"#bd3786\"],[0.5555555555555556,\"#d8576b\"],[0.6666666666666666,\"#ed7953\"],[0.7777777777777778,\"#fb9f3a\"],[0.8888888888888888,\"#fdca26\"],[1.0,\"#f0f921\"]]}],\"heatmap\":[{\"type\":\"heatmap\",\"colorbar\":{\"outlinewidth\":0,\"ticks\":\"\"},\"colorscale\":[[0.0,\"#0d0887\"],[0.1111111111111111,\"#46039f\"],[0.2222222222222222,\"#7201a8\"],[0.3333333333333333,\"#9c179e\"],[0.4444444444444444,\"#bd3786\"],[0.5555555555555556,\"#d8576b\"],[0.6666666666666666,\"#ed7953\"],[0.7777777777777778,\"#fb9f3a\"],[0.8888888888888888,\"#fdca26\"],[1.0,\"#f0f921\"]]}],\"heatmapgl\":[{\"type\":\"heatmapgl\",\"colorbar\":{\"outlinewidth\":0,\"ticks\":\"\"},\"colorscale\":[[0.0,\"#0d0887\"],[0.1111111111111111,\"#46039f\"],[0.2222222222222222,\"#7201a8\"],[0.3333333333333333,\"#9c179e\"],[0.4444444444444444,\"#bd3786\"],[0.5555555555555556,\"#d8576b\"],[0.6666666666666666,\"#ed7953\"],[0.7777777777777778,\"#fb9f3a\"],[0.8888888888888888,\"#fdca26\"],[1.0,\"#f0f921\"]]}],\"contourcarpet\":[{\"type\":\"contourcarpet\",\"colorbar\":{\"outlinewidth\":0,\"ticks\":\"\"}}],\"contour\":[{\"type\":\"contour\",\"colorbar\":{\"outlinewidth\":0,\"ticks\":\"\"},\"colorscale\":[[0.0,\"#0d0887\"],[0.1111111111111111,\"#46039f\"],[0.2222222222222222,\"#7201a8\"],[0.3333333333333333,\"#9c179e\"],[0.4444444444444444,\"#bd3786\"],[0.5555555555555556,\"#d8576b\"],[0.6666666666666666,\"#ed7953\"],[0.7777777777777778,\"#fb9f3a\"],[0.8888888888888888,\"#fdca26\"],[1.0,\"#f0f921\"]]}],\"surface\":[{\"type\":\"surface\",\"colorbar\":{\"outlinewidth\":0,\"ticks\":\"\"},\"colorscale\":[[0.0,\"#0d0887\"],[0.1111111111111111,\"#46039f\"],[0.2222222222222222,\"#7201a8\"],[0.3333333333333333,\"#9c179e\"],[0.4444444444444444,\"#bd3786\"],[0.5555555555555556,\"#d8576b\"],[0.6666666666666666,\"#ed7953\"],[0.7777777777777778,\"#fb9f3a\"],[0.8888888888888888,\"#fdca26\"],[1.0,\"#f0f921\"]]}],\"mesh3d\":[{\"type\":\"mesh3d\",\"colorbar\":{\"outlinewidth\":0,\"ticks\":\"\"}}],\"scatter\":[{\"fillpattern\":{\"fillmode\":\"overlay\",\"size\":10,\"solidity\":0.2},\"type\":\"scatter\"}],\"parcoords\":[{\"type\":\"parcoords\",\"line\":{\"colorbar\":{\"outlinewidth\":0,\"ticks\":\"\"}}}],\"scatterpolargl\":[{\"type\":\"scatterpolargl\",\"marker\":{\"colorbar\":{\"outlinewidth\":0,\"ticks\":\"\"}}}],\"bar\":[{\"error_x\":{\"color\":\"#2a3f5f\"},\"error_y\":{\"color\":\"#2a3f5f\"},\"marker\":{\"line\":{\"color\":\"#E5ECF6\",\"width\":0.5},\"pattern\":{\"fillmode\":\"overlay\",\"size\":10,\"solidity\":0.2}},\"type\":\"bar\"}],\"scattergeo\":[{\"type\":\"scattergeo\",\"marker\":{\"colorbar\":{\"outlinewidth\":0,\"ticks\":\"\"}}}],\"scatterpolar\":[{\"type\":\"scatterpolar\",\"marker\":{\"colorbar\":{\"outlinewidth\":0,\"ticks\":\"\"}}}],\"histogram\":[{\"marker\":{\"pattern\":{\"fillmode\":\"overlay\",\"size\":10,\"solidity\":0.2}},\"type\":\"histogram\"}],\"scattergl\":[{\"type\":\"scattergl\",\"marker\":{\"colorbar\":{\"outlinewidth\":0,\"ticks\":\"\"}}}],\"scatter3d\":[{\"type\":\"scatter3d\",\"line\":{\"colorbar\":{\"outlinewidth\":0,\"ticks\":\"\"}},\"marker\":{\"colorbar\":{\"outlinewidth\":0,\"ticks\":\"\"}}}],\"scattermapbox\":[{\"type\":\"scattermapbox\",\"marker\":{\"colorbar\":{\"outlinewidth\":0,\"ticks\":\"\"}}}],\"scatterternary\":[{\"type\":\"scatterternary\",\"marker\":{\"colorbar\":{\"outlinewidth\":0,\"ticks\":\"\"}}}],\"scattercarpet\":[{\"type\":\"scattercarpet\",\"marker\":{\"colorbar\":{\"outlinewidth\":0,\"ticks\":\"\"}}}],\"carpet\":[{\"aaxis\":{\"endlinecolor\":\"#2a3f5f\",\"gridcolor\":\"white\",\"linecolor\":\"white\",\"minorgridcolor\":\"white\",\"startlinecolor\":\"#2a3f5f\"},\"baxis\":{\"endlinecolor\":\"#2a3f5f\",\"gridcolor\":\"white\",\"linecolor\":\"white\",\"minorgridcolor\":\"white\",\"startlinecolor\":\"#2a3f5f\"},\"type\":\"carpet\"}],\"table\":[{\"cells\":{\"fill\":{\"color\":\"#EBF0F8\"},\"line\":{\"color\":\"white\"}},\"header\":{\"fill\":{\"color\":\"#C8D4E3\"},\"line\":{\"color\":\"white\"}},\"type\":\"table\"}],\"barpolar\":[{\"marker\":{\"line\":{\"color\":\"#E5ECF6\",\"width\":0.5},\"pattern\":{\"fillmode\":\"overlay\",\"size\":10,\"solidity\":0.2}},\"type\":\"barpolar\"}],\"pie\":[{\"automargin\":true,\"type\":\"pie\"}]},\"layout\":{\"autotypenumbers\":\"strict\",\"colorway\":[\"#636efa\",\"#EF553B\",\"#00cc96\",\"#ab63fa\",\"#FFA15A\",\"#19d3f3\",\"#FF6692\",\"#B6E880\",\"#FF97FF\",\"#FECB52\"],\"font\":{\"color\":\"#2a3f5f\"},\"hovermode\":\"closest\",\"hoverlabel\":{\"align\":\"left\"},\"paper_bgcolor\":\"white\",\"plot_bgcolor\":\"#E5ECF6\",\"polar\":{\"bgcolor\":\"#E5ECF6\",\"angularaxis\":{\"gridcolor\":\"white\",\"linecolor\":\"white\",\"ticks\":\"\"},\"radialaxis\":{\"gridcolor\":\"white\",\"linecolor\":\"white\",\"ticks\":\"\"}},\"ternary\":{\"bgcolor\":\"#E5ECF6\",\"aaxis\":{\"gridcolor\":\"white\",\"linecolor\":\"white\",\"ticks\":\"\"},\"baxis\":{\"gridcolor\":\"white\",\"linecolor\":\"white\",\"ticks\":\"\"},\"caxis\":{\"gridcolor\":\"white\",\"linecolor\":\"white\",\"ticks\":\"\"}},\"coloraxis\":{\"colorbar\":{\"outlinewidth\":0,\"ticks\":\"\"}},\"colorscale\":{\"sequential\":[[0.0,\"#0d0887\"],[0.1111111111111111,\"#46039f\"],[0.2222222222222222,\"#7201a8\"],[0.3333333333333333,\"#9c179e\"],[0.4444444444444444,\"#bd3786\"],[0.5555555555555556,\"#d8576b\"],[0.6666666666666666,\"#ed7953\"],[0.7777777777777778,\"#fb9f3a\"],[0.8888888888888888,\"#fdca26\"],[1.0,\"#f0f921\"]],\"sequentialminus\":[[0.0,\"#0d0887\"],[0.1111111111111111,\"#46039f\"],[0.2222222222222222,\"#7201a8\"],[0.3333333333333333,\"#9c179e\"],[0.4444444444444444,\"#bd3786\"],[0.5555555555555556,\"#d8576b\"],[0.6666666666666666,\"#ed7953\"],[0.7777777777777778,\"#fb9f3a\"],[0.8888888888888888,\"#fdca26\"],[1.0,\"#f0f921\"]],\"diverging\":[[0,\"#8e0152\"],[0.1,\"#c51b7d\"],[0.2,\"#de77ae\"],[0.3,\"#f1b6da\"],[0.4,\"#fde0ef\"],[0.5,\"#f7f7f7\"],[0.6,\"#e6f5d0\"],[0.7,\"#b8e186\"],[0.8,\"#7fbc41\"],[0.9,\"#4d9221\"],[1,\"#276419\"]]},\"xaxis\":{\"gridcolor\":\"white\",\"linecolor\":\"white\",\"ticks\":\"\",\"title\":{\"standoff\":15},\"zerolinecolor\":\"white\",\"automargin\":true,\"zerolinewidth\":2},\"yaxis\":{\"gridcolor\":\"white\",\"linecolor\":\"white\",\"ticks\":\"\",\"title\":{\"standoff\":15},\"zerolinecolor\":\"white\",\"automargin\":true,\"zerolinewidth\":2},\"scene\":{\"xaxis\":{\"backgroundcolor\":\"#E5ECF6\",\"gridcolor\":\"white\",\"linecolor\":\"white\",\"showbackground\":true,\"ticks\":\"\",\"zerolinecolor\":\"white\",\"gridwidth\":2},\"yaxis\":{\"backgroundcolor\":\"#E5ECF6\",\"gridcolor\":\"white\",\"linecolor\":\"white\",\"showbackground\":true,\"ticks\":\"\",\"zerolinecolor\":\"white\",\"gridwidth\":2},\"zaxis\":{\"backgroundcolor\":\"#E5ECF6\",\"gridcolor\":\"white\",\"linecolor\":\"white\",\"showbackground\":true,\"ticks\":\"\",\"zerolinecolor\":\"white\",\"gridwidth\":2}},\"shapedefaults\":{\"line\":{\"color\":\"#2a3f5f\"}},\"annotationdefaults\":{\"arrowcolor\":\"#2a3f5f\",\"arrowhead\":0,\"arrowwidth\":1},\"geo\":{\"bgcolor\":\"white\",\"landcolor\":\"#E5ECF6\",\"subunitcolor\":\"white\",\"showland\":true,\"showlakes\":true,\"lakecolor\":\"white\"},\"title\":{\"x\":0.05},\"mapbox\":{\"style\":\"light\"}}},\"updatemenus\":[{\"buttons\":[{\"args\":[null,{\"frame\":{\"duration\":40.0},\"mode\":\"immediate\",\"fromcurrent\":true,\"transition\":{\"duration\":40.0,\"easing\":\"linear\"}}],\"label\":\"Play\",\"method\":\"animate\"},{\"args\":[[null],{\"frame\":{\"duration\":0},\"mode\":\"immediate\",\"fromcurrent\":true,\"transition\":{\"duration\":0,\"easing\":\"linear\"}}],\"label\":\"Pause\",\"method\":\"animate\"}],\"direction\":\"left\",\"pad\":{\"r\":10,\"t\":70},\"type\":\"buttons\",\"x\":0.1,\"y\":0}],\"sliders\":[{\"len\":0.9,\"pad\":{\"b\":10,\"t\":60},\"steps\":[{\"args\":[[\"frame0\"],{\"frame\":{\"duration\":0},\"mode\":\"immediate\",\"fromcurrent\":true,\"transition\":{\"duration\":0,\"easing\":\"linear\"}}],\"label\":\"0\",\"method\":\"animate\"}],\"x\":0.1,\"y\":0}]},                        {\"responsive\": true}                    ).then(function(){\n",
       "                            Plotly.addFrames('6cf87f71-3458-4e97-beb2-086fb2ffef07', [{\"data\":[{\"marker\":{\"color\":\"blue\",\"size\":3},\"mode\":\"lines+markers\",\"name\":\"Nodes0\",\"x\":[0.028438713401556015,0.010476011782884598,null,0.010476011782884598,-0.25491583347320557,null,-0.25491583347320557,-0.6745520830154419,null,-0.6745520830154419,-0.7883377075195312,null,0.028438713401556015,-0.0452754832804203,null,-0.0452754832804203,-0.4066363573074341,null,-0.4066363573074341,-0.7153410315513611,null,-0.7153410315513611,-0.6813960075378418,null,0.028438713401556015,0.04485243558883667,null,0.04485243558883667,0.1262608915567398,null,0.1262608915567398,0.1252249777317047,null,0.1252249777317047,-0.010134518146514893,null,-0.010134518146514893,-0.07647769153118134,null,0.1252249777317047,0.01828283816576004,null,0.01828283816576004,-0.09159189462661743,null,-0.09159189462661743,-0.17584802210330963,null,-0.17584802210330963,-0.12497500330209732,null,0.1252249777317047,0.09239917248487473,null,0.09239917248487473,0.034805625677108765,null,0.034805625677108765,-0.14850209653377533,null,-0.14850209653377533,-0.40404433012008667],\"y\":[0.0021282918751239777,0.0453873910009861,null,0.0453873910009861,-0.025400590151548386,null,-0.025400590151548386,0.012363407760858536,null,0.012363407760858536,-0.05005897209048271,null,0.0021282918751239777,-0.048079755157232285,null,-0.048079755157232285,-0.19075024127960205,null,-0.19075024127960205,0.08845895528793335,null,0.08845895528793335,0.15945635735988617,null,0.0021282918751239777,0.03844297304749489,null,0.03844297304749489,-0.04799191281199455,null,-0.04799191281199455,-0.10069946944713593,null,-0.10069946944713593,-0.24349640309810638,null,-0.24349640309810638,-0.22453860938549042,null,-0.10069946944713593,-0.1254875510931015,null,-0.1254875510931015,-0.07112875580787659,null,-0.07112875580787659,0.1382390260696411,null,0.1382390260696411,0.34932249784469604,null,-0.10069946944713593,-0.2324080765247345,null,-0.2324080765247345,-0.3503793179988861,null,-0.3503793179988861,-0.43784356117248535,null,-0.43784356117248535,-0.508997917175293],\"z\":[-0.24073417484760284,-0.33976805210113525,null,-0.33976805210113525,-0.6108189821243286,null,-0.6108189821243286,-0.6053140759468079,null,-0.6053140759468079,-0.6771602034568787,null,-0.24073417484760284,-0.2912205159664154,null,-0.2912205159664154,-0.2769845724105835,null,-0.2769845724105835,-0.17637862265110016,null,-0.17637862265110016,-0.058134421706199646,null,-0.24073417484760284,-0.11681947857141495,null,-0.11681947857141495,-0.041530534625053406,null,-0.041530534625053406,-0.06080632284283638,null,-0.06080632284283638,-0.14634336531162262,null,-0.14634336531162262,-0.07022472470998764,null,-0.06080632284283638,-0.15035587549209595,null,-0.15035587549209595,-0.14457161724567413,null,-0.14457161724567413,-0.011348292231559753,null,-0.011348292231559753,0.14728456735610962,null,-0.06080632284283638,-0.06680607795715332,null,-0.06680607795715332,-0.08234060555696487,null,-0.08234060555696487,-0.23903849720954895,null,-0.23903849720954895,-0.25375863909721375],\"type\":\"scatter3d\"}],\"name\":\"frame0\"}]);\n",
       "                        }).then(function(){\n",
       "                            \n",
       "var gd = document.getElementById('6cf87f71-3458-4e97-beb2-086fb2ffef07');\n",
       "var x = new MutationObserver(function (mutations, observer) {{\n",
       "        var display = window.getComputedStyle(gd).display;\n",
       "        if (!display || display === 'none') {{\n",
       "            console.log([gd, 'removed!']);\n",
       "            Plotly.purge(gd);\n",
       "            observer.disconnect();\n",
       "        }}\n",
       "}});\n",
       "\n",
       "// Listen for the removal of the full notebook cells\n",
       "var notebookContainer = gd.closest('#notebook-container');\n",
       "if (notebookContainer) {{\n",
       "    x.observe(notebookContainer, {childList: true});\n",
       "}}\n",
       "\n",
       "// Listen for the clearing of the current output cell\n",
       "var outputEl = gd.closest('.output');\n",
       "if (outputEl) {{\n",
       "    x.observe(outputEl, {childList: true});\n",
       "}}\n",
       "\n",
       "                        })                };                });            </script>        </div>"
      ]
     },
     "metadata": {},
     "output_type": "display_data"
    }
   ],
   "source": [
    "pose_params = torch.rand((1,72)) #torch.zeros((1,72))\n",
    "verts, Jtr = get_SMPL_layer(pose_params, display=False)\n",
    "animate3d(Jtr.numpy())"
   ]
  },
  {
   "cell_type": "code",
   "execution_count": null,
   "id": "cb1d0ec8",
   "metadata": {},
   "outputs": [],
   "source": [
    "# import utils.paramUtil as paramUtil\n",
    "from utils.skeleton import Skeleton\n",
    "\n",
    "tgt_skel = Skeleton(torch.from_numpy(paramUtil.t2m_raw_offsets), paramUtil.t2m_kinematic_chain, 'cpu')\n",
    "# 1. dataset j\n",
    "vis_joint = joint[0:1]\n",
    "\n",
    "# 2.1 IK\n",
    "quat_params = tgt_skel.inverse_kinematics_np(vis_joint, face_joint_idx=[2, 1, 17, 16])\n",
    "tgt_offsets = tgt_skel.get_offsets_joints(torch.from_numpy(vis_joint[0]))\n",
    "# 2.2 FK\n",
    "joint_forward = tgt_skel.forward_kinematics(torch.from_numpy(quat_params).float(), root_pos=torch.from_numpy(vis_joint[0,0]))\n",
    "\n",
    "joint_original_forward = np.concatenate((vis_joint, joint_forward), axis=1)\n",
    "smpl_smpl_bone = t2m_bone + (np.array(t2m_bone)+22).tolist()\n",
    "animate3d(joint_original_forward, smpl_smpl_bone, first_total_standard=63)"
   ]
  }
 ],
 "metadata": {
  "kernelspec": {
   "display_name": "motiondiffuse",
   "language": "python",
   "name": "motiondiffuse"
  },
  "language_info": {
   "codemirror_mode": {
    "name": "ipython",
    "version": 3
   },
   "file_extension": ".py",
   "mimetype": "text/x-python",
   "name": "python",
   "nbconvert_exporter": "python",
   "pygments_lexer": "ipython3",
   "version": "3.10.6"
  }
 },
 "nbformat": 4,
 "nbformat_minor": 5
}
