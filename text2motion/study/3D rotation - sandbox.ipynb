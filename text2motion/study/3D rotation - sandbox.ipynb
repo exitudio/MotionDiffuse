{
 "cells": [
  {
   "cell_type": "code",
   "execution_count": 1,
   "id": "b9711a01",
   "metadata": {},
   "outputs": [
    {
     "name": "stdout",
     "output_type": "stream",
     "text": [
      "Reading ../checkpoints/t2m/t2m_motiondiffuse/opt.txt\n"
     ]
    }
   ],
   "source": [
    "import sys\n",
    "sys.path.append('../')\n",
    "from torch.utils.data import Dataset\n",
    "%reload_ext autoreload\n",
    "%autoreload 2\n",
    "import numpy as np\n",
    "from mylib import get_motion, animate3d, get_SMPL_layer, t2m_bone\n",
    "import pickle\n",
    "import torch"
   ]
  },
  {
   "cell_type": "code",
   "execution_count": 14,
   "id": "073d10d7",
   "metadata": {},
   "outputs": [
    {
     "name": "stdout",
     "output_type": "stream",
     "text": [
      "(1, 4) (1, 4)\n"
     ]
    },
    {
     "data": {
      "text/plain": [
       "array([[ 45., -45., 135.,   0.]])"
      ]
     },
     "execution_count": 14,
     "metadata": {},
     "output_type": "execute_result"
    }
   ],
   "source": [
    "x = np.array([[[1,0,1], \n",
    "              [-1,0,1], \n",
    "              [0,1,-1],\n",
    "              [0,0,1]]])\n",
    "\n",
    "def normalize(x):\n",
    "    return x/np.linalg.norm(x, axis=-1, keepdims=True)\n",
    "\n",
    "def get_3d_angle(x, front= np.array([0,0,1]), cross=np.array([0,1,0])):\n",
    "    # need to check negative sign\n",
    "    # https://stackoverflow.com/questions/5188561/signed-angle-between-two-3d-vectors-with-same-origin-within-the-same-plane\n",
    "    # https://www.cuemath.com/geometry/angle-between-vectors/\n",
    "    \n",
    "    front = normalize(front)\n",
    "    x = normalize(x)\n",
    "    cosine = np.inner(x, front)\n",
    "    angle = np.arccos(cosine)\n",
    "    \n",
    "    # check negative angle by cross product\n",
    "    c = np.cross(front, x)\n",
    "    sign = np.inner(c, cross) < 0\n",
    "    np.negative(angle, where=sign, out=angle)\n",
    "    return angle\n",
    "\n",
    "get_3d_angle(x)/np.pi*180\n",
    "# np.rad2deg(angle_between(a,b))"
   ]
  },
  {
   "cell_type": "code",
   "execution_count": null,
   "id": "3eff7abb",
   "metadata": {},
   "outputs": [],
   "source": [
    "def rotate2d_by_angle(vector, theta):\n",
    "    rot = np.array([[cos(theta), -sin(theta)], [sin(theta), cos(theta)]])\n",
    "    return np.dot(rot, vector)"
   ]
  },
  {
   "cell_type": "code",
   "execution_count": 12,
   "id": "edec6627",
   "metadata": {},
   "outputs": [
    {
     "ename": "IndexError",
     "evalue": "index 2 is out of bounds for axis 0 with size 2",
     "output_type": "error",
     "traceback": [
      "\u001b[0;31m---------------------------------------------------------------------------\u001b[0m",
      "\u001b[0;31mIndexError\u001b[0m                                Traceback (most recent call last)",
      "Input \u001b[0;32mIn [12]\u001b[0m, in \u001b[0;36m<cell line: 10>\u001b[0;34m()\u001b[0m\n\u001b[1;32m      8\u001b[0m     \u001b[38;5;28mprint\u001b[39m(sin, a,b,c)\n\u001b[1;32m      9\u001b[0m     \u001b[38;5;28;01mreturn\u001b[39;00m np\u001b[38;5;241m.\u001b[39marcsin(sin)\n\u001b[0;32m---> 10\u001b[0m \u001b[43mrotation2d\u001b[49m\u001b[43m(\u001b[49m\u001b[43m[\u001b[49m\u001b[38;5;241;43m1\u001b[39;49m\u001b[43m,\u001b[49m\u001b[38;5;241;43m1\u001b[39;49m\u001b[43m]\u001b[49m\u001b[43m,\u001b[49m\u001b[43m[\u001b[49m\u001b[38;5;241;43m0\u001b[39;49m\u001b[43m,\u001b[49m\u001b[38;5;241;43m1\u001b[39;49m\u001b[43m]\u001b[49m\u001b[43m)\u001b[49m\n",
      "Input \u001b[0;32mIn [12]\u001b[0m, in \u001b[0;36mrotation2d\u001b[0;34m(a, b)\u001b[0m\n\u001b[1;32m      2\u001b[0m a \u001b[38;5;241m=\u001b[39m normalize(a)\n\u001b[1;32m      3\u001b[0m b \u001b[38;5;241m=\u001b[39m normalize(b)\n\u001b[0;32m----> 4\u001b[0m a[\u001b[38;5;241m2\u001b[39m] \u001b[38;5;241m=\u001b[39m \u001b[38;5;241m1\u001b[39m\n\u001b[1;32m      6\u001b[0m c \u001b[38;5;241m=\u001b[39m np\u001b[38;5;241m.\u001b[39mcross(a, b)\n\u001b[1;32m      7\u001b[0m sin \u001b[38;5;241m=\u001b[39m c\u001b[38;5;241m/\u001b[39m(a\u001b[38;5;241m*\u001b[39mb\u001b[38;5;241m+\u001b[39m\u001b[38;5;241m.1\u001b[39m)\n",
      "\u001b[0;31mIndexError\u001b[0m: index 2 is out of bounds for axis 0 with size 2"
     ]
    }
   ],
   "source": [
    "def rotation2d(a, b):\n",
    "    a = normalize(a)\n",
    "    b = normalize(b)\n",
    "    a[2] = 1\n",
    "    \n",
    "    c = np.cross(a, b)\n",
    "    sin = c/(a*b+.1)\n",
    "    print(sin, a,b,c)\n",
    "    return np.arcsin(sin)\n",
    "rotation2d([1,1],[0,1])"
   ]
  }
 ],
 "metadata": {
  "kernelspec": {
   "display_name": "motiondiffuse",
   "language": "python",
   "name": "motiondiffuse"
  },
  "language_info": {
   "codemirror_mode": {
    "name": "ipython",
    "version": 3
   },
   "file_extension": ".py",
   "mimetype": "text/x-python",
   "name": "python",
   "nbconvert_exporter": "python",
   "pygments_lexer": "ipython3",
   "version": "3.10.6"
  }
 },
 "nbformat": 4,
 "nbformat_minor": 5
}
